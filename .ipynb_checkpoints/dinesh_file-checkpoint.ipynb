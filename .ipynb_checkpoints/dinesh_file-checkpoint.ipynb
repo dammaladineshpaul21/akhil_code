{
 "cells": [
  {
   "cell_type": "code",
   "execution_count": 4,
   "id": "b4d03e69",
   "metadata": {},
   "outputs": [
    {
     "ename": "ModuleNotFoundError",
     "evalue": "No module named 'practice_file'",
     "output_type": "error",
     "traceback": [
      "\u001b[1;31m---------------------------------------------------------------------------\u001b[0m",
      "\u001b[1;31mModuleNotFoundError\u001b[0m                       Traceback (most recent call last)",
      "Cell \u001b[1;32mIn[4], line 1\u001b[0m\n\u001b[1;32m----> 1\u001b[0m \u001b[38;5;28;01mfrom\u001b[39;00m \u001b[38;5;21;01mpractice_file\u001b[39;00m\u001b[38;5;21;01m.\u001b[39;00m\u001b[38;5;21;01mipynb\u001b[39;00m \u001b[38;5;28;01mimport\u001b[39;00m new_function\n",
      "\u001b[1;31mModuleNotFoundError\u001b[0m: No module named 'practice_file'"
     ]
    }
   ],
   "source": [
    "from practice_file.ipynb import new_function"
   ]
  },
  {
   "cell_type": "code",
   "execution_count": 1,
   "id": "217f440f",
   "metadata": {},
   "outputs": [
    {
     "name": "stdout",
     "output_type": "stream",
     "text": [
      "35\n"
     ]
    }
   ],
   "source": [
    "def sum(*b):\n",
    "    c = 0\n",
    "    for i in b:\n",
    "        c = c+i\n",
    "    print(c)\n",
    "    \n",
    "    \n",
    "sum(5,6,7,8,9)"
   ]
  },
  {
   "cell_type": "code",
   "execution_count": null,
   "id": "9d760695",
   "metadata": {},
   "outputs": [],
   "source": []
  },
  {
   "cell_type": "code",
   "execution_count": 5,
   "id": "2224f8d7",
   "metadata": {},
   "outputs": [],
   "source": [
    "akh = \"my name is akhil\""
   ]
  }
 ],
 "metadata": {
  "kernelspec": {
   "display_name": "Python 3 (ipykernel)",
   "language": "python",
   "name": "python3"
  },
  "language_info": {
   "codemirror_mode": {
    "name": "ipython",
    "version": 3
   },
   "file_extension": ".py",
   "mimetype": "text/x-python",
   "name": "python",
   "nbconvert_exporter": "python",
   "pygments_lexer": "ipython3",
   "version": "3.11.2"
  }
 },
 "nbformat": 4,
 "nbformat_minor": 5
}
