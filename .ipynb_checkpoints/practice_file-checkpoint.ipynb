{
 "cells": [
  {
   "cell_type": "code",
   "execution_count": 1,
   "id": "2ff51d49",
   "metadata": {},
   "outputs": [],
   "source": [
    "user_name = \"Dammala4091\"\n",
    "Id_password = \"Dammala1245\""
   ]
  },
  {
   "cell_type": "code",
   "execution_count": 2,
   "id": "38fe81f6",
   "metadata": {},
   "outputs": [
    {
     "name": "stdout",
     "output_type": "stream",
     "text": [
      "D\n",
      "a\n",
      "m\n",
      "m\n",
      "a\n",
      "l\n",
      "a\n",
      "4\n",
      "0\n",
      "9\n",
      "1\n"
     ]
    }
   ],
   "source": [
    "for i in user_name:\n",
    "    print(i)"
   ]
  },
  {
   "cell_type": "code",
   "execution_count": 13,
   "id": "79ce92c7",
   "metadata": {},
   "outputs": [],
   "source": [
    "cont = 0\n",
    "for i in range(round(len(user_name)/2)):\n",
    "    if user_name[i] in Id_password:\n",
    "        cont = cont + 1"
   ]
  },
  {
   "cell_type": "code",
   "execution_count": 10,
   "id": "1f410db8",
   "metadata": {},
   "outputs": [
    {
     "data": {
      "text/plain": [
       "'D'"
      ]
     },
     "execution_count": 10,
     "metadata": {},
     "output_type": "execute_result"
    }
   ],
   "source": [
    "user_name = \"Dammala4091\"\n",
    "user_name[0]"
   ]
  },
  {
   "cell_type": "code",
   "execution_count": null,
   "id": "9cd2ad6a",
   "metadata": {},
   "outputs": [],
   "source": []
  }
 ],
 "metadata": {
  "kernelspec": {
   "display_name": "Python 3 (ipykernel)",
   "language": "python",
   "name": "python3"
  },
  "language_info": {
   "codemirror_mode": {
    "name": "ipython",
    "version": 3
   },
   "file_extension": ".py",
   "mimetype": "text/x-python",
   "name": "python",
   "nbconvert_exporter": "python",
   "pygments_lexer": "ipython3",
   "version": "3.11.2"
  }
 },
 "nbformat": 4,
 "nbformat_minor": 5
}
