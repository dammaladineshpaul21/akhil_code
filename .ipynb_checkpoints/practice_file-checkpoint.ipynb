{
 "cells": [
  {
   "cell_type": "code",
   "execution_count": 27,
   "id": "f552e383",
   "metadata": {},
   "outputs": [],
   "source": [
    "user_name = \"Dalammala\"\n",
    "Id_password = \"Komal\""
   ]
  },
  {
   "cell_type": "code",
   "execution_count": 28,
   "id": "48bc3597",
   "metadata": {},
   "outputs": [
    {
     "name": "stdout",
     "output_type": "stream",
     "text": [
      "False 3\n"
     ]
    }
   ],
   "source": [
    "cont = 0\n",
    "for i in range(round(len(user_name)/2)):\n",
    "    if user_name[i] in Id_password:\n",
    "        cont = cont + 1\n",
    "if round(len(user_name)/2) <= cont:\n",
    "    print(False, cont)\n",
    "else:\n",
    "    print(True, cont)"
   ]
  },
  {
   "cell_type": "code",
   "execution_count": null,
   "id": "880963f8",
   "metadata": {},
   "outputs": [],
   "source": [
    "Dalam"
   ]
  },
  {
   "cell_type": "code",
   "execution_count": 29,
   "id": "d53071a7",
   "metadata": {},
   "outputs": [],
   "source": [
    "user_name = \"Dalammala\""
   ]
  },
  {
   "cell_type": "code",
   "execution_count": 30,
   "id": "6c8e6732",
   "metadata": {},
   "outputs": [
    {
     "data": {
      "text/plain": [
       "{'D', 'a', 'l', 'm'}"
      ]
     },
     "execution_count": 30,
     "metadata": {},
     "output_type": "execute_result"
    }
   ],
   "source": [
    "set(user_name)"
   ]
  },
  {
   "cell_type": "code",
   "execution_count": 35,
   "id": "bf5bfa6e",
   "metadata": {},
   "outputs": [
    {
     "data": {
      "text/plain": [
       "4.9"
      ]
     },
     "execution_count": 35,
     "metadata": {},
     "output_type": "execute_result"
    }
   ],
   "source": [
    "abs(4.9)"
   ]
  },
  {
   "cell_type": "code",
   "execution_count": 37,
   "id": "eeed1a2e",
   "metadata": {},
   "outputs": [
    {
     "data": {
      "text/plain": [
       "['__add__',\n",
       " '__class__',\n",
       " '__contains__',\n",
       " '__delattr__',\n",
       " '__dir__',\n",
       " '__doc__',\n",
       " '__eq__',\n",
       " '__format__',\n",
       " '__ge__',\n",
       " '__getattribute__',\n",
       " '__getitem__',\n",
       " '__getnewargs__',\n",
       " '__getstate__',\n",
       " '__gt__',\n",
       " '__hash__',\n",
       " '__init__',\n",
       " '__init_subclass__',\n",
       " '__iter__',\n",
       " '__le__',\n",
       " '__len__',\n",
       " '__lt__',\n",
       " '__mod__',\n",
       " '__mul__',\n",
       " '__ne__',\n",
       " '__new__',\n",
       " '__reduce__',\n",
       " '__reduce_ex__',\n",
       " '__repr__',\n",
       " '__rmod__',\n",
       " '__rmul__',\n",
       " '__setattr__',\n",
       " '__sizeof__',\n",
       " '__str__',\n",
       " '__subclasshook__',\n",
       " 'capitalize',\n",
       " 'casefold',\n",
       " 'center',\n",
       " 'count',\n",
       " 'encode',\n",
       " 'endswith',\n",
       " 'expandtabs',\n",
       " 'find',\n",
       " 'format',\n",
       " 'format_map',\n",
       " 'index',\n",
       " 'isalnum',\n",
       " 'isalpha',\n",
       " 'isascii',\n",
       " 'isdecimal',\n",
       " 'isdigit',\n",
       " 'isidentifier',\n",
       " 'islower',\n",
       " 'isnumeric',\n",
       " 'isprintable',\n",
       " 'isspace',\n",
       " 'istitle',\n",
       " 'isupper',\n",
       " 'join',\n",
       " 'ljust',\n",
       " 'lower',\n",
       " 'lstrip',\n",
       " 'maketrans',\n",
       " 'partition',\n",
       " 'removeprefix',\n",
       " 'removesuffix',\n",
       " 'replace',\n",
       " 'rfind',\n",
       " 'rindex',\n",
       " 'rjust',\n",
       " 'rpartition',\n",
       " 'rsplit',\n",
       " 'rstrip',\n",
       " 'split',\n",
       " 'splitlines',\n",
       " 'startswith',\n",
       " 'strip',\n",
       " 'swapcase',\n",
       " 'title',\n",
       " 'translate',\n",
       " 'upper',\n",
       " 'zfill']"
      ]
     },
     "execution_count": 37,
     "metadata": {},
     "output_type": "execute_result"
    }
   ],
   "source": [
    "dir(str)"
   ]
  },
  {
   "cell_type": "code",
   "execution_count": 38,
   "id": "3ef3c5d3",
   "metadata": {},
   "outputs": [
    {
     "name": "stdout",
     "output_type": "stream",
     "text": [
      "enter username = akhil7585\n",
      "akhil7585 your OTP is 8723\n",
      "enter password = dinesh1234\n",
      "enter the akhil7585 OTP = 8723\n",
      "{'akhil7585': 'dinesh1234'}\n"
     ]
    }
   ],
   "source": [
    "import random\n",
    "\n",
    "user_name = []\n",
    "Id_password = []\n",
    "\n",
    "\n",
    "i = True\n",
    "while i:\n",
    "\tLdap = input(\"enter username = \")\n",
    "\tif len(Ldap) >= 8:\n",
    "\t\tif Ldap.isalpha() == Ldap.isnumeric():\n",
    "\t\t\tif Ldap not in user_name:\n",
    "\t\t\t\tuser_name.append(Ldap)\n",
    "\t\t\t\trandom_number = random.randint(1000,9999)\n",
    "\t\t\t\tprint(f\"{Ldap} your OTP is {random_number}\")\n",
    "\t\t\t\tj = True\n",
    "\t\t\t\twhile j:\n",
    "\t\t\t\t\tpswd = input(\"enter password = \")\n",
    "\t\t\t\t\tif len(pswd) >= 8:  \n",
    "\t\t\t\t\t\tif pswd.isalpha() == pswd.isnumeric():\n",
    "\t\t\t\t\t\t\tLdap_OTP = int(input(f\"enter the {Ldap} OTP = \"))\n",
    "\t\t\t\t\t\t\tif random_number == Ldap_OTP:\n",
    "\t\t\t\t\t\t\t\tj = False\n",
    "\t\t\t\t\t\t\t\tcount = 0\n",
    "\t\t\t\t\t\t\t\tfor i in range(len(set(user_name))):\n",
    "\t\t\t\t\t\t\t\t\tif list(set(user_name))[i] in Id_password:\n",
    "\t\t\t\t\t\t\t\t\t\tcount = count + 1\n",
    "\t\t\t\t\t\t\t\tif count < len(set(user_name)):\n",
    "\t\t\t\t\t\t\t\t\tId_password.append(pswd)\n",
    "\t\t\t\t\t\t\t\telse:\n",
    "\t\t\t\t\t\t\t\t\tprint(\"password should not match with half of username letters\")\n",
    "\t\t\t\t\t\t\t\t\tget_user_status = input(\"Do you want to contiue still (yes/no) = \")\n",
    "\t\t\t\t\t\t\t\t\tif get_user_status.lower() == \"no\":\n",
    "\t\t\t\t\t\t\t\t\t\ti = False\n",
    "\t\t\t\t\t\t\telse:\n",
    "\t\t\t\t\t\t\t\tprint(\"Invalid OTP\")\n",
    "\n",
    "\t\t\t\t\t\telse:\n",
    "\t\t\t\t\t\t\tprint(\"password contain atleast one letter and number\")\n",
    "\t\t\t\t\telse:\n",
    "\t\t\t\t\t\tprint(\"password should be greater than 8 letters along with atleast one letter and number\")\n",
    "\t\t\telse:\n",
    "\t\t\t\tprint(\"username is already exist\")\n",
    "\t\telse:\n",
    "\t\t\tprint(\"username contain atleast one letter and number\")\n",
    "\telse:\n",
    "\t\tprint(\"username should be greater than 8 letters along with atleast one letter and number\")\n",
    "\n",
    "\n",
    "\n",
    "my_room = {}\n",
    "\n",
    "for i in range(len(user_name)):\n",
    "    my_room[user_name[i]] = Id_password[i]\n",
    "\n",
    "print(my_room)\n",
    "\n",
    "\n"
   ]
  },
  {
   "cell_type": "code",
   "execution_count": 4,
   "id": "7df08e84",
   "metadata": {},
   "outputs": [
    {
     "name": "stdout",
     "output_type": "stream",
     "text": [
      "dict_values([40, 340, 130, 205, 420])\n"
     ]
    }
   ],
   "source": [
    "family = {\"shiva\":40, \"vijaya\":340, \"vikas\":130, \"akhil\":205, \"chintu\":420}\n",
    "print(family.values())"
   ]
  },
  {
   "cell_type": "code",
   "execution_count": 10,
   "id": "49bb546a",
   "metadata": {},
   "outputs": [
    {
     "name": "stdout",
     "output_type": "stream",
     "text": [
      "40\n",
      "130\n",
      "205\n",
      "340\n",
      "420\n"
     ]
    }
   ],
   "source": [
    "for i in sorted(family.values()):\n",
    "    print(i)"
   ]
  },
  {
   "cell_type": "code",
   "execution_count": 22,
   "id": "30b46b58",
   "metadata": {},
   "outputs": [],
   "source": [
    "lst_val = list(family.keys())"
   ]
  },
  {
   "cell_type": "code",
   "execution_count": 23,
   "id": "ea072900",
   "metadata": {},
   "outputs": [
    {
     "data": {
      "text/plain": [
       "['shiva', 'vijaya', 'vikas', 'akhil', 'chintu']"
      ]
     },
     "execution_count": 23,
     "metadata": {},
     "output_type": "execute_result"
    }
   ],
   "source": [
    "lst_val"
   ]
  },
  {
   "cell_type": "code",
   "execution_count": 21,
   "id": "00c49168",
   "metadata": {},
   "outputs": [
    {
     "data": {
      "text/plain": [
       "140733194927304"
      ]
     },
     "execution_count": 21,
     "metadata": {},
     "output_type": "execute_result"
    }
   ],
   "source": [
    "id(lst_val.sort())"
   ]
  },
  {
   "cell_type": "code",
   "execution_count": 20,
   "id": "7cc58965",
   "metadata": {},
   "outputs": [
    {
     "data": {
      "text/plain": [
       "2015701360448"
      ]
     },
     "execution_count": 20,
     "metadata": {},
     "output_type": "execute_result"
    }
   ],
   "source": [
    "id(lst_val)"
   ]
  },
  {
   "cell_type": "code",
   "execution_count": 24,
   "id": "c2dfc064",
   "metadata": {},
   "outputs": [],
   "source": [
    "myDict = {'ravi': 10, 'rajnish': 9,\n",
    "        'sanjeev': 15, 'yash': 2, 'suraj': 32}"
   ]
  },
  {
   "cell_type": "code",
   "execution_count": 38,
   "id": "309b4372",
   "metadata": {},
   "outputs": [
    {
     "data": {
      "text/plain": [
       "10"
      ]
     },
     "execution_count": 38,
     "metadata": {},
     "output_type": "execute_result"
    }
   ],
   "source": [
    "myDict['ravi']"
   ]
  },
  {
   "cell_type": "code",
   "execution_count": 115,
   "id": "ed6584d3",
   "metadata": {},
   "outputs": [],
   "source": [
    "myDict = {'ravi': 10, \"Komal\":2, 'rajnish': 9,\n",
    "        'sanjeev': 15, 'suraj': 32}\n",
    "sorted_dict = {}\n",
    "\n",
    "for i, j in sorted(myDict.items()):\n",
    "    for j in myDict.values():\n",
    "        if myDict[i] == j:\n",
    "            sorted_dict[i] = j\n",
    "        "
   ]
  },
  {
   "cell_type": "code",
   "execution_count": 116,
   "id": "64b275b6",
   "metadata": {},
   "outputs": [
    {
     "data": {
      "text/plain": [
       "{'Komal': 2, 'rajnish': 9, 'ravi': 10, 'sanjeev': 15, 'suraj': 32}"
      ]
     },
     "execution_count": 116,
     "metadata": {},
     "output_type": "execute_result"
    }
   ],
   "source": [
    "sorted_dict"
   ]
  },
  {
   "cell_type": "code",
   "execution_count": 99,
   "id": "24375756",
   "metadata": {},
   "outputs": [
    {
     "data": {
      "text/plain": [
       "[('rajnish', 9), ('ravi', 10), ('sanjeev', 15), ('suraj', 32), ('yash', 2)]"
      ]
     },
     "execution_count": 99,
     "metadata": {},
     "output_type": "execute_result"
    }
   ],
   "source": [
    "sorted(myDict.items())"
   ]
  },
  {
   "cell_type": "code",
   "execution_count": 105,
   "id": "cecdf585",
   "metadata": {},
   "outputs": [
    {
     "data": {
      "text/plain": [
       "[2, 9, 10, 15, 32]"
      ]
     },
     "execution_count": 105,
     "metadata": {},
     "output_type": "execute_result"
    }
   ],
   "source": [
    "sorted(myDict.values())"
   ]
  },
  {
   "cell_type": "code",
   "execution_count": 127,
   "id": "69a845aa",
   "metadata": {},
   "outputs": [],
   "source": [
    "sorted_dict = {}\n",
    "for i, j in sorted(myDict.items()):\n",
    "    for j in myDict.values():\n",
    "        if myDict[i] == j:\n",
    "            sorted_dict[i] = j"
   ]
  },
  {
   "cell_type": "code",
   "execution_count": 129,
   "id": "cbfe2f8a",
   "metadata": {},
   "outputs": [
    {
     "data": {
      "text/plain": [
       "{'Komal': 2, 'rajnish': 9, 'ravi': 10, 'sanjeev': 15, 'suraj': 32}"
      ]
     },
     "execution_count": 129,
     "metadata": {},
     "output_type": "execute_result"
    }
   ],
   "source": [
    "sorted_dict"
   ]
  },
  {
   "cell_type": "code",
   "execution_count": 125,
   "id": "742b46e8",
   "metadata": {},
   "outputs": [
    {
     "data": {
      "text/plain": [
       "2"
      ]
     },
     "execution_count": 125,
     "metadata": {},
     "output_type": "execute_result"
    }
   ],
   "source": [
    "myDict[\"Komal\"]"
   ]
  },
  {
   "cell_type": "code",
   "execution_count": 130,
   "id": "8644461b",
   "metadata": {},
   "outputs": [
    {
     "data": {
      "text/plain": [
       "[('Komal', 2), ('rajnish', 9), ('ravi', 10), ('sanjeev', 15), ('suraj', 32)]"
      ]
     },
     "execution_count": 130,
     "metadata": {},
     "output_type": "execute_result"
    }
   ],
   "source": [
    "sorted(myDict.items())"
   ]
  },
  {
   "cell_type": "code",
   "execution_count": 131,
   "id": "01e4bc83",
   "metadata": {},
   "outputs": [
    {
     "name": "stdout",
     "output_type": "stream",
     "text": [
      "0\n",
      "1\n",
      "2\n",
      "3\n",
      "4\n",
      "5\n",
      "6\n",
      "7\n",
      "8\n",
      "9\n"
     ]
    }
   ],
   "source": [
    "for i in range(10):\n",
    "    print(i)"
   ]
  },
  {
   "cell_type": "code",
   "execution_count": 134,
   "id": "f55befac",
   "metadata": {},
   "outputs": [],
   "source": [
    "my_num = [i*2 for i in range(10)]"
   ]
  },
  {
   "cell_type": "code",
   "execution_count": 135,
   "id": "b92e4cfa",
   "metadata": {},
   "outputs": [
    {
     "data": {
      "text/plain": [
       "[0, 2, 4, 6, 8, 10, 12, 14, 16, 18]"
      ]
     },
     "execution_count": 135,
     "metadata": {},
     "output_type": "execute_result"
    }
   ],
   "source": [
    "my_num"
   ]
  },
  {
   "cell_type": "code",
   "execution_count": 136,
   "id": "47737cfa",
   "metadata": {},
   "outputs": [],
   "source": [
    "my_dict = {i:j for i, j in myDict.items()}"
   ]
  },
  {
   "cell_type": "code",
   "execution_count": 137,
   "id": "f12ce77f",
   "metadata": {},
   "outputs": [
    {
     "data": {
      "text/plain": [
       "{'ravi': 10, 'Komal': 2, 'rajnish': 9, 'sanjeev': 15, 'suraj': 32}"
      ]
     },
     "execution_count": 137,
     "metadata": {},
     "output_type": "execute_result"
    }
   ],
   "source": [
    "my_dict"
   ]
  },
  {
   "cell_type": "code",
   "execution_count": 138,
   "id": "a38ab0a8",
   "metadata": {},
   "outputs": [
    {
     "name": "stdout",
     "output_type": "stream",
     "text": [
      "ravi 10\n",
      "Komal 2\n",
      "rajnish 9\n",
      "sanjeev 15\n",
      "suraj 32\n"
     ]
    }
   ],
   "source": [
    "for i, j in myDict.items():\n",
    "    print(i, j)"
   ]
  },
  {
   "cell_type": "code",
   "execution_count": 139,
   "id": "92b626fb",
   "metadata": {},
   "outputs": [],
   "source": [
    "lst = [\"DSFdsaf\", \"fsadfdsf\", \"dfdsfsdaf\"]"
   ]
  },
  {
   "cell_type": "code",
   "execution_count": 140,
   "id": "90effc52",
   "metadata": {},
   "outputs": [],
   "source": [
    "my_for = [i for i in lst]"
   ]
  },
  {
   "cell_type": "code",
   "execution_count": 142,
   "id": "5de50e1b",
   "metadata": {},
   "outputs": [
    {
     "data": {
      "text/plain": [
       "2015701137152"
      ]
     },
     "execution_count": 142,
     "metadata": {},
     "output_type": "execute_result"
    }
   ],
   "source": [
    "id(my_for)"
   ]
  },
  {
   "cell_type": "code",
   "execution_count": 143,
   "id": "e344cfcc",
   "metadata": {},
   "outputs": [
    {
     "data": {
      "text/plain": [
       "2015701127104"
      ]
     },
     "execution_count": 143,
     "metadata": {},
     "output_type": "execute_result"
    }
   ],
   "source": [
    "id(lst)"
   ]
  },
  {
   "cell_type": "code",
   "execution_count": 144,
   "id": "c63b76eb",
   "metadata": {},
   "outputs": [],
   "source": [
    "tiup = [(\"Munna\", 23), (\"Dammala\", 100)]"
   ]
  },
  {
   "cell_type": "code",
   "execution_count": 145,
   "id": "37d30e1c",
   "metadata": {},
   "outputs": [],
   "source": [
    "buy_fdf = {i:j for i, j in tiup}"
   ]
  },
  {
   "cell_type": "code",
   "execution_count": 146,
   "id": "de6b44b0",
   "metadata": {},
   "outputs": [
    {
     "data": {
      "text/plain": [
       "{'Munna': 23, 'Dammala': 100}"
      ]
     },
     "execution_count": 146,
     "metadata": {},
     "output_type": "execute_result"
    }
   ],
   "source": [
    "buy_fdf"
   ]
  },
  {
   "cell_type": "code",
   "execution_count": 150,
   "id": "0471da97",
   "metadata": {},
   "outputs": [],
   "source": [
    "myDict = {'ravi': 10, \"Komal\":15, 'rajnish': 9,\n",
    "        'sanjeev': 5, 'suraj': 32}"
   ]
  },
  {
   "cell_type": "code",
   "execution_count": 151,
   "id": "35e2f6f5",
   "metadata": {},
   "outputs": [],
   "source": [
    "myDict2 = {i:j for i, j in sorted(myDict.items())}"
   ]
  },
  {
   "cell_type": "code",
   "execution_count": 159,
   "id": "abb53e94",
   "metadata": {},
   "outputs": [
    {
     "data": {
      "text/plain": [
       "{'Komal': 15, 'rajnish': 9, 'ravi': 10, 'sanjeev': 5, 'suraj': 32}"
      ]
     },
     "execution_count": 159,
     "metadata": {},
     "output_type": "execute_result"
    }
   ],
   "source": [
    "myDict2"
   ]
  },
  {
   "cell_type": "code",
   "execution_count": 160,
   "id": "18ee778e",
   "metadata": {},
   "outputs": [],
   "source": [
    "dct_2 = {}\n",
    "for j in sorted(myDict2.keys()):\n",
    "    for i, k in myDict2.items():\n",
    "        if myDict2[i] == j:\n",
    "            dct_2[i] = j\n",
    "            "
   ]
  },
  {
   "cell_type": "code",
   "execution_count": 161,
   "id": "8c534dde",
   "metadata": {},
   "outputs": [
    {
     "data": {
      "text/plain": [
       "{}"
      ]
     },
     "execution_count": 161,
     "metadata": {},
     "output_type": "execute_result"
    }
   ],
   "source": [
    "dct_2"
   ]
  },
  {
   "cell_type": "code",
   "execution_count": 162,
   "id": "9fefdc75",
   "metadata": {},
   "outputs": [],
   "source": [
    "myDict = {'ravi': 10, \"Komal\":15, 'rajnish': 9,\n",
    "        'sanjeev': 5, 'suraj': 32}"
   ]
  },
  {
   "cell_type": "code",
   "execution_count": 163,
   "id": "9542ae73",
   "metadata": {},
   "outputs": [
    {
     "data": {
      "text/plain": [
       "dict_items([('ravi', 10), ('Komal', 15), ('rajnish', 9), ('sanjeev', 5), ('suraj', 32)])"
      ]
     },
     "execution_count": 163,
     "metadata": {},
     "output_type": "execute_result"
    }
   ],
   "source": [
    "myDict.items()"
   ]
  },
  {
   "cell_type": "code",
   "execution_count": 166,
   "id": "05a07abd",
   "metadata": {},
   "outputs": [
    {
     "data": {
      "text/plain": [
       "dict_items"
      ]
     },
     "execution_count": 166,
     "metadata": {},
     "output_type": "execute_result"
    }
   ],
   "source": [
    "type(myDict.items())"
   ]
  },
  {
   "cell_type": "code",
   "execution_count": 168,
   "id": "36b613da",
   "metadata": {},
   "outputs": [
    {
     "data": {
      "text/plain": [
       "[('Komal', 15), ('rajnish', 9), ('ravi', 10), ('sanjeev', 5), ('suraj', 32)]"
      ]
     },
     "execution_count": 168,
     "metadata": {},
     "output_type": "execute_result"
    }
   ],
   "source": [
    "sorted(myDict.items())"
   ]
  },
  {
   "cell_type": "code",
   "execution_count": 169,
   "id": "c52bf58f",
   "metadata": {},
   "outputs": [],
   "source": [
    "dct_2 = {}"
   ]
  },
  {
   "cell_type": "code",
   "execution_count": 170,
   "id": "61495e62",
   "metadata": {},
   "outputs": [],
   "source": [
    "myDict2 = {i:j for i, j in sorted(myDict.items())}"
   ]
  },
  {
   "cell_type": "code",
   "execution_count": 171,
   "id": "1a33bc55",
   "metadata": {},
   "outputs": [
    {
     "data": {
      "text/plain": [
       "{'Komal': 15, 'rajnish': 9, 'ravi': 10, 'sanjeev': 5, 'suraj': 32}"
      ]
     },
     "execution_count": 171,
     "metadata": {},
     "output_type": "execute_result"
    }
   ],
   "source": [
    "myDict2"
   ]
  },
  {
   "cell_type": "code",
   "execution_count": 173,
   "id": "01317a84",
   "metadata": {},
   "outputs": [
    {
     "data": {
      "text/plain": [
       "[5, 9, 10, 15, 32]"
      ]
     },
     "execution_count": 173,
     "metadata": {},
     "output_type": "execute_result"
    }
   ],
   "source": [
    "sorted(myDict2.values())"
   ]
  },
  {
   "cell_type": "code",
   "execution_count": 174,
   "id": "f81cfd23",
   "metadata": {},
   "outputs": [],
   "source": [
    "myDict = {'ravi': 10, \"Komal\":15, 'rajnish': 9,\n",
    "        'sanjeev': 5, 'suraj': 32}\n"
   ]
  },
  {
   "cell_type": "code",
   "execution_count": 176,
   "id": "90cbc572",
   "metadata": {},
   "outputs": [],
   "source": [
    "myDict2 = {i, j in sorted(myDict.items())}"
   ]
  },
  {
   "cell_type": "code",
   "execution_count": 177,
   "id": "308beee6",
   "metadata": {},
   "outputs": [
    {
     "data": {
      "text/plain": [
       "{False, 'suraj'}"
      ]
     },
     "execution_count": 177,
     "metadata": {},
     "output_type": "execute_result"
    }
   ],
   "source": [
    "myDict2"
   ]
  },
  {
   "cell_type": "code",
   "execution_count": 178,
   "id": "ddcd5042",
   "metadata": {},
   "outputs": [
    {
     "data": {
      "text/plain": [
       "['__class__',\n",
       " '__class_getitem__',\n",
       " '__contains__',\n",
       " '__delattr__',\n",
       " '__delitem__',\n",
       " '__dir__',\n",
       " '__doc__',\n",
       " '__eq__',\n",
       " '__format__',\n",
       " '__ge__',\n",
       " '__getattribute__',\n",
       " '__getitem__',\n",
       " '__getstate__',\n",
       " '__gt__',\n",
       " '__hash__',\n",
       " '__init__',\n",
       " '__init_subclass__',\n",
       " '__ior__',\n",
       " '__iter__',\n",
       " '__le__',\n",
       " '__len__',\n",
       " '__lt__',\n",
       " '__ne__',\n",
       " '__new__',\n",
       " '__or__',\n",
       " '__reduce__',\n",
       " '__reduce_ex__',\n",
       " '__repr__',\n",
       " '__reversed__',\n",
       " '__ror__',\n",
       " '__setattr__',\n",
       " '__setitem__',\n",
       " '__sizeof__',\n",
       " '__str__',\n",
       " '__subclasshook__',\n",
       " 'clear',\n",
       " 'copy',\n",
       " 'fromkeys',\n",
       " 'get',\n",
       " 'items',\n",
       " 'keys',\n",
       " 'pop',\n",
       " 'popitem',\n",
       " 'setdefault',\n",
       " 'update',\n",
       " 'values']"
      ]
     },
     "execution_count": 178,
     "metadata": {},
     "output_type": "execute_result"
    }
   ],
   "source": [
    "dir(dict)"
   ]
  },
  {
   "cell_type": "code",
   "execution_count": 180,
   "id": "dfb7e39f",
   "metadata": {},
   "outputs": [],
   "source": [
    "myDict = {'ravi': 10, \"Komal\":15, 'rajnish': 9, 'sanjeev': 5, 'suraj': 32}"
   ]
  },
  {
   "cell_type": "code",
   "execution_count": 181,
   "id": "6279a196",
   "metadata": {},
   "outputs": [
    {
     "data": {
      "text/plain": [
       "{'ravi': 10, 'Komal': 15, 'rajnish': 9, 'sanjeev': 5, 'suraj': 32}"
      ]
     },
     "execution_count": 181,
     "metadata": {},
     "output_type": "execute_result"
    }
   ],
   "source": [
    "myDict"
   ]
  },
  {
   "cell_type": "code",
   "execution_count": 186,
   "id": "e514e3c7",
   "metadata": {},
   "outputs": [
    {
     "data": {
      "text/plain": [
       "15"
      ]
     },
     "execution_count": 186,
     "metadata": {},
     "output_type": "execute_result"
    }
   ],
   "source": [
    "myDict.get(\"Komal\")"
   ]
  },
  {
   "cell_type": "code",
   "execution_count": 4,
   "id": "ba2dbfe4",
   "metadata": {},
   "outputs": [],
   "source": [
    "room = {\"akhil\" : 1, \"jittu\" : 2, \"charan\" : 3, \"shanmukh\" : 4}"
   ]
  },
  {
   "cell_type": "code",
   "execution_count": 5,
   "id": "f88f644c",
   "metadata": {},
   "outputs": [
    {
     "data": {
      "text/plain": [
       "{'akhil': 1, 'jittu': 2, 'charan': 3, 'shanmukh': 4}"
      ]
     },
     "execution_count": 5,
     "metadata": {},
     "output_type": "execute_result"
    }
   ],
   "source": [
    "room"
   ]
  },
  {
   "cell_type": "code",
   "execution_count": 6,
   "id": "3a1db979",
   "metadata": {},
   "outputs": [],
   "source": [
    "room.get(\"dinesh\")"
   ]
  },
  {
   "cell_type": "code",
   "execution_count": null,
   "id": "22ffe5a5",
   "metadata": {},
   "outputs": [],
   "source": []
  },
  {
   "cell_type": "code",
   "execution_count": 7,
   "id": "47039b94",
   "metadata": {},
   "outputs": [],
   "source": [
    "room[\"dinesh\"] = 6"
   ]
  },
  {
   "cell_type": "code",
   "execution_count": 8,
   "id": "4108f360",
   "metadata": {},
   "outputs": [
    {
     "data": {
      "text/plain": [
       "{'akhil': 1, 'jittu': 2, 'charan': 3, 'shanmukh': 4, 'dinesh': 6}"
      ]
     },
     "execution_count": 8,
     "metadata": {},
     "output_type": "execute_result"
    }
   ],
   "source": [
    "room"
   ]
  },
  {
   "cell_type": "code",
   "execution_count": 9,
   "id": "63fbbbfd",
   "metadata": {},
   "outputs": [
    {
     "data": {
      "text/plain": [
       "dict_items([('akhil', 1), ('jittu', 2), ('charan', 3), ('shanmukh', 4), ('dinesh', 6)])"
      ]
     },
     "execution_count": 9,
     "metadata": {},
     "output_type": "execute_result"
    }
   ],
   "source": [
    "room.items()"
   ]
  },
  {
   "cell_type": "code",
   "execution_count": 10,
   "id": "bf669df9",
   "metadata": {},
   "outputs": [
    {
     "data": {
      "text/plain": [
       "['__add__',\n",
       " '__class__',\n",
       " '__contains__',\n",
       " '__delattr__',\n",
       " '__dir__',\n",
       " '__doc__',\n",
       " '__eq__',\n",
       " '__format__',\n",
       " '__ge__',\n",
       " '__getattribute__',\n",
       " '__getitem__',\n",
       " '__getnewargs__',\n",
       " '__getstate__',\n",
       " '__gt__',\n",
       " '__hash__',\n",
       " '__init__',\n",
       " '__init_subclass__',\n",
       " '__iter__',\n",
       " '__le__',\n",
       " '__len__',\n",
       " '__lt__',\n",
       " '__mod__',\n",
       " '__mul__',\n",
       " '__ne__',\n",
       " '__new__',\n",
       " '__reduce__',\n",
       " '__reduce_ex__',\n",
       " '__repr__',\n",
       " '__rmod__',\n",
       " '__rmul__',\n",
       " '__setattr__',\n",
       " '__sizeof__',\n",
       " '__str__',\n",
       " '__subclasshook__',\n",
       " 'capitalize',\n",
       " 'casefold',\n",
       " 'center',\n",
       " 'count',\n",
       " 'encode',\n",
       " 'endswith',\n",
       " 'expandtabs',\n",
       " 'find',\n",
       " 'format',\n",
       " 'format_map',\n",
       " 'index',\n",
       " 'isalnum',\n",
       " 'isalpha',\n",
       " 'isascii',\n",
       " 'isdecimal',\n",
       " 'isdigit',\n",
       " 'isidentifier',\n",
       " 'islower',\n",
       " 'isnumeric',\n",
       " 'isprintable',\n",
       " 'isspace',\n",
       " 'istitle',\n",
       " 'isupper',\n",
       " 'join',\n",
       " 'ljust',\n",
       " 'lower',\n",
       " 'lstrip',\n",
       " 'maketrans',\n",
       " 'partition',\n",
       " 'removeprefix',\n",
       " 'removesuffix',\n",
       " 'replace',\n",
       " 'rfind',\n",
       " 'rindex',\n",
       " 'rjust',\n",
       " 'rpartition',\n",
       " 'rsplit',\n",
       " 'rstrip',\n",
       " 'split',\n",
       " 'splitlines',\n",
       " 'startswith',\n",
       " 'strip',\n",
       " 'swapcase',\n",
       " 'title',\n",
       " 'translate',\n",
       " 'upper',\n",
       " 'zfill']"
      ]
     },
     "execution_count": 10,
     "metadata": {},
     "output_type": "execute_result"
    }
   ],
   "source": [
    "dir(str)"
   ]
  },
  {
   "cell_type": "code",
   "execution_count": 14,
   "id": "5649c7d6",
   "metadata": {},
   "outputs": [],
   "source": [
    "name = [\"munna\", \"Dammala\", \"Komal\", \"Akhil\", \"Chanduuu\"]"
   ]
  },
  {
   "cell_type": "code",
   "execution_count": 20,
   "id": "bab57dc0",
   "metadata": {},
   "outputs": [],
   "source": [
    "len_name = []"
   ]
  },
  {
   "cell_type": "code",
   "execution_count": 21,
   "id": "56b540da",
   "metadata": {},
   "outputs": [],
   "source": [
    "for i in name:\n",
    "    len_name.append(len(i))"
   ]
  },
  {
   "cell_type": "code",
   "execution_count": 22,
   "id": "011e4a5f",
   "metadata": {},
   "outputs": [
    {
     "data": {
      "text/plain": [
       "[5, 7, 5, 5, 8]"
      ]
     },
     "execution_count": 22,
     "metadata": {},
     "output_type": "execute_result"
    }
   ],
   "source": [
    "len_name"
   ]
  },
  {
   "cell_type": "code",
   "execution_count": 23,
   "id": "7a6390a9",
   "metadata": {},
   "outputs": [
    {
     "data": {
      "text/plain": [
       "<zip at 0x130284b27c0>"
      ]
     },
     "execution_count": 23,
     "metadata": {},
     "output_type": "execute_result"
    }
   ],
   "source": [
    "zip(name, len_name)"
   ]
  },
  {
   "cell_type": "code",
   "execution_count": 95,
   "id": "d922b65c",
   "metadata": {
    "scrolled": true
   },
   "outputs": [
    {
     "data": {
      "text/plain": [
       "{'munna': 5, 'Dammala': 7, 'Komal': 5, 'Akhil': 5, 'Chanduuu': 8}"
      ]
     },
     "execution_count": 95,
     "metadata": {},
     "output_type": "execute_result"
    }
   ],
   "source": [
    "dict(zip(name, len_name))"
   ]
  },
  {
   "cell_type": "code",
   "execution_count": 92,
   "id": "1ca76ea4",
   "metadata": {},
   "outputs": [
    {
     "data": {
      "text/plain": [
       "[('Akhil', 5), ('Chanduuu', 8), ('Dammala', 7), ('Komal', 5), ('munna', 5)]"
      ]
     },
     "execution_count": 92,
     "metadata": {},
     "output_type": "execute_result"
    }
   ],
   "source": [
    "sorted(dict(zip(name, len_name)).items())"
   ]
  },
  {
   "cell_type": "code",
   "execution_count": 26,
   "id": "2b682db8",
   "metadata": {},
   "outputs": [],
   "source": [
    "simple = {}\n",
    "for i, j in list(zip(name, len_name)):\n",
    "    simple.setdefault(i, j)"
   ]
  },
  {
   "cell_type": "code",
   "execution_count": 27,
   "id": "4001a30e",
   "metadata": {},
   "outputs": [
    {
     "data": {
      "text/plain": [
       "{'munna': 5, 'Dammala': 7, 'Komal': 5, 'Akhil': 5, 'Chanduuu': 8}"
      ]
     },
     "execution_count": 27,
     "metadata": {},
     "output_type": "execute_result"
    }
   ],
   "source": [
    "simple"
   ]
  },
  {
   "cell_type": "code",
   "execution_count": 31,
   "id": "7c6e9852",
   "metadata": {},
   "outputs": [
    {
     "data": {
      "text/plain": [
       "['Akhil', 'Chanduuu', 'Dammala', 'Komal', 'munna']"
      ]
     },
     "execution_count": 31,
     "metadata": {},
     "output_type": "execute_result"
    }
   ],
   "source": [
    "sorted({i:j for i, j in list(zip(name, len_name))})"
   ]
  },
  {
   "cell_type": "code",
   "execution_count": 30,
   "id": "085d2442",
   "metadata": {},
   "outputs": [
    {
     "data": {
      "text/plain": [
       "['munna', 'Dammala', 'Komal', 'Akhil', 'Chanduuu']"
      ]
     },
     "execution_count": 30,
     "metadata": {},
     "output_type": "execute_result"
    }
   ],
   "source": [
    "[i for i in name]"
   ]
  },
  {
   "cell_type": "code",
   "execution_count": 23,
   "id": "27d931be",
   "metadata": {},
   "outputs": [],
   "source": [
    "names = [\"gautham\", \"ajay\", \"surya\", \"chandra\"]"
   ]
  },
  {
   "cell_type": "code",
   "execution_count": 24,
   "id": "7d7023bc",
   "metadata": {},
   "outputs": [],
   "source": [
    "marks = [350, 520, 400, 480]"
   ]
  },
  {
   "cell_type": "code",
   "execution_count": 25,
   "id": "af4e2a29",
   "metadata": {
    "scrolled": true
   },
   "outputs": [
    {
     "data": {
      "text/plain": [
       "[350, 520, 400, 480]"
      ]
     },
     "execution_count": 25,
     "metadata": {},
     "output_type": "execute_result"
    }
   ],
   "source": [
    "marks"
   ]
  },
  {
   "cell_type": "code",
   "execution_count": 36,
   "id": "d70485f3",
   "metadata": {},
   "outputs": [],
   "source": [
    "sheet = dict(zip(names, marks))"
   ]
  },
  {
   "cell_type": "code",
   "execution_count": 37,
   "id": "6b8fa3f2",
   "metadata": {},
   "outputs": [
    {
     "data": {
      "text/plain": [
       "{'gautham': 350, 'ajay': 520, 'surya': 400, 'chandra': 480}"
      ]
     },
     "execution_count": 37,
     "metadata": {},
     "output_type": "execute_result"
    }
   ],
   "source": [
    "sheet"
   ]
  },
  {
   "cell_type": "code",
   "execution_count": 42,
   "id": "87ebbbf7",
   "metadata": {},
   "outputs": [
    {
     "data": {
      "text/plain": [
       "[('ajay', 520), ('chandra', 480), ('gautham', 350), ('surya', 400)]"
      ]
     },
     "execution_count": 42,
     "metadata": {},
     "output_type": "execute_result"
    }
   ],
   "source": [
    "sorted((sheet).items())"
   ]
  },
  {
   "cell_type": "code",
   "execution_count": null,
   "id": "a75c0c09",
   "metadata": {},
   "outputs": [],
   "source": []
  },
  {
   "cell_type": "code",
   "execution_count": 50,
   "id": "0445f3e4",
   "metadata": {},
   "outputs": [
    {
     "data": {
      "text/plain": [
       "['BPF',\n",
       " 'LOG4',\n",
       " 'NV_MAGICCONST',\n",
       " 'RECIP_BPF',\n",
       " 'Random',\n",
       " 'SG_MAGICCONST',\n",
       " 'SystemRandom',\n",
       " 'TWOPI',\n",
       " '_ONE',\n",
       " '_Sequence',\n",
       " '_Set',\n",
       " '__all__',\n",
       " '__builtins__',\n",
       " '__cached__',\n",
       " '__doc__',\n",
       " '__file__',\n",
       " '__loader__',\n",
       " '__name__',\n",
       " '__package__',\n",
       " '__spec__',\n",
       " '_accumulate',\n",
       " '_acos',\n",
       " '_bisect',\n",
       " '_ceil',\n",
       " '_cos',\n",
       " '_e',\n",
       " '_exp',\n",
       " '_floor',\n",
       " '_index',\n",
       " '_inst',\n",
       " '_isfinite',\n",
       " '_log',\n",
       " '_os',\n",
       " '_pi',\n",
       " '_random',\n",
       " '_repeat',\n",
       " '_sha512',\n",
       " '_sin',\n",
       " '_sqrt',\n",
       " '_test',\n",
       " '_test_generator',\n",
       " '_urandom',\n",
       " '_warn',\n",
       " 'betavariate',\n",
       " 'choice',\n",
       " 'choices',\n",
       " 'expovariate',\n",
       " 'gammavariate',\n",
       " 'gauss',\n",
       " 'getrandbits',\n",
       " 'getstate',\n",
       " 'lognormvariate',\n",
       " 'normalvariate',\n",
       " 'paretovariate',\n",
       " 'randbytes',\n",
       " 'randint',\n",
       " 'random',\n",
       " 'randrange',\n",
       " 'sample',\n",
       " 'seed',\n",
       " 'setstate',\n",
       " 'shuffle',\n",
       " 'triangular',\n",
       " 'uniform',\n",
       " 'vonmisesvariate',\n",
       " 'weibullvariate']"
      ]
     },
     "execution_count": 50,
     "metadata": {},
     "output_type": "execute_result"
    }
   ],
   "source": [
    "import random\n",
    "dir(random)"
   ]
  },
  {
   "cell_type": "code",
   "execution_count": 36,
   "id": "3d014f38",
   "metadata": {},
   "outputs": [],
   "source": [
    "para = \"He then sends the gentleman to give Cordelia a message while he looks for King Lear on the heath\".split()"
   ]
  },
  {
   "cell_type": "code",
   "execution_count": 37,
   "id": "aaaac41d",
   "metadata": {},
   "outputs": [],
   "source": [
    "import random\n",
    "\n",
    "ps = []\n",
    "leng_ps = []\n",
    "\n",
    "\n",
    "for i in range(10):\n",
    "    rc = random.choice(para)\n",
    "    if rc not in ps and len(rc) not in leng_ps:\n",
    "        ps.append(rc)\n",
    "        leng_ps.append(len(rc))\n",
    "        \n",
    "myps = {i:j for i, j in sorted(dict(zip(ps, leng_ps)).items())}\n",
    "\n",
    "myps1 = {}\n",
    "\n",
    "for j in sorted(myps.values()):\n",
    "    for i, k in sorted(myps.items()):\n",
    "        if myps[i] == j:\n",
    "            myps1[i] = j\n",
    "\n",
    "    "
   ]
  },
  {
   "cell_type": "code",
   "execution_count": 38,
   "id": "3688c000",
   "metadata": {},
   "outputs": [
    {
     "data": {
      "text/plain": [
       "{'he': 2, 'for': 3, 'then': 4, 'heath': 5, 'message': 7}"
      ]
     },
     "execution_count": 38,
     "metadata": {},
     "output_type": "execute_result"
    }
   ],
   "source": [
    "myps1"
   ]
  },
  {
   "cell_type": "code",
   "execution_count": 32,
   "id": "f4c13e6d",
   "metadata": {},
   "outputs": [
    {
     "data": {
      "text/plain": [
       "['Lear', 'the', 'while', 'on', 'message']"
      ]
     },
     "execution_count": 32,
     "metadata": {},
     "output_type": "execute_result"
    }
   ],
   "source": [
    "ps"
   ]
  },
  {
   "cell_type": "code",
   "execution_count": 6,
   "id": "77ec0549",
   "metadata": {},
   "outputs": [
    {
     "data": {
      "text/plain": [
       "[1, 4, 2, 5, 8]"
      ]
     },
     "execution_count": 6,
     "metadata": {},
     "output_type": "execute_result"
    }
   ],
   "source": [
    "leng_ps"
   ]
  },
  {
   "cell_type": "code",
   "execution_count": 7,
   "id": "50a4aa4d",
   "metadata": {},
   "outputs": [
    {
     "data": {
      "text/plain": [
       "{'a': 1, 'King': 4, 'He': 2, 'looks': 5, 'Cordelia': 8}"
      ]
     },
     "execution_count": 7,
     "metadata": {},
     "output_type": "execute_result"
    }
   ],
   "source": [
    "dict(zip(ps, leng_ps))"
   ]
  },
  {
   "cell_type": "code",
   "execution_count": 8,
   "id": "8d2f5a0d",
   "metadata": {},
   "outputs": [],
   "source": [
    "myps = dict(zip(ps, leng_ps))"
   ]
  },
  {
   "cell_type": "code",
   "execution_count": 9,
   "id": "872c6879",
   "metadata": {},
   "outputs": [
    {
     "data": {
      "text/plain": [
       "{'a': 1, 'King': 4, 'He': 2, 'looks': 5, 'Cordelia': 8}"
      ]
     },
     "execution_count": 9,
     "metadata": {},
     "output_type": "execute_result"
    }
   ],
   "source": [
    "myps"
   ]
  },
  {
   "cell_type": "code",
   "execution_count": 10,
   "id": "60ca2281",
   "metadata": {
    "scrolled": true
   },
   "outputs": [
    {
     "data": {
      "text/plain": [
       "dict_items([('a', 1), ('King', 4), ('He', 2), ('looks', 5), ('Cordelia', 8)])"
      ]
     },
     "execution_count": 10,
     "metadata": {},
     "output_type": "execute_result"
    }
   ],
   "source": [
    "myps.items()"
   ]
  },
  {
   "cell_type": "code",
   "execution_count": 84,
   "id": "ac7321c4",
   "metadata": {},
   "outputs": [],
   "source": [
    "myps1 = myps.items()"
   ]
  },
  {
   "cell_type": "code",
   "execution_count": 85,
   "id": "a8026ace",
   "metadata": {},
   "outputs": [
    {
     "data": {
      "text/plain": [
       "dict_items([('the', 3), ('give', 4), ('he', 2), ('heath', 5), ('a', 1)])"
      ]
     },
     "execution_count": 85,
     "metadata": {},
     "output_type": "execute_result"
    }
   ],
   "source": [
    "myps1"
   ]
  },
  {
   "cell_type": "code",
   "execution_count": null,
   "id": "0ac27836",
   "metadata": {},
   "outputs": [],
   "source": []
  },
  {
   "cell_type": "code",
   "execution_count": 201,
   "id": "e282fdac",
   "metadata": {},
   "outputs": [
    {
     "data": {
      "text/plain": [
       "({'He', 'for', 'gentleman', 'give', 'message', 'sends', 'the', 'to'},\n",
       " {2, 3, 4, 5, 7, 9})"
      ]
     },
     "execution_count": 201,
     "metadata": {},
     "output_type": "execute_result"
    }
   ],
   "source": [
    "ps, leng_ps"
   ]
  },
  {
   "cell_type": "code",
   "execution_count": 56,
   "id": "49e07ac2",
   "metadata": {},
   "outputs": [
    {
     "data": {
      "text/plain": [
       "['__class__',\n",
       " '__class_getitem__',\n",
       " '__contains__',\n",
       " '__delattr__',\n",
       " '__delitem__',\n",
       " '__dir__',\n",
       " '__doc__',\n",
       " '__eq__',\n",
       " '__format__',\n",
       " '__ge__',\n",
       " '__getattribute__',\n",
       " '__getitem__',\n",
       " '__getstate__',\n",
       " '__gt__',\n",
       " '__hash__',\n",
       " '__init__',\n",
       " '__init_subclass__',\n",
       " '__ior__',\n",
       " '__iter__',\n",
       " '__le__',\n",
       " '__len__',\n",
       " '__lt__',\n",
       " '__ne__',\n",
       " '__new__',\n",
       " '__or__',\n",
       " '__reduce__',\n",
       " '__reduce_ex__',\n",
       " '__repr__',\n",
       " '__reversed__',\n",
       " '__ror__',\n",
       " '__setattr__',\n",
       " '__setitem__',\n",
       " '__sizeof__',\n",
       " '__str__',\n",
       " '__subclasshook__',\n",
       " 'clear',\n",
       " 'copy',\n",
       " 'fromkeys',\n",
       " 'get',\n",
       " 'items',\n",
       " 'keys',\n",
       " 'pop',\n",
       " 'popitem',\n",
       " 'setdefault',\n",
       " 'update',\n",
       " 'values']"
      ]
     },
     "execution_count": 56,
     "metadata": {},
     "output_type": "execute_result"
    }
   ],
   "source": [
    "dir(dict)"
   ]
  },
  {
   "cell_type": "code",
   "execution_count": 171,
   "id": "15280a19",
   "metadata": {},
   "outputs": [],
   "source": []
  },
  {
   "cell_type": "code",
   "execution_count": 172,
   "id": "288b2473",
   "metadata": {},
   "outputs": [
    {
     "data": {
      "text/plain": [
       "dict"
      ]
     },
     "execution_count": 172,
     "metadata": {},
     "output_type": "execute_result"
    }
   ],
   "source": [
    "type(var)"
   ]
  },
  {
   "cell_type": "code",
   "execution_count": 39,
   "id": "338334d3",
   "metadata": {},
   "outputs": [],
   "source": [
    "#python Fucntion"
   ]
  },
  {
   "cell_type": "code",
   "execution_count": 4,
   "id": "d5cea924",
   "metadata": {},
   "outputs": [],
   "source": [
    "import random\n",
    "\n",
    "para = \"He then sends the gentleman to give Cordelia a message while he looks for King Lear on the heath\".split()\n",
    "\n",
    "def new_funtion():\n",
    "    \"\"\" This fuciton is used to let the sequance of element in accending order\"\"\"\n",
    "    ps = []\n",
    "    leng_ps = []\n",
    "\n",
    "\n",
    "    for i in range(10):\n",
    "        rc = random.choice(para)\n",
    "        if rc not in ps and len(rc) not in leng_ps:\n",
    "            ps.append(rc)\n",
    "            leng_ps.append(len(rc))\n",
    "\n",
    "    myps = {i:j for i, j in sorted(dict(zip(ps, leng_ps)).items())}\n",
    "\n",
    "    myps1 = {}\n",
    "\n",
    "    for j in sorted(myps.values()):\n",
    "        for i, k in sorted(myps.items()):\n",
    "            if myps[i] == j:\n",
    "                myps1[i] = j\n",
    "    \n",
    "    return myps1"
   ]
  },
  {
   "cell_type": "code",
   "execution_count": 5,
   "id": "e7e0f56c",
   "metadata": {},
   "outputs": [],
   "source": [
    "ver_store = new_funtion()"
   ]
  },
  {
   "cell_type": "code",
   "execution_count": 6,
   "id": "afe00f32",
   "metadata": {},
   "outputs": [
    {
     "data": {
      "text/plain": [
       "{'He': 2, 'the': 3, 'give': 4, 'heath': 5, 'Cordelia': 8}"
      ]
     },
     "execution_count": 6,
     "metadata": {},
     "output_type": "execute_result"
    }
   ],
   "source": [
    "ver_store"
   ]
  },
  {
   "cell_type": "code",
   "execution_count": 7,
   "id": "76edec9d",
   "metadata": {},
   "outputs": [],
   "source": [
    "ver_store.get(\"then\")"
   ]
  },
  {
   "cell_type": "code",
   "execution_count": null,
   "id": "61b70080",
   "metadata": {},
   "outputs": [],
   "source": []
  },
  {
   "cell_type": "code",
   "execution_count": 8,
   "id": "59d4fab8",
   "metadata": {},
   "outputs": [
    {
     "name": "stdout",
     "output_type": "stream",
     "text": [
      "enter the key = \n",
      "None\n",
      "enter the key = \n",
      "None\n",
      "enter the key = \n",
      "None\n"
     ]
    }
   ],
   "source": [
    "name = {\"akhil\":10, \"eshwar\":20, \"raju\":30}\n",
    "for i in range(len(name)):\n",
    "    new_name = input(\"enter the key = \")\n",
    "    print(name.get(new_name))"
   ]
  },
  {
   "cell_type": "code",
   "execution_count": 9,
   "id": "9ff125aa",
   "metadata": {},
   "outputs": [
    {
     "name": "stdout",
     "output_type": "stream",
     "text": [
      "enter the key = \n",
      "None\n",
      "enter the key = \n",
      "None\n",
      "enter the key = \n",
      "None\n",
      "None\n",
      "enter the key = \n",
      "None\n",
      "enter the key = \n",
      "None\n",
      "enter the key = \n",
      "None\n",
      "None\n"
     ]
    }
   ],
   "source": [
    "\n",
    "def missing_key():\n",
    "    for i in range(len(name)):\n",
    "        new_name = input(\"enter the key = \")\n",
    "        print(name.get(new_name))\n",
    "for i in range(2):\n",
    "    print(missing_key())"
   ]
  },
  {
   "cell_type": "code",
   "execution_count": 1,
   "id": "1dd84e73",
   "metadata": {},
   "outputs": [],
   "source": [
    "import random\n",
    "\n",
    "def new_funtion(values):\n",
    "    \"\"\" This fuciton is used to let the sequance of element in accending order\"\"\"\n",
    "    split_data = values.split()\n",
    "    ps = []\n",
    "    leng_ps = []\n",
    "\n",
    "\n",
    "    for i in range(10):\n",
    "        rc = random.choice(split_data)\n",
    "        if rc not in ps and len(rc) not in leng_ps:\n",
    "            ps.append(rc)\n",
    "            leng_ps.append(len(rc))\n",
    "\n",
    "    myps = {i:j for i, j in sorted(dict(zip(ps, leng_ps)).items())}\n",
    "\n",
    "    myps1 = {}\n",
    "\n",
    "    for j in sorted(myps.values()):\n",
    "        for i, k in sorted(myps.items()):\n",
    "            if myps[i] == j:\n",
    "                myps1[i] = j\n",
    "    \n",
    "    return myps1"
   ]
  },
  {
   "cell_type": "code",
   "execution_count": 2,
   "id": "24fe38eb",
   "metadata": {},
   "outputs": [],
   "source": [
    "def missing_key(name):\n",
    "    print(name)\n",
    "    for i in range(len(name)):\n",
    "        new_name = input(\"enter the key = \")\n",
    "        print(name.get(new_name))"
   ]
  },
  {
   "cell_type": "code",
   "execution_count": null,
   "id": "d4cf2d1c",
   "metadata": {},
   "outputs": [],
   "source": []
  },
  {
   "cell_type": "code",
   "execution_count": null,
   "id": "f593d0cd",
   "metadata": {},
   "outputs": [],
   "source": [
    "dinesh_story = \"Books that explore subjects from William Shakespeare and The Beatles to the lure of Mount Everest and life inside one of the world’s most secretive states are competing to be named the best-ever winner of Britain’s leading nonfiction book prize\"\n",
    "new_funtion(dinesh_story)"
   ]
  },
  {
   "cell_type": "code",
   "execution_count": null,
   "id": "e43f6ede",
   "metadata": {},
   "outputs": [],
   "source": []
  },
  {
   "cell_type": "code",
   "execution_count": null,
   "id": "36041730",
   "metadata": {},
   "outputs": [],
   "source": []
  },
  {
   "cell_type": "code",
   "execution_count": null,
   "id": "45c979fc",
   "metadata": {},
   "outputs": [],
   "source": [
    "chandhu_story = \"Shakespeare occupies a position unique in world literature. Other poets, such as Homer and Dante, and novelists, such as Leo Tolstoy and Charles Dickens, have transcended national barriers, but no writer’s living reputation can compare to that of Shakespeare, whose plays, written in the late 16th and early 17th centuries for a small repertory theatre, are now performed and read more often and in more countries than ever before. The prophecy of his great contemporary, the poet and dramatist Ben Jonson, that Shakespeare “was not of an age, but for all time,” has been fulfilled.Explore five questions about Shakespeare's lifeExplore five questions about Shakespeare's lifeSee all videos for this articleIt may be audacious even to attempt a definition of his greatness, but it is not so difficult to describe the gifts that enabled him to create imaginative visions of pathos and mirth that, whether read or witnessed in the theatre, fill the mind and linger there. He is a writer of great intellectual rapidity, perceptiveness, and poetic power. Other writers have had these qualities, but with Shakespeare the keenness of mind was applied not to abstruse or remote subjects but to human beings and their complete range of emotions and conflicts. Other writers have applied their keenness of mind in this way, but Shakespeare is astonishingly clever with words and images, so that his mental energy, when applied to intelligible human situations, finds full and memorable expression, convincing\"\n",
    "type(new_funtion(chandhu_story))"
   ]
  },
  {
   "cell_type": "code",
   "execution_count": 1,
   "id": "83d99e74",
   "metadata": {},
   "outputs": [
    {
     "ename": "NameError",
     "evalue": "name 'missing_key' is not defined",
     "output_type": "error",
     "traceback": [
      "\u001b[1;31m---------------------------------------------------------------------------\u001b[0m",
      "\u001b[1;31mNameError\u001b[0m                                 Traceback (most recent call last)",
      "Cell \u001b[1;32mIn[1], line 1\u001b[0m\n\u001b[1;32m----> 1\u001b[0m \u001b[43mmissing_key\u001b[49m(new_funtion(dinesh_story))\n",
      "\u001b[1;31mNameError\u001b[0m: name 'missing_key' is not defined"
     ]
    }
   ],
   "source": [
    "missing_key(new_funtion(dinesh_story))"
   ]
  },
  {
   "cell_type": "code",
   "execution_count": 2,
   "id": "cf889569",
   "metadata": {},
   "outputs": [],
   "source": [
    "name = {\"kiran\": 5, \"kiran\":10}"
   ]
  },
  {
   "cell_type": "markdown",
   "id": "d98d2989",
   "metadata": {},
   "source": [
    "name"
   ]
  },
  {
   "cell_type": "code",
   "execution_count": 3,
   "id": "85c5959d",
   "metadata": {},
   "outputs": [
    {
     "data": {
      "text/plain": [
       "{'kiran': 10}"
      ]
     },
     "execution_count": 3,
     "metadata": {},
     "output_type": "execute_result"
    }
   ],
   "source": [
    "name"
   ]
  },
  {
   "cell_type": "code",
   "execution_count": 4,
   "id": "95fbf3be",
   "metadata": {},
   "outputs": [
    {
     "data": {
      "text/plain": [
       "{'kiran': [5, 10]}"
      ]
     },
     "execution_count": 4,
     "metadata": {},
     "output_type": "execute_result"
    }
   ],
   "source": [
    "{'kiran': [5, 10] }"
   ]
  },
  {
   "cell_type": "code",
   "execution_count": null,
   "id": "369527b4",
   "metadata": {},
   "outputs": [],
   "source": []
  }
 ],
 "metadata": {
  "kernelspec": {
   "display_name": "Python 3 (ipykernel)",
   "language": "python",
   "name": "python3"
  },
  "language_info": {
   "codemirror_mode": {
    "name": "ipython",
    "version": 3
   },
   "file_extension": ".py",
   "mimetype": "text/x-python",
   "name": "python",
   "nbconvert_exporter": "python",
   "pygments_lexer": "ipython3",
   "version": "3.11.2"
  }
 },
 "nbformat": 4,
 "nbformat_minor": 5
}
