{
 "cells": [
  {
   "cell_type": "code",
   "execution_count": null,
   "id": "2a098222",
   "metadata": {},
   "outputs": [],
   "source": [
    "def id_name():\n",
    "    user_id = []\n",
    "    Ldap = input(\"enter the user_name = \")\n",
    "    if len(Ldap) >= 8:\n",
    "        user_id.append(Ldap)\n",
    "    else:\n",
    "        print(\"user id must contain 8 letters\")\n",
    "    \n",
    "    return user_id\n",
    "\n",
    "print(id_name())"
   ]
  },
  {
   "cell_type": "code",
   "execution_count": null,
   "id": "9078b342",
   "metadata": {},
   "outputs": [],
   "source": []
  }
 ],
 "metadata": {
  "kernelspec": {
   "display_name": "Python 3 (ipykernel)",
   "language": "python",
   "name": "python3"
  },
  "language_info": {
   "codemirror_mode": {
    "name": "ipython",
    "version": 3
   },
   "file_extension": ".py",
   "mimetype": "text/x-python",
   "name": "python",
   "nbconvert_exporter": "python",
   "pygments_lexer": "ipython3",
   "version": "3.11.2"
  }
 },
 "nbformat": 4,
 "nbformat_minor": 5
}
