{
 "cells": [
  {
   "cell_type": "code",
   "execution_count": 27,
   "id": "f552e383",
   "metadata": {},
   "outputs": [],
   "source": [
    "user_name = \"Dalammala\"\n",
    "Id_password = \"Komal\""
   ]
  },
  {
   "cell_type": "code",
   "execution_count": 28,
   "id": "48bc3597",
   "metadata": {},
   "outputs": [
    {
     "name": "stdout",
     "output_type": "stream",
     "text": [
      "False 3\n"
     ]
    }
   ],
   "source": [
    "cont = 0\n",
    "for i in range(round(len(user_name)/2)):\n",
    "    if user_name[i] in Id_password:\n",
    "        cont = cont + 1\n",
    "if round(len(user_name)/2) <= cont:\n",
    "    print(False, cont)\n",
    "else:\n",
    "    print(True, cont)"
   ]
  },
  {
   "cell_type": "code",
   "execution_count": null,
   "id": "880963f8",
   "metadata": {},
   "outputs": [],
   "source": [
    "Dalam"
   ]
  },
  {
   "cell_type": "code",
   "execution_count": 29,
   "id": "d53071a7",
   "metadata": {},
   "outputs": [],
   "source": [
    "user_name = \"Dalammala\""
   ]
  },
  {
   "cell_type": "code",
   "execution_count": 30,
   "id": "6c8e6732",
   "metadata": {},
   "outputs": [
    {
     "data": {
      "text/plain": [
       "{'D', 'a', 'l', 'm'}"
      ]
     },
     "execution_count": 30,
     "metadata": {},
     "output_type": "execute_result"
    }
   ],
   "source": [
    "set(user_name)"
   ]
  },
  {
   "cell_type": "code",
   "execution_count": 35,
   "id": "bf5bfa6e",
   "metadata": {},
   "outputs": [
    {
     "data": {
      "text/plain": [
       "4.9"
      ]
     },
     "execution_count": 35,
     "metadata": {},
     "output_type": "execute_result"
    }
   ],
   "source": [
    "abs(4.9)"
   ]
  },
  {
   "cell_type": "code",
   "execution_count": 37,
   "id": "eeed1a2e",
   "metadata": {},
   "outputs": [
    {
     "data": {
      "text/plain": [
       "['__add__',\n",
       " '__class__',\n",
       " '__contains__',\n",
       " '__delattr__',\n",
       " '__dir__',\n",
       " '__doc__',\n",
       " '__eq__',\n",
       " '__format__',\n",
       " '__ge__',\n",
       " '__getattribute__',\n",
       " '__getitem__',\n",
       " '__getnewargs__',\n",
       " '__getstate__',\n",
       " '__gt__',\n",
       " '__hash__',\n",
       " '__init__',\n",
       " '__init_subclass__',\n",
       " '__iter__',\n",
       " '__le__',\n",
       " '__len__',\n",
       " '__lt__',\n",
       " '__mod__',\n",
       " '__mul__',\n",
       " '__ne__',\n",
       " '__new__',\n",
       " '__reduce__',\n",
       " '__reduce_ex__',\n",
       " '__repr__',\n",
       " '__rmod__',\n",
       " '__rmul__',\n",
       " '__setattr__',\n",
       " '__sizeof__',\n",
       " '__str__',\n",
       " '__subclasshook__',\n",
       " 'capitalize',\n",
       " 'casefold',\n",
       " 'center',\n",
       " 'count',\n",
       " 'encode',\n",
       " 'endswith',\n",
       " 'expandtabs',\n",
       " 'find',\n",
       " 'format',\n",
       " 'format_map',\n",
       " 'index',\n",
       " 'isalnum',\n",
       " 'isalpha',\n",
       " 'isascii',\n",
       " 'isdecimal',\n",
       " 'isdigit',\n",
       " 'isidentifier',\n",
       " 'islower',\n",
       " 'isnumeric',\n",
       " 'isprintable',\n",
       " 'isspace',\n",
       " 'istitle',\n",
       " 'isupper',\n",
       " 'join',\n",
       " 'ljust',\n",
       " 'lower',\n",
       " 'lstrip',\n",
       " 'maketrans',\n",
       " 'partition',\n",
       " 'removeprefix',\n",
       " 'removesuffix',\n",
       " 'replace',\n",
       " 'rfind',\n",
       " 'rindex',\n",
       " 'rjust',\n",
       " 'rpartition',\n",
       " 'rsplit',\n",
       " 'rstrip',\n",
       " 'split',\n",
       " 'splitlines',\n",
       " 'startswith',\n",
       " 'strip',\n",
       " 'swapcase',\n",
       " 'title',\n",
       " 'translate',\n",
       " 'upper',\n",
       " 'zfill']"
      ]
     },
     "execution_count": 37,
     "metadata": {},
     "output_type": "execute_result"
    }
   ],
   "source": [
    "dir(str)"
   ]
  },
  {
   "cell_type": "code",
   "execution_count": 38,
   "id": "3ef3c5d3",
   "metadata": {},
   "outputs": [
    {
     "name": "stdout",
     "output_type": "stream",
     "text": [
      "enter username = akhil7585\n",
      "akhil7585 your OTP is 8723\n",
      "enter password = dinesh1234\n",
      "enter the akhil7585 OTP = 8723\n",
      "{'akhil7585': 'dinesh1234'}\n"
     ]
    }
   ],
   "source": [
    "import random\n",
    "\n",
    "user_name = []\n",
    "Id_password = []\n",
    "\n",
    "\n",
    "i = True\n",
    "while i:\n",
    "\tLdap = input(\"enter username = \")\n",
    "\tif len(Ldap) >= 8:\n",
    "\t\tif Ldap.isalpha() == Ldap.isnumeric():\n",
    "\t\t\tif Ldap not in user_name:\n",
    "\t\t\t\tuser_name.append(Ldap)\n",
    "\t\t\t\trandom_number = random.randint(1000,9999)\n",
    "\t\t\t\tprint(f\"{Ldap} your OTP is {random_number}\")\n",
    "\t\t\t\tj = True\n",
    "\t\t\t\twhile j:\n",
    "\t\t\t\t\tpswd = input(\"enter password = \")\n",
    "\t\t\t\t\tif len(pswd) >= 8:  \n",
    "\t\t\t\t\t\tif pswd.isalpha() == pswd.isnumeric():\n",
    "\t\t\t\t\t\t\tLdap_OTP = int(input(f\"enter the {Ldap} OTP = \"))\n",
    "\t\t\t\t\t\t\tif random_number == Ldap_OTP:\n",
    "\t\t\t\t\t\t\t\tj = False\n",
    "\t\t\t\t\t\t\t\tcount = 0\n",
    "\t\t\t\t\t\t\t\tfor i in range(len(set(user_name))):\n",
    "\t\t\t\t\t\t\t\t\tif list(set(user_name))[i] in Id_password:\n",
    "\t\t\t\t\t\t\t\t\t\tcount = count + 1\n",
    "\t\t\t\t\t\t\t\tif count < len(set(user_name)):\n",
    "\t\t\t\t\t\t\t\t\tId_password.append(pswd)\n",
    "\t\t\t\t\t\t\t\telse:\n",
    "\t\t\t\t\t\t\t\t\tprint(\"password should not match with half of username letters\")\n",
    "\t\t\t\t\t\t\t\t\tget_user_status = input(\"Do you want to contiue still (yes/no) = \")\n",
    "\t\t\t\t\t\t\t\t\tif get_user_status.lower() == \"no\":\n",
    "\t\t\t\t\t\t\t\t\t\ti = False\n",
    "\t\t\t\t\t\t\telse:\n",
    "\t\t\t\t\t\t\t\tprint(\"Invalid OTP\")\n",
    "\n",
    "\t\t\t\t\t\telse:\n",
    "\t\t\t\t\t\t\tprint(\"password contain atleast one letter and number\")\n",
    "\t\t\t\t\telse:\n",
    "\t\t\t\t\t\tprint(\"password should be greater than 8 letters along with atleast one letter and number\")\n",
    "\t\t\telse:\n",
    "\t\t\t\tprint(\"username is already exist\")\n",
    "\t\telse:\n",
    "\t\t\tprint(\"username contain atleast one letter and number\")\n",
    "\telse:\n",
    "\t\tprint(\"username should be greater than 8 letters along with atleast one letter and number\")\n",
    "\n",
    "\n",
    "\n",
    "my_room = {}\n",
    "\n",
    "for i in range(len(user_name)):\n",
    "    my_room[user_name[i]] = Id_password[i]\n",
    "\n",
    "print(my_room)\n",
    "\n",
    "\n"
   ]
  },
  {
   "cell_type": "code",
   "execution_count": null,
   "id": "7df08e84",
   "metadata": {},
   "outputs": [],
   "source": []
  }
 ],
 "metadata": {
  "kernelspec": {
   "display_name": "Python 3 (ipykernel)",
   "language": "python",
   "name": "python3"
  },
  "language_info": {
   "codemirror_mode": {
    "name": "ipython",
    "version": 3
   },
   "file_extension": ".py",
   "mimetype": "text/x-python",
   "name": "python",
   "nbconvert_exporter": "python",
   "pygments_lexer": "ipython3",
   "version": "3.11.2"
  }
 },
 "nbformat": 4,
 "nbformat_minor": 5
}
