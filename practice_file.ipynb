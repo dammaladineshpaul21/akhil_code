{
 "cells": [
  {
   "cell_type": "code",
   "execution_count": 27,
   "id": "f552e383",
   "metadata": {},
   "outputs": [],
   "source": [
    "user_name = \"Dalammala\"\n",
    "Id_password = \"Komal\""
   ]
  },
  {
   "cell_type": "code",
   "execution_count": 28,
   "id": "48bc3597",
   "metadata": {},
   "outputs": [
    {
     "name": "stdout",
     "output_type": "stream",
     "text": [
      "False 3\n"
     ]
    }
   ],
   "source": [
    "cont = 0\n",
    "for i in range(round(len(user_name)/2)):\n",
    "    if user_name[i] in Id_password:\n",
    "        cont = cont + 1\n",
    "if round(len(user_name)/2) <= cont:\n",
    "    print(False, cont)\n",
    "else:\n",
    "    print(True, cont)"
   ]
  },
  {
   "cell_type": "code",
   "execution_count": null,
   "id": "880963f8",
   "metadata": {},
   "outputs": [],
   "source": [
    "Dalam"
   ]
  },
  {
   "cell_type": "code",
   "execution_count": 29,
   "id": "d53071a7",
   "metadata": {},
   "outputs": [],
   "source": [
    "user_name = \"Dalammala\""
   ]
  },
  {
   "cell_type": "code",
   "execution_count": 30,
   "id": "6c8e6732",
   "metadata": {},
   "outputs": [
    {
     "data": {
      "text/plain": [
       "{'D', 'a', 'l', 'm'}"
      ]
     },
     "execution_count": 30,
     "metadata": {},
     "output_type": "execute_result"
    }
   ],
   "source": [
    "set(user_name)"
   ]
  },
  {
   "cell_type": "code",
   "execution_count": 35,
   "id": "bf5bfa6e",
   "metadata": {},
   "outputs": [
    {
     "data": {
      "text/plain": [
       "4.9"
      ]
     },
     "execution_count": 35,
     "metadata": {},
     "output_type": "execute_result"
    }
   ],
   "source": [
    "abs(4.9)"
   ]
  },
  {
   "cell_type": "code",
   "execution_count": 37,
   "id": "eeed1a2e",
   "metadata": {},
   "outputs": [
    {
     "data": {
      "text/plain": [
       "['__add__',\n",
       " '__class__',\n",
       " '__contains__',\n",
       " '__delattr__',\n",
       " '__dir__',\n",
       " '__doc__',\n",
       " '__eq__',\n",
       " '__format__',\n",
       " '__ge__',\n",
       " '__getattribute__',\n",
       " '__getitem__',\n",
       " '__getnewargs__',\n",
       " '__getstate__',\n",
       " '__gt__',\n",
       " '__hash__',\n",
       " '__init__',\n",
       " '__init_subclass__',\n",
       " '__iter__',\n",
       " '__le__',\n",
       " '__len__',\n",
       " '__lt__',\n",
       " '__mod__',\n",
       " '__mul__',\n",
       " '__ne__',\n",
       " '__new__',\n",
       " '__reduce__',\n",
       " '__reduce_ex__',\n",
       " '__repr__',\n",
       " '__rmod__',\n",
       " '__rmul__',\n",
       " '__setattr__',\n",
       " '__sizeof__',\n",
       " '__str__',\n",
       " '__subclasshook__',\n",
       " 'capitalize',\n",
       " 'casefold',\n",
       " 'center',\n",
       " 'count',\n",
       " 'encode',\n",
       " 'endswith',\n",
       " 'expandtabs',\n",
       " 'find',\n",
       " 'format',\n",
       " 'format_map',\n",
       " 'index',\n",
       " 'isalnum',\n",
       " 'isalpha',\n",
       " 'isascii',\n",
       " 'isdecimal',\n",
       " 'isdigit',\n",
       " 'isidentifier',\n",
       " 'islower',\n",
       " 'isnumeric',\n",
       " 'isprintable',\n",
       " 'isspace',\n",
       " 'istitle',\n",
       " 'isupper',\n",
       " 'join',\n",
       " 'ljust',\n",
       " 'lower',\n",
       " 'lstrip',\n",
       " 'maketrans',\n",
       " 'partition',\n",
       " 'removeprefix',\n",
       " 'removesuffix',\n",
       " 'replace',\n",
       " 'rfind',\n",
       " 'rindex',\n",
       " 'rjust',\n",
       " 'rpartition',\n",
       " 'rsplit',\n",
       " 'rstrip',\n",
       " 'split',\n",
       " 'splitlines',\n",
       " 'startswith',\n",
       " 'strip',\n",
       " 'swapcase',\n",
       " 'title',\n",
       " 'translate',\n",
       " 'upper',\n",
       " 'zfill']"
      ]
     },
     "execution_count": 37,
     "metadata": {},
     "output_type": "execute_result"
    }
   ],
   "source": [
    "dir(str)"
   ]
  },
  {
   "cell_type": "code",
   "execution_count": 38,
   "id": "3ef3c5d3",
   "metadata": {},
   "outputs": [
    {
     "name": "stdout",
     "output_type": "stream",
     "text": [
      "enter username = akhil7585\n",
      "akhil7585 your OTP is 8723\n",
      "enter password = dinesh1234\n",
      "enter the akhil7585 OTP = 8723\n",
      "{'akhil7585': 'dinesh1234'}\n"
     ]
    }
   ],
   "source": [
    "import random\n",
    "\n",
    "user_name = []\n",
    "Id_password = []\n",
    "\n",
    "\n",
    "i = True\n",
    "while i:\n",
    "\tLdap = input(\"enter username = \")\n",
    "\tif len(Ldap) >= 8:\n",
    "\t\tif Ldap.isalpha() == Ldap.isnumeric():\n",
    "\t\t\tif Ldap not in user_name:\n",
    "\t\t\t\tuser_name.append(Ldap)\n",
    "\t\t\t\trandom_number = random.randint(1000,9999)\n",
    "\t\t\t\tprint(f\"{Ldap} your OTP is {random_number}\")\n",
    "\t\t\t\tj = True\n",
    "\t\t\t\twhile j:\n",
    "\t\t\t\t\tpswd = input(\"enter password = \")\n",
    "\t\t\t\t\tif len(pswd) >= 8:  \n",
    "\t\t\t\t\t\tif pswd.isalpha() == pswd.isnumeric():\n",
    "\t\t\t\t\t\t\tLdap_OTP = int(input(f\"enter the {Ldap} OTP = \"))\n",
    "\t\t\t\t\t\t\tif random_number == Ldap_OTP:\n",
    "\t\t\t\t\t\t\t\tj = False\n",
    "\t\t\t\t\t\t\t\tcount = 0\n",
    "\t\t\t\t\t\t\t\tfor i in range(len(set(user_name))):\n",
    "\t\t\t\t\t\t\t\t\tif list(set(user_name))[i] in Id_password:\n",
    "\t\t\t\t\t\t\t\t\t\tcount = count + 1\n",
    "\t\t\t\t\t\t\t\tif count < len(set(user_name)):\n",
    "\t\t\t\t\t\t\t\t\tId_password.append(pswd)\n",
    "\t\t\t\t\t\t\t\telse:\n",
    "\t\t\t\t\t\t\t\t\tprint(\"password should not match with half of username letters\")\n",
    "\t\t\t\t\t\t\t\t\tget_user_status = input(\"Do you want to contiue still (yes/no) = \")\n",
    "\t\t\t\t\t\t\t\t\tif get_user_status.lower() == \"no\":\n",
    "\t\t\t\t\t\t\t\t\t\ti = False\n",
    "\t\t\t\t\t\t\telse:\n",
    "\t\t\t\t\t\t\t\tprint(\"Invalid OTP\")\n",
    "\n",
    "\t\t\t\t\t\telse:\n",
    "\t\t\t\t\t\t\tprint(\"password contain atleast one letter and number\")\n",
    "\t\t\t\t\telse:\n",
    "\t\t\t\t\t\tprint(\"password should be greater than 8 letters along with atleast one letter and number\")\n",
    "\t\t\telse:\n",
    "\t\t\t\tprint(\"username is already exist\")\n",
    "\t\telse:\n",
    "\t\t\tprint(\"username contain atleast one letter and number\")\n",
    "\telse:\n",
    "\t\tprint(\"username should be greater than 8 letters along with atleast one letter and number\")\n",
    "\n",
    "\n",
    "\n",
    "my_room = {}\n",
    "\n",
    "for i in range(len(user_name)):\n",
    "    my_room[user_name[i]] = Id_password[i]\n",
    "\n",
    "print(my_room)\n",
    "\n",
    "\n"
   ]
  },
  {
   "cell_type": "code",
   "execution_count": 4,
   "id": "7df08e84",
   "metadata": {},
   "outputs": [
    {
     "name": "stdout",
     "output_type": "stream",
     "text": [
      "dict_values([40, 340, 130, 205, 420])\n"
     ]
    }
   ],
   "source": [
    "family = {\"shiva\":40, \"vijaya\":340, \"vikas\":130, \"akhil\":205, \"chintu\":420}\n",
    "print(family.values())"
   ]
  },
  {
   "cell_type": "code",
   "execution_count": 10,
   "id": "49bb546a",
   "metadata": {},
   "outputs": [
    {
     "name": "stdout",
     "output_type": "stream",
     "text": [
      "40\n",
      "130\n",
      "205\n",
      "340\n",
      "420\n"
     ]
    }
   ],
   "source": [
    "for i in sorted(family.values()):\n",
    "    print(i)"
   ]
  },
  {
   "cell_type": "code",
   "execution_count": 22,
   "id": "30b46b58",
   "metadata": {},
   "outputs": [],
   "source": [
    "lst_val = list(family.keys())"
   ]
  },
  {
   "cell_type": "code",
   "execution_count": 23,
   "id": "ea072900",
   "metadata": {},
   "outputs": [
    {
     "data": {
      "text/plain": [
       "['shiva', 'vijaya', 'vikas', 'akhil', 'chintu']"
      ]
     },
     "execution_count": 23,
     "metadata": {},
     "output_type": "execute_result"
    }
   ],
   "source": [
    "lst_val"
   ]
  },
  {
   "cell_type": "code",
   "execution_count": 21,
   "id": "00c49168",
   "metadata": {},
   "outputs": [
    {
     "data": {
      "text/plain": [
       "140733194927304"
      ]
     },
     "execution_count": 21,
     "metadata": {},
     "output_type": "execute_result"
    }
   ],
   "source": [
    "id(lst_val.sort())"
   ]
  },
  {
   "cell_type": "code",
   "execution_count": 20,
   "id": "7cc58965",
   "metadata": {},
   "outputs": [
    {
     "data": {
      "text/plain": [
       "2015701360448"
      ]
     },
     "execution_count": 20,
     "metadata": {},
     "output_type": "execute_result"
    }
   ],
   "source": [
    "id(lst_val)"
   ]
  },
  {
   "cell_type": "code",
   "execution_count": 24,
   "id": "c2dfc064",
   "metadata": {},
   "outputs": [],
   "source": [
    "myDict = {'ravi': 10, 'rajnish': 9,\n",
    "        'sanjeev': 15, 'yash': 2, 'suraj': 32}"
   ]
  },
  {
   "cell_type": "code",
   "execution_count": 38,
   "id": "309b4372",
   "metadata": {},
   "outputs": [
    {
     "data": {
      "text/plain": [
       "10"
      ]
     },
     "execution_count": 38,
     "metadata": {},
     "output_type": "execute_result"
    }
   ],
   "source": [
    "myDict['ravi']"
   ]
  },
  {
   "cell_type": "code",
   "execution_count": 115,
   "id": "ed6584d3",
   "metadata": {},
   "outputs": [],
   "source": [
    "myDict = {'ravi': 10, \"Komal\":2, 'rajnish': 9,\n",
    "        'sanjeev': 15, 'suraj': 32}\n",
    "sorted_dict = {}\n",
    "\n",
    "for i, j in sorted(myDict.items()):\n",
    "    for j in myDict.values():\n",
    "        if myDict[i] == j:\n",
    "            sorted_dict[i] = j\n",
    "        "
   ]
  },
  {
   "cell_type": "code",
   "execution_count": 116,
   "id": "64b275b6",
   "metadata": {},
   "outputs": [
    {
     "data": {
      "text/plain": [
       "{'Komal': 2, 'rajnish': 9, 'ravi': 10, 'sanjeev': 15, 'suraj': 32}"
      ]
     },
     "execution_count": 116,
     "metadata": {},
     "output_type": "execute_result"
    }
   ],
   "source": [
    "sorted_dict"
   ]
  },
  {
   "cell_type": "code",
   "execution_count": 99,
   "id": "24375756",
   "metadata": {},
   "outputs": [
    {
     "data": {
      "text/plain": [
       "[('rajnish', 9), ('ravi', 10), ('sanjeev', 15), ('suraj', 32), ('yash', 2)]"
      ]
     },
     "execution_count": 99,
     "metadata": {},
     "output_type": "execute_result"
    }
   ],
   "source": [
    "sorted(myDict.items())"
   ]
  },
  {
   "cell_type": "code",
   "execution_count": 105,
   "id": "cecdf585",
   "metadata": {},
   "outputs": [
    {
     "data": {
      "text/plain": [
       "[2, 9, 10, 15, 32]"
      ]
     },
     "execution_count": 105,
     "metadata": {},
     "output_type": "execute_result"
    }
   ],
   "source": [
    "sorted(myDict.values())"
   ]
  },
  {
   "cell_type": "code",
   "execution_count": 127,
   "id": "69a845aa",
   "metadata": {},
   "outputs": [],
   "source": [
    "sorted_dict = {}\n",
    "for i, j in sorted(myDict.items()):\n",
    "    for j in myDict.values():\n",
    "        if myDict[i] == j:\n",
    "            sorted_dict[i] = j"
   ]
  },
  {
   "cell_type": "code",
   "execution_count": 129,
   "id": "cbfe2f8a",
   "metadata": {},
   "outputs": [
    {
     "data": {
      "text/plain": [
       "{'Komal': 2, 'rajnish': 9, 'ravi': 10, 'sanjeev': 15, 'suraj': 32}"
      ]
     },
     "execution_count": 129,
     "metadata": {},
     "output_type": "execute_result"
    }
   ],
   "source": [
    "sorted_dict"
   ]
  },
  {
   "cell_type": "code",
   "execution_count": 125,
   "id": "742b46e8",
   "metadata": {},
   "outputs": [
    {
     "data": {
      "text/plain": [
       "2"
      ]
     },
     "execution_count": 125,
     "metadata": {},
     "output_type": "execute_result"
    }
   ],
   "source": [
    "myDict[\"Komal\"]"
   ]
  },
  {
   "cell_type": "code",
   "execution_count": 130,
   "id": "8644461b",
   "metadata": {},
   "outputs": [
    {
     "data": {
      "text/plain": [
       "[('Komal', 2), ('rajnish', 9), ('ravi', 10), ('sanjeev', 15), ('suraj', 32)]"
      ]
     },
     "execution_count": 130,
     "metadata": {},
     "output_type": "execute_result"
    }
   ],
   "source": [
    "sorted(myDict.items())"
   ]
  },
  {
   "cell_type": "code",
   "execution_count": 131,
   "id": "01e4bc83",
   "metadata": {},
   "outputs": [
    {
     "name": "stdout",
     "output_type": "stream",
     "text": [
      "0\n",
      "1\n",
      "2\n",
      "3\n",
      "4\n",
      "5\n",
      "6\n",
      "7\n",
      "8\n",
      "9\n"
     ]
    }
   ],
   "source": [
    "for i in range(10):\n",
    "    print(i)"
   ]
  },
  {
   "cell_type": "code",
   "execution_count": 134,
   "id": "f55befac",
   "metadata": {},
   "outputs": [],
   "source": [
    "my_num = [i*2 for i in range(10)]"
   ]
  },
  {
   "cell_type": "code",
   "execution_count": 135,
   "id": "b92e4cfa",
   "metadata": {},
   "outputs": [
    {
     "data": {
      "text/plain": [
       "[0, 2, 4, 6, 8, 10, 12, 14, 16, 18]"
      ]
     },
     "execution_count": 135,
     "metadata": {},
     "output_type": "execute_result"
    }
   ],
   "source": [
    "my_num"
   ]
  },
  {
   "cell_type": "code",
   "execution_count": 136,
   "id": "47737cfa",
   "metadata": {},
   "outputs": [],
   "source": [
    "my_dict = {i:j for i, j in myDict.items()}"
   ]
  },
  {
   "cell_type": "code",
   "execution_count": 137,
   "id": "f12ce77f",
   "metadata": {},
   "outputs": [
    {
     "data": {
      "text/plain": [
       "{'ravi': 10, 'Komal': 2, 'rajnish': 9, 'sanjeev': 15, 'suraj': 32}"
      ]
     },
     "execution_count": 137,
     "metadata": {},
     "output_type": "execute_result"
    }
   ],
   "source": [
    "my_dict"
   ]
  },
  {
   "cell_type": "code",
   "execution_count": 138,
   "id": "a38ab0a8",
   "metadata": {},
   "outputs": [
    {
     "name": "stdout",
     "output_type": "stream",
     "text": [
      "ravi 10\n",
      "Komal 2\n",
      "rajnish 9\n",
      "sanjeev 15\n",
      "suraj 32\n"
     ]
    }
   ],
   "source": [
    "for i, j in myDict.items():\n",
    "    print(i, j)"
   ]
  },
  {
   "cell_type": "code",
   "execution_count": 139,
   "id": "92b626fb",
   "metadata": {},
   "outputs": [],
   "source": [
    "lst = [\"DSFdsaf\", \"fsadfdsf\", \"dfdsfsdaf\"]"
   ]
  },
  {
   "cell_type": "code",
   "execution_count": 140,
   "id": "90effc52",
   "metadata": {},
   "outputs": [],
   "source": [
    "my_for = [i for i in lst]"
   ]
  },
  {
   "cell_type": "code",
   "execution_count": 142,
   "id": "5de50e1b",
   "metadata": {},
   "outputs": [
    {
     "data": {
      "text/plain": [
       "2015701137152"
      ]
     },
     "execution_count": 142,
     "metadata": {},
     "output_type": "execute_result"
    }
   ],
   "source": [
    "id(my_for)"
   ]
  },
  {
   "cell_type": "code",
   "execution_count": 143,
   "id": "e344cfcc",
   "metadata": {},
   "outputs": [
    {
     "data": {
      "text/plain": [
       "2015701127104"
      ]
     },
     "execution_count": 143,
     "metadata": {},
     "output_type": "execute_result"
    }
   ],
   "source": [
    "id(lst)"
   ]
  },
  {
   "cell_type": "code",
   "execution_count": 144,
   "id": "c63b76eb",
   "metadata": {},
   "outputs": [],
   "source": [
    "tiup = [(\"Munna\", 23), (\"Dammala\", 100)]"
   ]
  },
  {
   "cell_type": "code",
   "execution_count": 145,
   "id": "37d30e1c",
   "metadata": {},
   "outputs": [],
   "source": [
    "buy_fdf = {i:j for i, j in tiup}"
   ]
  },
  {
   "cell_type": "code",
   "execution_count": 146,
   "id": "de6b44b0",
   "metadata": {},
   "outputs": [
    {
     "data": {
      "text/plain": [
       "{'Munna': 23, 'Dammala': 100}"
      ]
     },
     "execution_count": 146,
     "metadata": {},
     "output_type": "execute_result"
    }
   ],
   "source": [
    "buy_fdf"
   ]
  },
  {
   "cell_type": "code",
   "execution_count": 150,
   "id": "0471da97",
   "metadata": {},
   "outputs": [],
   "source": [
    "myDict = {'ravi': 10, \"Komal\":15, 'rajnish': 9,\n",
    "        'sanjeev': 5, 'suraj': 32}"
   ]
  },
  {
   "cell_type": "code",
   "execution_count": 151,
   "id": "35e2f6f5",
   "metadata": {},
   "outputs": [],
   "source": [
    "myDict2 = {i:j for i, j in sorted(myDict.items())}"
   ]
  },
  {
   "cell_type": "code",
   "execution_count": 159,
   "id": "abb53e94",
   "metadata": {},
   "outputs": [
    {
     "data": {
      "text/plain": [
       "{'Komal': 15, 'rajnish': 9, 'ravi': 10, 'sanjeev': 5, 'suraj': 32}"
      ]
     },
     "execution_count": 159,
     "metadata": {},
     "output_type": "execute_result"
    }
   ],
   "source": [
    "myDict2"
   ]
  },
  {
   "cell_type": "code",
   "execution_count": 160,
   "id": "18ee778e",
   "metadata": {},
   "outputs": [],
   "source": [
    "dct_2 = {}\n",
    "for j in sorted(myDict2.keys()):\n",
    "    for i, k in myDict2.items():\n",
    "        if myDict2[i] == j:\n",
    "            dct_2[i] = j\n",
    "            "
   ]
  },
  {
   "cell_type": "code",
   "execution_count": 161,
   "id": "8c534dde",
   "metadata": {},
   "outputs": [
    {
     "data": {
      "text/plain": [
       "{}"
      ]
     },
     "execution_count": 161,
     "metadata": {},
     "output_type": "execute_result"
    }
   ],
   "source": [
    "dct_2"
   ]
  },
  {
   "cell_type": "code",
   "execution_count": 162,
   "id": "9fefdc75",
   "metadata": {},
   "outputs": [],
   "source": [
    "myDict = {'ravi': 10, \"Komal\":15, 'rajnish': 9,\n",
    "        'sanjeev': 5, 'suraj': 32}"
   ]
  },
  {
   "cell_type": "code",
   "execution_count": 163,
   "id": "9542ae73",
   "metadata": {},
   "outputs": [
    {
     "data": {
      "text/plain": [
       "dict_items([('ravi', 10), ('Komal', 15), ('rajnish', 9), ('sanjeev', 5), ('suraj', 32)])"
      ]
     },
     "execution_count": 163,
     "metadata": {},
     "output_type": "execute_result"
    }
   ],
   "source": [
    "myDict.items()"
   ]
  },
  {
   "cell_type": "code",
   "execution_count": 166,
   "id": "05a07abd",
   "metadata": {},
   "outputs": [
    {
     "data": {
      "text/plain": [
       "dict_items"
      ]
     },
     "execution_count": 166,
     "metadata": {},
     "output_type": "execute_result"
    }
   ],
   "source": [
    "type(myDict.items())"
   ]
  },
  {
   "cell_type": "code",
   "execution_count": 168,
   "id": "36b613da",
   "metadata": {},
   "outputs": [
    {
     "data": {
      "text/plain": [
       "[('Komal', 15), ('rajnish', 9), ('ravi', 10), ('sanjeev', 5), ('suraj', 32)]"
      ]
     },
     "execution_count": 168,
     "metadata": {},
     "output_type": "execute_result"
    }
   ],
   "source": [
    "sorted(myDict.items())"
   ]
  },
  {
   "cell_type": "code",
   "execution_count": 169,
   "id": "c52bf58f",
   "metadata": {},
   "outputs": [],
   "source": [
    "dct_2 = {}"
   ]
  },
  {
   "cell_type": "code",
   "execution_count": 170,
   "id": "61495e62",
   "metadata": {},
   "outputs": [],
   "source": [
    "myDict2 = {i:j for i, j in sorted(myDict.items())}"
   ]
  },
  {
   "cell_type": "code",
   "execution_count": 171,
   "id": "1a33bc55",
   "metadata": {},
   "outputs": [
    {
     "data": {
      "text/plain": [
       "{'Komal': 15, 'rajnish': 9, 'ravi': 10, 'sanjeev': 5, 'suraj': 32}"
      ]
     },
     "execution_count": 171,
     "metadata": {},
     "output_type": "execute_result"
    }
   ],
   "source": [
    "myDict2"
   ]
  },
  {
   "cell_type": "code",
   "execution_count": 173,
   "id": "01317a84",
   "metadata": {},
   "outputs": [
    {
     "data": {
      "text/plain": [
       "[5, 9, 10, 15, 32]"
      ]
     },
     "execution_count": 173,
     "metadata": {},
     "output_type": "execute_result"
    }
   ],
   "source": [
    "sorted(myDict2.values())"
   ]
  },
  {
   "cell_type": "code",
   "execution_count": 174,
   "id": "f81cfd23",
   "metadata": {},
   "outputs": [],
   "source": [
    "myDict = {'ravi': 10, \"Komal\":15, 'rajnish': 9,\n",
    "        'sanjeev': 5, 'suraj': 32}\n"
   ]
  },
  {
   "cell_type": "code",
   "execution_count": 176,
   "id": "90cbc572",
   "metadata": {},
   "outputs": [],
   "source": [
    "myDict2 = {i, j in sorted(myDict.items())}"
   ]
  },
  {
   "cell_type": "code",
   "execution_count": 177,
   "id": "308beee6",
   "metadata": {},
   "outputs": [
    {
     "data": {
      "text/plain": [
       "{False, 'suraj'}"
      ]
     },
     "execution_count": 177,
     "metadata": {},
     "output_type": "execute_result"
    }
   ],
   "source": [
    "myDict2"
   ]
  },
  {
   "cell_type": "code",
   "execution_count": 178,
   "id": "ddcd5042",
   "metadata": {},
   "outputs": [
    {
     "data": {
      "text/plain": [
       "['__class__',\n",
       " '__class_getitem__',\n",
       " '__contains__',\n",
       " '__delattr__',\n",
       " '__delitem__',\n",
       " '__dir__',\n",
       " '__doc__',\n",
       " '__eq__',\n",
       " '__format__',\n",
       " '__ge__',\n",
       " '__getattribute__',\n",
       " '__getitem__',\n",
       " '__getstate__',\n",
       " '__gt__',\n",
       " '__hash__',\n",
       " '__init__',\n",
       " '__init_subclass__',\n",
       " '__ior__',\n",
       " '__iter__',\n",
       " '__le__',\n",
       " '__len__',\n",
       " '__lt__',\n",
       " '__ne__',\n",
       " '__new__',\n",
       " '__or__',\n",
       " '__reduce__',\n",
       " '__reduce_ex__',\n",
       " '__repr__',\n",
       " '__reversed__',\n",
       " '__ror__',\n",
       " '__setattr__',\n",
       " '__setitem__',\n",
       " '__sizeof__',\n",
       " '__str__',\n",
       " '__subclasshook__',\n",
       " 'clear',\n",
       " 'copy',\n",
       " 'fromkeys',\n",
       " 'get',\n",
       " 'items',\n",
       " 'keys',\n",
       " 'pop',\n",
       " 'popitem',\n",
       " 'setdefault',\n",
       " 'update',\n",
       " 'values']"
      ]
     },
     "execution_count": 178,
     "metadata": {},
     "output_type": "execute_result"
    }
   ],
   "source": [
    "dir(dict)"
   ]
  },
  {
   "cell_type": "code",
   "execution_count": 180,
   "id": "dfb7e39f",
   "metadata": {},
   "outputs": [],
   "source": [
    "myDict = {'ravi': 10, \"Komal\":15, 'rajnish': 9, 'sanjeev': 5, 'suraj': 32}"
   ]
  },
  {
   "cell_type": "code",
   "execution_count": 181,
   "id": "6279a196",
   "metadata": {},
   "outputs": [
    {
     "data": {
      "text/plain": [
       "{'ravi': 10, 'Komal': 15, 'rajnish': 9, 'sanjeev': 5, 'suraj': 32}"
      ]
     },
     "execution_count": 181,
     "metadata": {},
     "output_type": "execute_result"
    }
   ],
   "source": [
    "myDict"
   ]
  },
  {
   "cell_type": "code",
   "execution_count": 186,
   "id": "e514e3c7",
   "metadata": {},
   "outputs": [
    {
     "data": {
      "text/plain": [
       "15"
      ]
     },
     "execution_count": 186,
     "metadata": {},
     "output_type": "execute_result"
    }
   ],
   "source": [
    "myDict.get(\"Komal\")"
   ]
  },
  {
   "cell_type": "code",
   "execution_count": 4,
   "id": "ba2dbfe4",
   "metadata": {},
   "outputs": [],
   "source": [
    "room = {\"akhil\" : 1, \"jittu\" : 2, \"charan\" : 3, \"shanmukh\" : 4}"
   ]
  },
  {
   "cell_type": "code",
   "execution_count": 5,
   "id": "f88f644c",
   "metadata": {},
   "outputs": [
    {
     "data": {
      "text/plain": [
       "{'akhil': 1, 'jittu': 2, 'charan': 3, 'shanmukh': 4}"
      ]
     },
     "execution_count": 5,
     "metadata": {},
     "output_type": "execute_result"
    }
   ],
   "source": [
    "room"
   ]
  },
  {
   "cell_type": "code",
   "execution_count": 6,
   "id": "3a1db979",
   "metadata": {},
   "outputs": [],
   "source": [
    "room.get(\"dinesh\")"
   ]
  },
  {
   "cell_type": "code",
   "execution_count": null,
   "id": "22ffe5a5",
   "metadata": {},
   "outputs": [],
   "source": []
  },
  {
   "cell_type": "code",
   "execution_count": 7,
   "id": "47039b94",
   "metadata": {},
   "outputs": [],
   "source": [
    "room[\"dinesh\"] = 6"
   ]
  },
  {
   "cell_type": "code",
   "execution_count": 8,
   "id": "4108f360",
   "metadata": {},
   "outputs": [
    {
     "data": {
      "text/plain": [
       "{'akhil': 1, 'jittu': 2, 'charan': 3, 'shanmukh': 4, 'dinesh': 6}"
      ]
     },
     "execution_count": 8,
     "metadata": {},
     "output_type": "execute_result"
    }
   ],
   "source": [
    "room"
   ]
  },
  {
   "cell_type": "code",
   "execution_count": 9,
   "id": "63fbbbfd",
   "metadata": {},
   "outputs": [
    {
     "data": {
      "text/plain": [
       "dict_items([('akhil', 1), ('jittu', 2), ('charan', 3), ('shanmukh', 4), ('dinesh', 6)])"
      ]
     },
     "execution_count": 9,
     "metadata": {},
     "output_type": "execute_result"
    }
   ],
   "source": [
    "room.items()"
   ]
  },
  {
   "cell_type": "code",
   "execution_count": 10,
   "id": "bf669df9",
   "metadata": {},
   "outputs": [
    {
     "data": {
      "text/plain": [
       "['__add__',\n",
       " '__class__',\n",
       " '__contains__',\n",
       " '__delattr__',\n",
       " '__dir__',\n",
       " '__doc__',\n",
       " '__eq__',\n",
       " '__format__',\n",
       " '__ge__',\n",
       " '__getattribute__',\n",
       " '__getitem__',\n",
       " '__getnewargs__',\n",
       " '__getstate__',\n",
       " '__gt__',\n",
       " '__hash__',\n",
       " '__init__',\n",
       " '__init_subclass__',\n",
       " '__iter__',\n",
       " '__le__',\n",
       " '__len__',\n",
       " '__lt__',\n",
       " '__mod__',\n",
       " '__mul__',\n",
       " '__ne__',\n",
       " '__new__',\n",
       " '__reduce__',\n",
       " '__reduce_ex__',\n",
       " '__repr__',\n",
       " '__rmod__',\n",
       " '__rmul__',\n",
       " '__setattr__',\n",
       " '__sizeof__',\n",
       " '__str__',\n",
       " '__subclasshook__',\n",
       " 'capitalize',\n",
       " 'casefold',\n",
       " 'center',\n",
       " 'count',\n",
       " 'encode',\n",
       " 'endswith',\n",
       " 'expandtabs',\n",
       " 'find',\n",
       " 'format',\n",
       " 'format_map',\n",
       " 'index',\n",
       " 'isalnum',\n",
       " 'isalpha',\n",
       " 'isascii',\n",
       " 'isdecimal',\n",
       " 'isdigit',\n",
       " 'isidentifier',\n",
       " 'islower',\n",
       " 'isnumeric',\n",
       " 'isprintable',\n",
       " 'isspace',\n",
       " 'istitle',\n",
       " 'isupper',\n",
       " 'join',\n",
       " 'ljust',\n",
       " 'lower',\n",
       " 'lstrip',\n",
       " 'maketrans',\n",
       " 'partition',\n",
       " 'removeprefix',\n",
       " 'removesuffix',\n",
       " 'replace',\n",
       " 'rfind',\n",
       " 'rindex',\n",
       " 'rjust',\n",
       " 'rpartition',\n",
       " 'rsplit',\n",
       " 'rstrip',\n",
       " 'split',\n",
       " 'splitlines',\n",
       " 'startswith',\n",
       " 'strip',\n",
       " 'swapcase',\n",
       " 'title',\n",
       " 'translate',\n",
       " 'upper',\n",
       " 'zfill']"
      ]
     },
     "execution_count": 10,
     "metadata": {},
     "output_type": "execute_result"
    }
   ],
   "source": [
    "dir(str)"
   ]
  },
  {
   "cell_type": "code",
   "execution_count": 14,
   "id": "5649c7d6",
   "metadata": {},
   "outputs": [],
   "source": [
    "name = [\"munna\", \"Dammala\", \"Komal\", \"Akhil\", \"Chanduuu\"]"
   ]
  },
  {
   "cell_type": "code",
   "execution_count": 20,
   "id": "bab57dc0",
   "metadata": {},
   "outputs": [],
   "source": [
    "len_name = []"
   ]
  },
  {
   "cell_type": "code",
   "execution_count": 21,
   "id": "56b540da",
   "metadata": {},
   "outputs": [],
   "source": [
    "for i in name:\n",
    "    len_name.append(len(i))"
   ]
  },
  {
   "cell_type": "code",
   "execution_count": 22,
   "id": "011e4a5f",
   "metadata": {},
   "outputs": [
    {
     "data": {
      "text/plain": [
       "[5, 7, 5, 5, 8]"
      ]
     },
     "execution_count": 22,
     "metadata": {},
     "output_type": "execute_result"
    }
   ],
   "source": [
    "len_name"
   ]
  },
  {
   "cell_type": "code",
   "execution_count": 23,
   "id": "7a6390a9",
   "metadata": {},
   "outputs": [
    {
     "data": {
      "text/plain": [
       "<zip at 0x130284b27c0>"
      ]
     },
     "execution_count": 23,
     "metadata": {},
     "output_type": "execute_result"
    }
   ],
   "source": [
    "zip(name, len_name)"
   ]
  },
  {
   "cell_type": "code",
   "execution_count": 95,
   "id": "d922b65c",
   "metadata": {
    "scrolled": true
   },
   "outputs": [
    {
     "data": {
      "text/plain": [
       "{'munna': 5, 'Dammala': 7, 'Komal': 5, 'Akhil': 5, 'Chanduuu': 8}"
      ]
     },
     "execution_count": 95,
     "metadata": {},
     "output_type": "execute_result"
    }
   ],
   "source": [
    "dict(zip(name, len_name))"
   ]
  },
  {
   "cell_type": "code",
   "execution_count": 92,
   "id": "1ca76ea4",
   "metadata": {},
   "outputs": [
    {
     "data": {
      "text/plain": [
       "[('Akhil', 5), ('Chanduuu', 8), ('Dammala', 7), ('Komal', 5), ('munna', 5)]"
      ]
     },
     "execution_count": 92,
     "metadata": {},
     "output_type": "execute_result"
    }
   ],
   "source": [
    "sorted(dict(zip(name, len_name)).items())"
   ]
  },
  {
   "cell_type": "code",
   "execution_count": 26,
   "id": "2b682db8",
   "metadata": {},
   "outputs": [],
   "source": [
    "simple = {}\n",
    "for i, j in list(zip(name, len_name)):\n",
    "    simple.setdefault(i, j)"
   ]
  },
  {
   "cell_type": "code",
   "execution_count": 27,
   "id": "4001a30e",
   "metadata": {},
   "outputs": [
    {
     "data": {
      "text/plain": [
       "{'munna': 5, 'Dammala': 7, 'Komal': 5, 'Akhil': 5, 'Chanduuu': 8}"
      ]
     },
     "execution_count": 27,
     "metadata": {},
     "output_type": "execute_result"
    }
   ],
   "source": [
    "simple"
   ]
  },
  {
   "cell_type": "code",
   "execution_count": 31,
   "id": "7c6e9852",
   "metadata": {},
   "outputs": [
    {
     "data": {
      "text/plain": [
       "['Akhil', 'Chanduuu', 'Dammala', 'Komal', 'munna']"
      ]
     },
     "execution_count": 31,
     "metadata": {},
     "output_type": "execute_result"
    }
   ],
   "source": [
    "sorted({i:j for i, j in list(zip(name, len_name))})"
   ]
  },
  {
   "cell_type": "code",
   "execution_count": 30,
   "id": "085d2442",
   "metadata": {},
   "outputs": [
    {
     "data": {
      "text/plain": [
       "['munna', 'Dammala', 'Komal', 'Akhil', 'Chanduuu']"
      ]
     },
     "execution_count": 30,
     "metadata": {},
     "output_type": "execute_result"
    }
   ],
   "source": [
    "[i for i in name]"
   ]
  },
  {
   "cell_type": "code",
   "execution_count": 23,
   "id": "27d931be",
   "metadata": {},
   "outputs": [],
   "source": [
    "names = [\"gautham\", \"ajay\", \"surya\", \"chandra\"]"
   ]
  },
  {
   "cell_type": "code",
   "execution_count": 24,
   "id": "7d7023bc",
   "metadata": {},
   "outputs": [],
   "source": [
    "marks = [350, 520, 400, 480]"
   ]
  },
  {
   "cell_type": "code",
   "execution_count": 25,
   "id": "af4e2a29",
   "metadata": {
    "scrolled": true
   },
   "outputs": [
    {
     "data": {
      "text/plain": [
       "[350, 520, 400, 480]"
      ]
     },
     "execution_count": 25,
     "metadata": {},
     "output_type": "execute_result"
    }
   ],
   "source": [
    "marks"
   ]
  },
  {
   "cell_type": "code",
   "execution_count": 36,
   "id": "d70485f3",
   "metadata": {},
   "outputs": [],
   "source": [
    "sheet = dict(zip(names, marks))"
   ]
  },
  {
   "cell_type": "code",
   "execution_count": 37,
   "id": "6b8fa3f2",
   "metadata": {},
   "outputs": [
    {
     "data": {
      "text/plain": [
       "{'gautham': 350, 'ajay': 520, 'surya': 400, 'chandra': 480}"
      ]
     },
     "execution_count": 37,
     "metadata": {},
     "output_type": "execute_result"
    }
   ],
   "source": [
    "sheet"
   ]
  },
  {
   "cell_type": "code",
   "execution_count": 42,
   "id": "87ebbbf7",
   "metadata": {},
   "outputs": [
    {
     "data": {
      "text/plain": [
       "[('ajay', 520), ('chandra', 480), ('gautham', 350), ('surya', 400)]"
      ]
     },
     "execution_count": 42,
     "metadata": {},
     "output_type": "execute_result"
    }
   ],
   "source": [
    "sorted((sheet).items())"
   ]
  },
  {
   "cell_type": "code",
   "execution_count": null,
   "id": "a75c0c09",
   "metadata": {},
   "outputs": [],
   "source": []
  },
  {
   "cell_type": "code",
   "execution_count": 50,
   "id": "0445f3e4",
   "metadata": {},
   "outputs": [
    {
     "data": {
      "text/plain": [
       "['BPF',\n",
       " 'LOG4',\n",
       " 'NV_MAGICCONST',\n",
       " 'RECIP_BPF',\n",
       " 'Random',\n",
       " 'SG_MAGICCONST',\n",
       " 'SystemRandom',\n",
       " 'TWOPI',\n",
       " '_ONE',\n",
       " '_Sequence',\n",
       " '_Set',\n",
       " '__all__',\n",
       " '__builtins__',\n",
       " '__cached__',\n",
       " '__doc__',\n",
       " '__file__',\n",
       " '__loader__',\n",
       " '__name__',\n",
       " '__package__',\n",
       " '__spec__',\n",
       " '_accumulate',\n",
       " '_acos',\n",
       " '_bisect',\n",
       " '_ceil',\n",
       " '_cos',\n",
       " '_e',\n",
       " '_exp',\n",
       " '_floor',\n",
       " '_index',\n",
       " '_inst',\n",
       " '_isfinite',\n",
       " '_log',\n",
       " '_os',\n",
       " '_pi',\n",
       " '_random',\n",
       " '_repeat',\n",
       " '_sha512',\n",
       " '_sin',\n",
       " '_sqrt',\n",
       " '_test',\n",
       " '_test_generator',\n",
       " '_urandom',\n",
       " '_warn',\n",
       " 'betavariate',\n",
       " 'choice',\n",
       " 'choices',\n",
       " 'expovariate',\n",
       " 'gammavariate',\n",
       " 'gauss',\n",
       " 'getrandbits',\n",
       " 'getstate',\n",
       " 'lognormvariate',\n",
       " 'normalvariate',\n",
       " 'paretovariate',\n",
       " 'randbytes',\n",
       " 'randint',\n",
       " 'random',\n",
       " 'randrange',\n",
       " 'sample',\n",
       " 'seed',\n",
       " 'setstate',\n",
       " 'shuffle',\n",
       " 'triangular',\n",
       " 'uniform',\n",
       " 'vonmisesvariate',\n",
       " 'weibullvariate']"
      ]
     },
     "execution_count": 50,
     "metadata": {},
     "output_type": "execute_result"
    }
   ],
   "source": [
    "import random\n",
    "dir(random)"
   ]
  },
  {
   "cell_type": "code",
   "execution_count": 1,
   "id": "3d014f38",
   "metadata": {},
   "outputs": [],
   "source": [
    "para = \"He then sends the gentleman to give Cordelia a message while he looks for King Lear on the heath\".split()"
   ]
  },
  {
   "cell_type": "code",
   "execution_count": 2,
   "id": "aaaac41d",
   "metadata": {},
   "outputs": [
    {
     "ename": "NameError",
     "evalue": "name 'ps' is not defined",
     "output_type": "error",
     "traceback": [
      "\u001b[1;31m---------------------------------------------------------------------------\u001b[0m",
      "\u001b[1;31mNameError\u001b[0m                                 Traceback (most recent call last)",
      "Cell \u001b[1;32mIn[2], line 3\u001b[0m\n\u001b[0;32m      1\u001b[0m \u001b[38;5;28;01mimport\u001b[39;00m \u001b[38;5;21;01mrandom\u001b[39;00m\n\u001b[0;32m      2\u001b[0m rc \u001b[38;5;241m=\u001b[39m random\u001b[38;5;241m.\u001b[39mchoice(para)\n\u001b[1;32m----> 3\u001b[0m ps \u001b[38;5;241m=\u001b[39m \u001b[43m[\u001b[49m\u001b[43mi\u001b[49m\u001b[43m \u001b[49m\u001b[38;5;28;43;01mfor\u001b[39;49;00m\u001b[43m \u001b[49m\u001b[43mi\u001b[49m\u001b[43m \u001b[49m\u001b[38;5;129;43;01min\u001b[39;49;00m\u001b[43m \u001b[49m\u001b[43mpara\u001b[49m\u001b[43m \u001b[49m\u001b[38;5;28;43;01mif\u001b[39;49;00m\u001b[43m \u001b[49m\u001b[43mi\u001b[49m\u001b[43m \u001b[49m\u001b[38;5;129;43;01mnot\u001b[39;49;00m\u001b[43m \u001b[49m\u001b[38;5;129;43;01min\u001b[39;49;00m\u001b[43m \u001b[49m\u001b[43mps\u001b[49m\u001b[43m]\u001b[49m\n\u001b[0;32m      4\u001b[0m \u001b[38;5;28mprint\u001b[39m(ps)\n\u001b[0;32m      5\u001b[0m \u001b[38;5;66;03m#leng_ps = []\u001b[39;00m\n\u001b[0;32m      6\u001b[0m \n\u001b[0;32m      7\u001b[0m \n\u001b[1;32m   (...)\u001b[0m\n\u001b[0;32m     20\u001b[0m \u001b[38;5;66;03m#         if myps[i] == j:\u001b[39;00m\n\u001b[0;32m     21\u001b[0m \u001b[38;5;66;03m#             myps1[i] = j\u001b[39;00m\n",
      "Cell \u001b[1;32mIn[2], line 3\u001b[0m, in \u001b[0;36m<listcomp>\u001b[1;34m(.0)\u001b[0m\n\u001b[0;32m      1\u001b[0m \u001b[38;5;28;01mimport\u001b[39;00m \u001b[38;5;21;01mrandom\u001b[39;00m\n\u001b[0;32m      2\u001b[0m rc \u001b[38;5;241m=\u001b[39m random\u001b[38;5;241m.\u001b[39mchoice(para)\n\u001b[1;32m----> 3\u001b[0m ps \u001b[38;5;241m=\u001b[39m [i \u001b[38;5;28;01mfor\u001b[39;00m i \u001b[38;5;129;01min\u001b[39;00m para \u001b[38;5;28;01mif\u001b[39;00m i \u001b[38;5;129;01mnot\u001b[39;00m \u001b[38;5;129;01min\u001b[39;00m \u001b[43mps\u001b[49m]\n\u001b[0;32m      4\u001b[0m \u001b[38;5;28mprint\u001b[39m(ps)\n\u001b[0;32m      5\u001b[0m \u001b[38;5;66;03m#leng_ps = []\u001b[39;00m\n\u001b[0;32m      6\u001b[0m \n\u001b[0;32m      7\u001b[0m \n\u001b[1;32m   (...)\u001b[0m\n\u001b[0;32m     20\u001b[0m \u001b[38;5;66;03m#         if myps[i] == j:\u001b[39;00m\n\u001b[0;32m     21\u001b[0m \u001b[38;5;66;03m#             myps1[i] = j\u001b[39;00m\n",
      "\u001b[1;31mNameError\u001b[0m: name 'ps' is not defined"
     ]
    }
   ],
   "source": [
    "import random\n",
    "rc = random.choice(para)\n",
    "ps = [i for i in para if i not in ps]\n",
    "print(ps)\n",
    "#leng_ps = []\n",
    "\n",
    "\n",
    "# for i in range(10):\n",
    "#     rc = random.choice(para)\n",
    "#     if rc not in ps and len(rc) not in leng_ps:\n",
    "#         ps.append(rc)\n",
    "#         leng_ps.append(len(rc))\n",
    "        \n",
    "# myps = {i:j for i, j in sorted(dict(zip(ps, leng_ps)).items())}\n",
    "\n",
    "# myps1 = {}\n",
    "\n",
    "# for j in sorted(myps.values()):\n",
    "#     for i, k in sorted(myps.items()):\n",
    "#         if myps[i] == j:\n",
    "#             myps1[i] = j\n",
    "\n",
    "    "
   ]
  },
  {
   "cell_type": "code",
   "execution_count": 3,
   "id": "3d0d2f2a",
   "metadata": {},
   "outputs": [
    {
     "ename": "NameError",
     "evalue": "name 'ps' is not defined",
     "output_type": "error",
     "traceback": [
      "\u001b[1;31m---------------------------------------------------------------------------\u001b[0m",
      "\u001b[1;31mNameError\u001b[0m                                 Traceback (most recent call last)",
      "Cell \u001b[1;32mIn[3], line 1\u001b[0m\n\u001b[1;32m----> 1\u001b[0m \u001b[43mps\u001b[49m\n",
      "\u001b[1;31mNameError\u001b[0m: name 'ps' is not defined"
     ]
    }
   ],
   "source": [
    "ps"
   ]
  },
  {
   "cell_type": "code",
   "execution_count": 4,
   "id": "3688c000",
   "metadata": {},
   "outputs": [
    {
     "ename": "NameError",
     "evalue": "name 'myps' is not defined",
     "output_type": "error",
     "traceback": [
      "\u001b[1;31m---------------------------------------------------------------------------\u001b[0m",
      "\u001b[1;31mNameError\u001b[0m                                 Traceback (most recent call last)",
      "Cell \u001b[1;32mIn[4], line 1\u001b[0m\n\u001b[1;32m----> 1\u001b[0m \u001b[43mmyps\u001b[49m\n",
      "\u001b[1;31mNameError\u001b[0m: name 'myps' is not defined"
     ]
    }
   ],
   "source": [
    "myps"
   ]
  },
  {
   "cell_type": "code",
   "execution_count": 72,
   "id": "f4c13e6d",
   "metadata": {},
   "outputs": [
    {
     "data": {
      "text/plain": [
       "['on', 'while', 'gentleman', 'the', 'Cordelia', 'message']"
      ]
     },
     "execution_count": 72,
     "metadata": {},
     "output_type": "execute_result"
    }
   ],
   "source": [
    "ps"
   ]
  },
  {
   "cell_type": "code",
   "execution_count": 73,
   "id": "77ec0549",
   "metadata": {},
   "outputs": [
    {
     "data": {
      "text/plain": [
       "[2, 5, 9, 3, 8, 7]"
      ]
     },
     "execution_count": 73,
     "metadata": {},
     "output_type": "execute_result"
    }
   ],
   "source": [
    "leng_ps"
   ]
  },
  {
   "cell_type": "code",
   "execution_count": 74,
   "id": "50a4aa4d",
   "metadata": {},
   "outputs": [
    {
     "data": {
      "text/plain": [
       "{'on': 2, 'while': 5, 'gentleman': 9, 'the': 3, 'Cordelia': 8, 'message': 7}"
      ]
     },
     "execution_count": 74,
     "metadata": {},
     "output_type": "execute_result"
    }
   ],
   "source": [
    "dict(zip(ps, leng_ps))"
   ]
  },
  {
   "cell_type": "code",
   "execution_count": 75,
   "id": "8d2f5a0d",
   "metadata": {},
   "outputs": [],
   "source": [
    "myps = dict(zip(ps, leng_ps))"
   ]
  },
  {
   "cell_type": "code",
   "execution_count": 76,
   "id": "872c6879",
   "metadata": {},
   "outputs": [
    {
     "data": {
      "text/plain": [
       "{'on': 2, 'the': 3, 'while': 5, 'message': 7, 'Cordelia': 8, 'gentleman': 9}"
      ]
     },
     "execution_count": 76,
     "metadata": {},
     "output_type": "execute_result"
    }
   ],
   "source": [
    "myps1"
   ]
  },
  {
   "cell_type": "code",
   "execution_count": 9,
   "id": "60ca2281",
   "metadata": {
    "scrolled": true
   },
   "outputs": [
    {
     "data": {
      "text/plain": [
       "dict_items([('looks', 5), ('the', 3), ('gentleman', 9), ('he', 2), ('give', 4), ('a', 1)])"
      ]
     },
     "execution_count": 9,
     "metadata": {},
     "output_type": "execute_result"
    }
   ],
   "source": [
    "myps.items()"
   ]
  },
  {
   "cell_type": "code",
   "execution_count": 10,
   "id": "ac7321c4",
   "metadata": {},
   "outputs": [],
   "source": [
    "myps1 = myps.items()"
   ]
  },
  {
   "cell_type": "code",
   "execution_count": 11,
   "id": "a8026ace",
   "metadata": {},
   "outputs": [
    {
     "data": {
      "text/plain": [
       "dict_items([('looks', 5), ('the', 3), ('gentleman', 9), ('he', 2), ('give', 4), ('a', 1)])"
      ]
     },
     "execution_count": 11,
     "metadata": {},
     "output_type": "execute_result"
    }
   ],
   "source": [
    "myps1"
   ]
  },
  {
   "cell_type": "code",
   "execution_count": null,
   "id": "0ac27836",
   "metadata": {},
   "outputs": [],
   "source": []
  },
  {
   "cell_type": "code",
   "execution_count": 12,
   "id": "e282fdac",
   "metadata": {},
   "outputs": [
    {
     "data": {
      "text/plain": [
       "(['looks', 'the', 'gentleman', 'he', 'give', 'a'], [5, 3, 9, 2, 4, 1])"
      ]
     },
     "execution_count": 12,
     "metadata": {},
     "output_type": "execute_result"
    }
   ],
   "source": [
    "ps, leng_ps"
   ]
  },
  {
   "cell_type": "code",
   "execution_count": 13,
   "id": "49e07ac2",
   "metadata": {},
   "outputs": [
    {
     "data": {
      "text/plain": [
       "['__class__',\n",
       " '__class_getitem__',\n",
       " '__contains__',\n",
       " '__delattr__',\n",
       " '__delitem__',\n",
       " '__dir__',\n",
       " '__doc__',\n",
       " '__eq__',\n",
       " '__format__',\n",
       " '__ge__',\n",
       " '__getattribute__',\n",
       " '__getitem__',\n",
       " '__getstate__',\n",
       " '__gt__',\n",
       " '__hash__',\n",
       " '__init__',\n",
       " '__init_subclass__',\n",
       " '__ior__',\n",
       " '__iter__',\n",
       " '__le__',\n",
       " '__len__',\n",
       " '__lt__',\n",
       " '__ne__',\n",
       " '__new__',\n",
       " '__or__',\n",
       " '__reduce__',\n",
       " '__reduce_ex__',\n",
       " '__repr__',\n",
       " '__reversed__',\n",
       " '__ror__',\n",
       " '__setattr__',\n",
       " '__setitem__',\n",
       " '__sizeof__',\n",
       " '__str__',\n",
       " '__subclasshook__',\n",
       " 'clear',\n",
       " 'copy',\n",
       " 'fromkeys',\n",
       " 'get',\n",
       " 'items',\n",
       " 'keys',\n",
       " 'pop',\n",
       " 'popitem',\n",
       " 'setdefault',\n",
       " 'update',\n",
       " 'values']"
      ]
     },
     "execution_count": 13,
     "metadata": {},
     "output_type": "execute_result"
    }
   ],
   "source": [
    "dir(dict)"
   ]
  },
  {
   "cell_type": "code",
   "execution_count": null,
   "id": "15280a19",
   "metadata": {},
   "outputs": [],
   "source": []
  },
  {
   "cell_type": "code",
   "execution_count": 14,
   "id": "288b2473",
   "metadata": {},
   "outputs": [
    {
     "ename": "NameError",
     "evalue": "name 'var' is not defined",
     "output_type": "error",
     "traceback": [
      "\u001b[1;31m---------------------------------------------------------------------------\u001b[0m",
      "\u001b[1;31mNameError\u001b[0m                                 Traceback (most recent call last)",
      "Cell \u001b[1;32mIn[14], line 1\u001b[0m\n\u001b[1;32m----> 1\u001b[0m \u001b[38;5;28mtype\u001b[39m(\u001b[43mvar\u001b[49m)\n",
      "\u001b[1;31mNameError\u001b[0m: name 'var' is not defined"
     ]
    }
   ],
   "source": [
    "type(var)"
   ]
  },
  {
   "cell_type": "code",
   "execution_count": 15,
   "id": "338334d3",
   "metadata": {},
   "outputs": [],
   "source": [
    "#python Fucntion"
   ]
  },
  {
   "cell_type": "code",
   "execution_count": 6,
   "id": "d5cea924",
   "metadata": {},
   "outputs": [],
   "source": [
    "import random\n",
    "\n",
    "para = \"He then sends the gentleman to give Cordelia a message while he looks for King Lear on the heath\".split()\n",
    "\n",
    "def new_funtion():\n",
    "    \"\"\" This fuciton is used to let the sequance of element in accending order\"\"\"\n",
    "    ps = []\n",
    "    leng_ps = []\n",
    "\n",
    "\n",
    "    for i in range(10):\n",
    "        rc = random.choice(para)\n",
    "        if rc not in ps and len(rc) not in leng_ps:\n",
    "            ps.append(rc)\n",
    "            leng_ps.append(len(rc))\n",
    "\n",
    "    myps = {i:j for i, j in sorted(dict(zip(ps, leng_ps)).items())}\n",
    "\n",
    "    myps1 = {}\n",
    "\n",
    "    for j in sorted(myps.values()):\n",
    "        for i, k in sorted(myps.items()):\n",
    "            if myps[i] == j:\n",
    "                myps1[i] = j\n",
    "    \n",
    "    return myps1"
   ]
  },
  {
   "cell_type": "code",
   "execution_count": 7,
   "id": "c092bf86",
   "metadata": {},
   "outputs": [
    {
     "ename": "NameError",
     "evalue": "name 'myps' is not defined",
     "output_type": "error",
     "traceback": [
      "\u001b[1;31m---------------------------------------------------------------------------\u001b[0m",
      "\u001b[1;31mNameError\u001b[0m                                 Traceback (most recent call last)",
      "Cell \u001b[1;32mIn[7], line 1\u001b[0m\n\u001b[1;32m----> 1\u001b[0m \u001b[43mmyps\u001b[49m\n",
      "\u001b[1;31mNameError\u001b[0m: name 'myps' is not defined"
     ]
    }
   ],
   "source": [
    "myps"
   ]
  },
  {
   "cell_type": "code",
   "execution_count": null,
   "id": "e6145882",
   "metadata": {},
   "outputs": [],
   "source": []
  },
  {
   "cell_type": "code",
   "execution_count": 18,
   "id": "3bd1292a",
   "metadata": {},
   "outputs": [],
   "source": [
    "ver_store = new_funtion()"
   ]
  },
  {
   "cell_type": "code",
   "execution_count": null,
   "id": "44f0c92f",
   "metadata": {},
   "outputs": [],
   "source": []
  },
  {
   "cell_type": "code",
   "execution_count": 19,
   "id": "3d57c424",
   "metadata": {},
   "outputs": [
    {
     "data": {
      "text/plain": [
       "{'on': 2, 'for': 3, 'Lear': 4, 'while': 5, 'gentleman': 9}"
      ]
     },
     "execution_count": 19,
     "metadata": {},
     "output_type": "execute_result"
    }
   ],
   "source": [
    "ver_store"
   ]
  },
  {
   "cell_type": "code",
   "execution_count": null,
   "id": "f5cb31c8",
   "metadata": {},
   "outputs": [],
   "source": []
  },
  {
   "cell_type": "code",
   "execution_count": 20,
   "id": "2e2464ed",
   "metadata": {},
   "outputs": [],
   "source": [
    "ver_store.get(\"then\")"
   ]
  },
  {
   "cell_type": "code",
   "execution_count": null,
   "id": "85973010",
   "metadata": {},
   "outputs": [],
   "source": []
  },
  {
   "cell_type": "code",
   "execution_count": 21,
   "id": "5f1a86a9",
   "metadata": {},
   "outputs": [
    {
     "data": {
      "text/plain": [
       "['__class__',\n",
       " '__class_getitem__',\n",
       " '__contains__',\n",
       " '__delattr__',\n",
       " '__delitem__',\n",
       " '__dir__',\n",
       " '__doc__',\n",
       " '__eq__',\n",
       " '__format__',\n",
       " '__ge__',\n",
       " '__getattribute__',\n",
       " '__getitem__',\n",
       " '__getstate__',\n",
       " '__gt__',\n",
       " '__hash__',\n",
       " '__init__',\n",
       " '__init_subclass__',\n",
       " '__ior__',\n",
       " '__iter__',\n",
       " '__le__',\n",
       " '__len__',\n",
       " '__lt__',\n",
       " '__ne__',\n",
       " '__new__',\n",
       " '__or__',\n",
       " '__reduce__',\n",
       " '__reduce_ex__',\n",
       " '__repr__',\n",
       " '__reversed__',\n",
       " '__ror__',\n",
       " '__setattr__',\n",
       " '__setitem__',\n",
       " '__sizeof__',\n",
       " '__str__',\n",
       " '__subclasshook__',\n",
       " 'clear',\n",
       " 'copy',\n",
       " 'fromkeys',\n",
       " 'get',\n",
       " 'items',\n",
       " 'keys',\n",
       " 'pop',\n",
       " 'popitem',\n",
       " 'setdefault',\n",
       " 'update',\n",
       " 'values']"
      ]
     },
     "execution_count": 21,
     "metadata": {},
     "output_type": "execute_result"
    }
   ],
   "source": [
    "dir(dict)"
   ]
  },
  {
   "cell_type": "code",
   "execution_count": 170,
   "id": "0a74fedf",
   "metadata": {},
   "outputs": [],
   "source": [
    "import collections"
   ]
  },
  {
   "cell_type": "code",
   "execution_count": 171,
   "id": "f434cecf",
   "metadata": {},
   "outputs": [
    {
     "data": {
      "text/plain": [
       "['ChainMap',\n",
       " 'Counter',\n",
       " 'OrderedDict',\n",
       " 'UserDict',\n",
       " 'UserList',\n",
       " 'UserString',\n",
       " '_Link',\n",
       " '_OrderedDictItemsView',\n",
       " '_OrderedDictKeysView',\n",
       " '_OrderedDictValuesView',\n",
       " '__all__',\n",
       " '__builtins__',\n",
       " '__cached__',\n",
       " '__doc__',\n",
       " '__file__',\n",
       " '__loader__',\n",
       " '__name__',\n",
       " '__package__',\n",
       " '__path__',\n",
       " '__spec__',\n",
       " '_chain',\n",
       " '_collections_abc',\n",
       " '_count_elements',\n",
       " '_eq',\n",
       " '_iskeyword',\n",
       " '_itemgetter',\n",
       " '_proxy',\n",
       " '_recursive_repr',\n",
       " '_repeat',\n",
       " '_starmap',\n",
       " '_sys',\n",
       " '_tuplegetter',\n",
       " 'abc',\n",
       " 'defaultdict',\n",
       " 'deque',\n",
       " 'namedtuple']"
      ]
     },
     "execution_count": 171,
     "metadata": {},
     "output_type": "execute_result"
    }
   ],
   "source": [
    "dir(collections)"
   ]
  },
  {
   "cell_type": "code",
   "execution_count": 184,
   "id": "e9300ca1",
   "metadata": {},
   "outputs": [],
   "source": [
    "dee = {\"akh\":111, \"esh\":222, \"raj\":333}"
   ]
  },
  {
   "cell_type": "code",
   "execution_count": 186,
   "id": "bbebe17c",
   "metadata": {},
   "outputs": [],
   "source": [
    "dee.update(({\"king\":444}))"
   ]
  },
  {
   "cell_type": "code",
   "execution_count": 187,
   "id": "d9f7bc5a",
   "metadata": {},
   "outputs": [
    {
     "data": {
      "text/plain": [
       "{'akh': 111, 'esh': 222, 'raj': 333, 'king': 444}"
      ]
     },
     "execution_count": 187,
     "metadata": {},
     "output_type": "execute_result"
    }
   ],
   "source": [
    "dee"
   ]
  },
  {
   "cell_type": "code",
   "execution_count": 22,
   "id": "9892eebc",
   "metadata": {},
   "outputs": [
    {
     "name": "stdout",
     "output_type": "stream",
     "text": [
      "enter the key = \n",
      "None\n",
      "enter the key = \n",
      "None\n",
      "enter the key = \n",
      "None\n"
     ]
    }
   ],
   "source": [
    "name = {\"akhil\":10, \"eshwar\":20, \"raju\":30}\n",
    "for i in range(len(name)):\n",
    "    new_name = input(\"enter the key = \")\n",
    "    print(name.get(new_name))"
   ]
  },
  {
   "cell_type": "code",
   "execution_count": 23,
   "id": "778c4cdb",
   "metadata": {},
   "outputs": [],
   "source": [
    "dct = {\"Munna\":len(\"Munna\"), \"Dammala\":len(\"Dammala\")}"
   ]
  },
  {
   "cell_type": "code",
   "execution_count": 24,
   "id": "f54cfb04",
   "metadata": {
    "scrolled": true
   },
   "outputs": [
    {
     "data": {
      "text/plain": [
       "5"
      ]
     },
     "execution_count": 24,
     "metadata": {},
     "output_type": "execute_result"
    }
   ],
   "source": [
    "dct[\"Munna\"]"
   ]
  },
  {
   "cell_type": "code",
   "execution_count": 25,
   "id": "34936512",
   "metadata": {},
   "outputs": [],
   "source": [
    "def my_dinesh():\n",
    "    print(\"gefrsfa\")"
   ]
  },
  {
   "cell_type": "code",
   "execution_count": null,
   "id": "fdf013ed",
   "metadata": {},
   "outputs": [],
   "source": []
  },
  {
   "cell_type": "code",
   "execution_count": 26,
   "id": "2ffef3e3",
   "metadata": {},
   "outputs": [
    {
     "name": "stdout",
     "output_type": "stream",
     "text": [
      "gefrsfa\n"
     ]
    }
   ],
   "source": [
    "my_dinesh()"
   ]
  },
  {
   "cell_type": "code",
   "execution_count": 27,
   "id": "81618ac8",
   "metadata": {},
   "outputs": [
    {
     "name": "stdout",
     "output_type": "stream",
     "text": [
      "gefrsfa\n"
     ]
    }
   ],
   "source": [
    "my_dinesh()"
   ]
  },
  {
   "cell_type": "code",
   "execution_count": 28,
   "id": "e7ac041f",
   "metadata": {},
   "outputs": [
    {
     "name": "stdout",
     "output_type": "stream",
     "text": [
      "gefrsfa\n"
     ]
    }
   ],
   "source": [
    "my_dinesh()"
   ]
  },
  {
   "cell_type": "code",
   "execution_count": null,
   "id": "202b7e3d",
   "metadata": {},
   "outputs": [],
   "source": []
  },
  {
   "cell_type": "code",
   "execution_count": 29,
   "id": "e0ef60dc",
   "metadata": {},
   "outputs": [
    {
     "data": {
      "text/plain": [
       "{'akhil': 10, 'eshwar': 20, 'raju': 30}"
      ]
     },
     "execution_count": 29,
     "metadata": {},
     "output_type": "execute_result"
    }
   ],
   "source": [
    "name"
   ]
  },
  {
   "cell_type": "code",
   "execution_count": 30,
   "id": "5a8208dc",
   "metadata": {},
   "outputs": [
    {
     "name": "stdout",
     "output_type": "stream",
     "text": [
      "enter the key = \n",
      "None\n",
      "enter the key = \n",
      "None\n",
      "enter the key = \n",
      "None\n",
      "None\n",
      "enter the key = \n",
      "None\n",
      "enter the key = \n",
      "None\n",
      "enter the key = \n",
      "None\n",
      "None\n"
     ]
    }
   ],
   "source": [
    "\n",
    "def missing_key():\n",
    "    for i in range(len(name)):\n",
    "        new_name = input(\"enter the key = \")\n",
    "        print(name.get(new_name))\n",
    "for i in range(2):\n",
    "    print(missing_key())"
   ]
  },
  {
   "cell_type": "code",
   "execution_count": 31,
   "id": "6c0bfb36",
   "metadata": {},
   "outputs": [],
   "source": [
    "name.get(\"dinesh\")"
   ]
  },
  {
   "cell_type": "code",
   "execution_count": 107,
   "id": "e6099838",
   "metadata": {},
   "outputs": [],
   "source": [
    "import random\n",
    "\n",
    "def new_funtion(values):\n",
    "    \"\"\" This fuciton is used to let the sequance of element in accending order\"\"\"\n",
    "    split_data = values.split()\n",
    "    rc = random.choice(split_data)\n",
    "    ps = [i for in range(10) if rc not in ps and len(rc not in leng_ps)]\n",
    "    leng_ps = []\n",
    "\n",
    "\n",
    "#     for i in range(10):\n",
    "#         rc = random.choice(split_data)\n",
    "#         if rc not in ps and len(rc) not in leng_ps:\n",
    "#             ps.append(rc)\n",
    "#             leng_ps.append(len(rc))\n",
    "\n",
    "    myps = {i:j for i, j in sorted(dict(zip(ps, leng_ps)).items())}\n",
    "\n",
    "    myps1 = {}\n",
    "\n",
    "    for j in sorted(myps.values()):\n",
    "        for i, k in sorted(myps.items()):\n",
    "            if myps[i] == j:\n",
    "                myps1[i] = j\n",
    "    \n",
    "    return myps1"
   ]
  },
  {
   "cell_type": "code",
   "execution_count": 108,
   "id": "4e9fd0d3",
   "metadata": {},
   "outputs": [
    {
     "data": {
      "text/plain": [
       "{'on': 2, 'while': 5, 'gentleman': 9, 'the': 3, 'Cordelia': 8, 'message': 7}"
      ]
     },
     "execution_count": 108,
     "metadata": {},
     "output_type": "execute_result"
    }
   ],
   "source": [
    "myps"
   ]
  },
  {
   "cell_type": "code",
   "execution_count": 33,
   "id": "ccc52d09",
   "metadata": {},
   "outputs": [
    {
     "name": "stdout",
     "output_type": "stream",
     "text": [
      "enter the key = \n",
      "None\n",
      "enter the key = \n",
      "None\n",
      "enter the key = \n",
      "None\n"
     ]
    }
   ],
   "source": [
    "missing_key()"
   ]
  },
  {
   "cell_type": "code",
   "execution_count": 34,
   "id": "238aa272",
   "metadata": {},
   "outputs": [],
   "source": [
    "def missing_key(name):\n",
    "    print(name)\n",
    "    for i in range(len(name)):\n",
    "        new_name = input(\"enter the key = \")\n",
    "        print(name.get(new_name))"
   ]
  },
  {
   "cell_type": "code",
   "execution_count": 35,
   "id": "03b8979e",
   "metadata": {
    "scrolled": true
   },
   "outputs": [
    {
     "ename": "TypeError",
     "evalue": "new_funtion() missing 1 required positional argument: 'values'",
     "output_type": "error",
     "traceback": [
      "\u001b[1;31m---------------------------------------------------------------------------\u001b[0m",
      "\u001b[1;31mTypeError\u001b[0m                                 Traceback (most recent call last)",
      "Cell \u001b[1;32mIn[35], line 1\u001b[0m\n\u001b[1;32m----> 1\u001b[0m missing_key(\u001b[43mnew_funtion\u001b[49m\u001b[43m(\u001b[49m\u001b[43m)\u001b[49m)\n",
      "\u001b[1;31mTypeError\u001b[0m: new_funtion() missing 1 required positional argument: 'values'"
     ]
    }
   ],
   "source": [
    "missing_key(new_funtion())"
   ]
  },
  {
   "cell_type": "code",
   "execution_count": 36,
   "id": "12e37419",
   "metadata": {},
   "outputs": [
    {
     "ename": "TypeError",
     "evalue": "new_funtion() missing 1 required positional argument: 'values'",
     "output_type": "error",
     "traceback": [
      "\u001b[1;31m---------------------------------------------------------------------------\u001b[0m",
      "\u001b[1;31mTypeError\u001b[0m                                 Traceback (most recent call last)",
      "Cell \u001b[1;32mIn[36], line 1\u001b[0m\n\u001b[1;32m----> 1\u001b[0m missing_key(\u001b[43mnew_funtion\u001b[49m\u001b[43m(\u001b[49m\u001b[43m)\u001b[49m)\n",
      "\u001b[1;31mTypeError\u001b[0m: new_funtion() missing 1 required positional argument: 'values'"
     ]
    }
   ],
   "source": [
    "missing_key(new_funtion())"
   ]
  },
  {
   "cell_type": "code",
   "execution_count": null,
   "id": "0f4bbb75",
   "metadata": {},
   "outputs": [],
   "source": []
  },
  {
   "cell_type": "code",
   "execution_count": 37,
   "id": "cedc9368",
   "metadata": {},
   "outputs": [
    {
     "data": {
      "text/plain": [
       "{'be': 2, 'the': 3, 'from': 4, 'states': 6, 'Beatles': 7}"
      ]
     },
     "execution_count": 37,
     "metadata": {},
     "output_type": "execute_result"
    }
   ],
   "source": [
    "dinesh_story = \"Books that explore subjects from William Shakespeare and The Beatles to the lure of Mount Everest and life inside one of the world’s most secretive states are competing to be named the best-ever winner of Britain’s leading nonfiction book prize\"\n",
    "new_funtion(dinesh_story)"
   ]
  },
  {
   "cell_type": "code",
   "execution_count": null,
   "id": "812033e9",
   "metadata": {},
   "outputs": [],
   "source": []
  },
  {
   "cell_type": "code",
   "execution_count": 38,
   "id": "cb06802f",
   "metadata": {},
   "outputs": [
    {
     "data": {
      "text/plain": [
       "dict"
      ]
     },
     "execution_count": 38,
     "metadata": {},
     "output_type": "execute_result"
    }
   ],
   "source": [
    "chandhu_story = \"Shakespeare occupies a position unique in world literature. Other poets, such as Homer and Dante, and novelists, such as Leo Tolstoy and Charles Dickens, have transcended national barriers, but no writer’s living reputation can compare to that of Shakespeare, whose plays, written in the late 16th and early 17th centuries for a small repertory theatre, are now performed and read more often and in more countries than ever before. The prophecy of his great contemporary, the poet and dramatist Ben Jonson, that Shakespeare “was not of an age, but for all time,” has been fulfilled.Explore five questions about Shakespeare's lifeExplore five questions about Shakespeare's lifeSee all videos for this articleIt may be audacious even to attempt a definition of his greatness, but it is not so difficult to describe the gifts that enabled him to create imaginative visions of pathos and mirth that, whether read or witnessed in the theatre, fill the mind and linger there. He is a writer of great intellectual rapidity, perceptiveness, and poetic power. Other writers have had these qualities, but with Shakespeare the keenness of mind was applied not to abstruse or remote subjects but to human beings and their complete range of emotions and conflicts. Other writers have applied their keenness of mind in this way, but Shakespeare is astonishingly clever with words and images, so that his mental energy, when applied to intelligible human situations, finds full and memorable expression, convincing\"\n",
    "type(new_funtion(chandhu_story))"
   ]
  },
  {
   "cell_type": "code",
   "execution_count": null,
   "id": "dd7734b5",
   "metadata": {},
   "outputs": [],
   "source": []
  },
  {
   "cell_type": "code",
   "execution_count": 39,
   "id": "bd081a2b",
   "metadata": {},
   "outputs": [
    {
     "name": "stdout",
     "output_type": "stream",
     "text": [
      "{'of': 2, 'one': 3, 'life': 4, 'prize': 5, 'winner': 6, 'Beatles': 7}\n",
      "enter the key = \n",
      "None\n",
      "enter the key = \n",
      "None\n",
      "enter the key = \n",
      "None\n",
      "enter the key = \n",
      "None\n",
      "enter the key = \n",
      "None\n",
      "enter the key = \n",
      "None\n"
     ]
    }
   ],
   "source": [
    "missing_key(new_funtion(dinesh_story))"
   ]
  },
  {
   "cell_type": "code",
   "execution_count": 40,
   "id": "21d45d20",
   "metadata": {},
   "outputs": [],
   "source": [
    "name = {\"kiran\": 5, \"kiran\":10}"
   ]
  },
  {
   "cell_type": "markdown",
   "id": "3bacbe50",
   "metadata": {},
   "source": [
    "name"
   ]
  },
  {
   "cell_type": "code",
   "execution_count": 41,
   "id": "d2a3cb67",
   "metadata": {},
   "outputs": [
    {
     "data": {
      "text/plain": [
       "{'kiran': 10}"
      ]
     },
     "execution_count": 41,
     "metadata": {},
     "output_type": "execute_result"
    }
   ],
   "source": [
    "name"
   ]
  },
  {
   "cell_type": "code",
   "execution_count": 42,
   "id": "6ca89465",
   "metadata": {},
   "outputs": [
    {
     "data": {
      "text/plain": [
       "{'kiran': [5, 10]}"
      ]
     },
     "execution_count": 42,
     "metadata": {},
     "output_type": "execute_result"
    }
   ],
   "source": [
    "{'kiran': [5, 10] }"
   ]
  },
  {
   "cell_type": "code",
   "execution_count": null,
   "id": "028d0ef3",
   "metadata": {},
   "outputs": [],
   "source": []
  },
  {
   "cell_type": "code",
   "execution_count": 43,
   "id": "6bf5b54d",
   "metadata": {
    "scrolled": false
   },
   "outputs": [
    {
     "ename": "KeyError",
     "evalue": "'then'",
     "output_type": "error",
     "traceback": [
      "\u001b[1;31m---------------------------------------------------------------------------\u001b[0m",
      "\u001b[1;31mKeyError\u001b[0m                                  Traceback (most recent call last)",
      "Cell \u001b[1;32mIn[43], line 1\u001b[0m\n\u001b[1;32m----> 1\u001b[0m \u001b[43mver_store\u001b[49m\u001b[43m[\u001b[49m\u001b[38;5;124;43m\"\u001b[39;49m\u001b[38;5;124;43mthen\u001b[39;49m\u001b[38;5;124;43m\"\u001b[39;49m\u001b[43m]\u001b[49m\n",
      "\u001b[1;31mKeyError\u001b[0m: 'then'"
     ]
    }
   ],
   "source": [
    "ver_store[\"then\"]"
   ]
  },
  {
   "cell_type": "code",
   "execution_count": 102,
   "id": "083b89f5",
   "metadata": {},
   "outputs": [],
   "source": [
    "India = \"Just after the Champions Trophy, India toured West Indies for a tri nation tournament against West Indies and Sri Lanka\".split()"
   ]
  },
  {
   "cell_type": "code",
   "execution_count": 103,
   "id": "91da13a7",
   "metadata": {},
   "outputs": [],
   "source": [
    "import random\n",
    "\n",
    "# name_i3 = [i for i in India if len(i) == 3]\n",
    "# name_i5 = [i for i in India if len(i) == 5]\n",
    "# name_i6 = [i for i in India if len(i) == 6]\n",
    "\n",
    "\n",
    "# for i in India:\n",
    "#     if len(i) == 3:\n",
    "#         name_i3.append(i)\n",
    "#     elif len(i) == 5:\n",
    "#         name_i5.append(i)\n",
    "#     elif len(i) == 6:\n",
    "#         name_i6.append(i)\n",
    "#     else:\n",
    "#         continue\n",
    "\n",
    "sum_India = sum()\n"
   ]
  },
  {
   "cell_type": "code",
   "execution_count": 104,
   "id": "916c2ab7",
   "metadata": {},
   "outputs": [
    {
     "data": {
      "text/plain": [
       "['the', 'for', 'tri', 'and', 'Sri']"
      ]
     },
     "execution_count": 104,
     "metadata": {},
     "output_type": "execute_result"
    }
   ],
   "source": [
    "name_i3"
   ]
  },
  {
   "cell_type": "code",
   "execution_count": 105,
   "id": "d194d441",
   "metadata": {},
   "outputs": [
    {
     "data": {
      "text/plain": [
       "['after', 'India', 'Lanka']"
      ]
     },
     "execution_count": 105,
     "metadata": {},
     "output_type": "execute_result"
    }
   ],
   "source": [
    "name_i5"
   ]
  },
  {
   "cell_type": "code",
   "execution_count": 106,
   "id": "d88f0e1e",
   "metadata": {},
   "outputs": [
    {
     "data": {
      "text/plain": [
       "['toured', 'Indies', 'nation', 'Indies']"
      ]
     },
     "execution_count": 106,
     "metadata": {},
     "output_type": "execute_result"
    }
   ],
   "source": [
    "name_i6"
   ]
  },
  {
   "cell_type": "code",
   "execution_count": null,
   "id": "77cbb95b",
   "metadata": {},
   "outputs": [],
   "source": []
  },
  {
   "cell_type": "code",
   "execution_count": null,
   "id": "caa71f8c",
   "metadata": {},
   "outputs": [],
   "source": []
  },
  {
   "cell_type": "code",
   "execution_count": 36,
   "id": "8dabf0f8",
   "metadata": {},
   "outputs": [
    {
     "data": {
      "text/plain": [
       "['the', 'West', 'tournament', 'a', 'against', 'Champions', 'nation']"
      ]
     },
     "execution_count": 36,
     "metadata": {},
     "output_type": "execute_result"
    }
   ],
   "source": [
    "name_i"
   ]
  },
  {
   "cell_type": "code",
   "execution_count": 37,
   "id": "45c2d196",
   "metadata": {},
   "outputs": [
    {
     "data": {
      "text/plain": [
       "[3, 4, 10, 1, 7, 9, 6]"
      ]
     },
     "execution_count": 37,
     "metadata": {},
     "output_type": "execute_result"
    }
   ],
   "source": [
    "leng_i"
   ]
  },
  {
   "cell_type": "code",
   "execution_count": 38,
   "id": "01e89e4f",
   "metadata": {},
   "outputs": [],
   "source": [
    "myindia = {i:j for i, j in sorted(dict(zip(name_i, leng_i)).items())}"
   ]
  },
  {
   "cell_type": "code",
   "execution_count": 39,
   "id": "e58d1311",
   "metadata": {},
   "outputs": [
    {
     "data": {
      "text/plain": [
       "{'Champions': 9,\n",
       " 'West': 4,\n",
       " 'a': 1,\n",
       " 'against': 7,\n",
       " 'nation': 6,\n",
       " 'the': 3,\n",
       " 'tournament': 10}"
      ]
     },
     "execution_count": 39,
     "metadata": {},
     "output_type": "execute_result"
    }
   ],
   "source": [
    "myindia"
   ]
  },
  {
   "cell_type": "code",
   "execution_count": 10,
   "id": "52f71720",
   "metadata": {},
   "outputs": [],
   "source": [
    "lst = [None]"
   ]
  },
  {
   "cell_type": "code",
   "execution_count": 12,
   "id": "2666d643",
   "metadata": {},
   "outputs": [],
   "source": [
    "lst[0] = \"Munna\""
   ]
  },
  {
   "cell_type": "code",
   "execution_count": 13,
   "id": "46c790e6",
   "metadata": {},
   "outputs": [
    {
     "data": {
      "text/plain": [
       "['Munna', 'Munna']"
      ]
     },
     "execution_count": 13,
     "metadata": {},
     "output_type": "execute_result"
    }
   ],
   "source": [
    "lst"
   ]
  },
  {
   "cell_type": "code",
   "execution_count": 75,
   "id": "4512f0a7",
   "metadata": {},
   "outputs": [],
   "source": [
    "para = \"He then sends the gentleman to give Cordelia a message while he looks for King Lear on the heath\".split()"
   ]
  },
  {
   "cell_type": "code",
   "execution_count": 76,
   "id": "08cc4455",
   "metadata": {},
   "outputs": [],
   "source": [
    "import random\n",
    "\n",
    "kar = []\n",
    "leng_kar = []\n",
    "\n",
    "for i in para:\n",
    "    ic = random.choice(para)\n",
    "    if ic not in kar and len(ic) not in leng_kar:\n",
    "        kar.append(ic)\n",
    "        leng_kar.append(len(ic))\n",
    "        \n",
    "mykar = {i:j for i, j in (zip(kar, leng_kar))}\n",
    "\n",
    "\n",
    "sum_of_mykar = sum(mykar.values())"
   ]
  },
  {
   "cell_type": "code",
   "execution_count": 77,
   "id": "c9411055",
   "metadata": {},
   "outputs": [
    {
     "data": {
      "text/plain": [
       "['heath', 'He', 'the', 'message', 'Cordelia', 'a', 'King']"
      ]
     },
     "execution_count": 77,
     "metadata": {},
     "output_type": "execute_result"
    }
   ],
   "source": [
    "kar"
   ]
  },
  {
   "cell_type": "code",
   "execution_count": 78,
   "id": "02fa7de3",
   "metadata": {},
   "outputs": [
    {
     "data": {
      "text/plain": [
       "[5, 2, 3, 7, 8, 1, 4]"
      ]
     },
     "execution_count": 78,
     "metadata": {},
     "output_type": "execute_result"
    }
   ],
   "source": [
    "leng_kar"
   ]
  },
  {
   "cell_type": "code",
   "execution_count": 79,
   "id": "92544817",
   "metadata": {},
   "outputs": [
    {
     "data": {
      "text/plain": [
       "{'heath': 5, 'He': 2, 'the': 3, 'message': 7, 'Cordelia': 8, 'a': 1, 'King': 4}"
      ]
     },
     "execution_count": 79,
     "metadata": {},
     "output_type": "execute_result"
    }
   ],
   "source": [
    "mykar"
   ]
  },
  {
   "cell_type": "code",
   "execution_count": 80,
   "id": "6eefff2a",
   "metadata": {},
   "outputs": [
    {
     "data": {
      "text/plain": [
       "30"
      ]
     },
     "execution_count": 80,
     "metadata": {},
     "output_type": "execute_result"
    }
   ],
   "source": [
    "sum_of_mykar"
   ]
  },
  {
   "cell_type": "code",
   "execution_count": null,
   "id": "cc3b75e3",
   "metadata": {},
   "outputs": [],
   "source": []
  },
  {
   "cell_type": "code",
   "execution_count": 81,
   "id": "1ed62ddf",
   "metadata": {},
   "outputs": [],
   "source": [
    "KAR = {\"akhil\":5, \"eshwar\":6, \"raju\":4}"
   ]
  },
  {
   "cell_type": "code",
   "execution_count": 99,
   "id": "f8a0d13e",
   "metadata": {},
   "outputs": [],
   "source": [
    "KAR[\"shanvika\"] = 7"
   ]
  },
  {
   "cell_type": "code",
   "execution_count": null,
   "id": "d689d570",
   "metadata": {},
   "outputs": [],
   "source": []
  },
  {
   "cell_type": "code",
   "execution_count": 101,
   "id": "1764694c",
   "metadata": {},
   "outputs": [
    {
     "data": {
      "text/plain": [
       "8"
      ]
     },
     "execution_count": 101,
     "metadata": {},
     "output_type": "execute_result"
    }
   ],
   "source": [
    "KAR.setdefault(\"dinesh\", 8)"
   ]
  },
  {
   "cell_type": "code",
   "execution_count": 102,
   "id": "adae94f2",
   "metadata": {},
   "outputs": [
    {
     "data": {
      "text/plain": [
       "{'akhil': 5, 'eshwar': 6, 'raju': 4, 'shanvika': 7, 'dinesh': 8}"
      ]
     },
     "execution_count": 102,
     "metadata": {},
     "output_type": "execute_result"
    }
   ],
   "source": [
    "KAR"
   ]
  },
  {
   "cell_type": "code",
   "execution_count": 157,
   "id": "889c14d6",
   "metadata": {},
   "outputs": [],
   "source": [
    "import collections"
   ]
  },
  {
   "cell_type": "code",
   "execution_count": 154,
   "id": "2b44e7aa",
   "metadata": {},
   "outputs": [],
   "source": [
    "KAR = {\"akhil\":5, \"eshwar\":6, \"raju\":4}"
   ]
  },
  {
   "cell_type": "code",
   "execution_count": 165,
   "id": "fc56a85a",
   "metadata": {},
   "outputs": [],
   "source": [
    "KAR.update([(\"king\", 15)])"
   ]
  },
  {
   "cell_type": "code",
   "execution_count": 166,
   "id": "2fe944b4",
   "metadata": {},
   "outputs": [
    {
     "data": {
      "text/plain": [
       "{'akhil': 5, 'eshwar': 6, 'raju': 4, 'gautham': 11, 'king': 15}"
      ]
     },
     "execution_count": 166,
     "metadata": {},
     "output_type": "execute_result"
    }
   ],
   "source": [
    "KAR"
   ]
  },
  {
   "cell_type": "code",
   "execution_count": 120,
   "id": "f2a12c77",
   "metadata": {},
   "outputs": [],
   "source": [
    "{\"vikas\":9}.update(KAR)"
   ]
  },
  {
   "cell_type": "code",
   "execution_count": null,
   "id": "b6cf76f6",
   "metadata": {},
   "outputs": [],
   "source": []
  },
  {
   "cell_type": "code",
   "execution_count": 106,
   "id": "7c985557",
   "metadata": {},
   "outputs": [
    {
     "data": {
      "text/plain": [
       "{'akhil': 5, 'eshwar': 6, 'raju': 4, 'shanvika': 7, 'dinesh': 8}"
      ]
     },
     "execution_count": 106,
     "metadata": {},
     "output_type": "execute_result"
    }
   ],
   "source": [
    "KAR"
   ]
  },
  {
   "cell_type": "code",
   "execution_count": 82,
   "id": "cbf364f7",
   "metadata": {},
   "outputs": [],
   "source": [
    "import sys\n",
    "size_KAR = sys.getsizeof(KAR)"
   ]
  },
  {
   "cell_type": "code",
   "execution_count": 83,
   "id": "3d49db59",
   "metadata": {},
   "outputs": [
    {
     "data": {
      "text/plain": [
       "184"
      ]
     },
     "execution_count": 83,
     "metadata": {},
     "output_type": "execute_result"
    }
   ],
   "source": [
    "size_KAR"
   ]
  },
  {
   "cell_type": "code",
   "execution_count": 97,
   "id": "dbaa35df",
   "metadata": {},
   "outputs": [],
   "source": [
    "merge_kar = {**mykar, **KAR}"
   ]
  },
  {
   "cell_type": "code",
   "execution_count": 98,
   "id": "13044f08",
   "metadata": {},
   "outputs": [
    {
     "data": {
      "text/plain": [
       "{'heath': 5,\n",
       " 'He': 2,\n",
       " 'the': 3,\n",
       " 'message': 7,\n",
       " 'Cordelia': 8,\n",
       " 'a': 1,\n",
       " 'King': 4,\n",
       " 'akhil': 5,\n",
       " 'eshwar': 6,\n",
       " 'raju': 4}"
      ]
     },
     "execution_count": 98,
     "metadata": {},
     "output_type": "execute_result"
    }
   ],
   "source": [
    "merge_kar"
   ]
  },
  {
   "cell_type": "code",
   "execution_count": 84,
   "id": "8f2d7329",
   "metadata": {},
   "outputs": [],
   "source": [
    "mykar.update(KAR)"
   ]
  },
  {
   "cell_type": "code",
   "execution_count": 85,
   "id": "538b9222",
   "metadata": {},
   "outputs": [
    {
     "data": {
      "text/plain": [
       "{'heath': 5,\n",
       " 'He': 2,\n",
       " 'the': 3,\n",
       " 'message': 7,\n",
       " 'Cordelia': 8,\n",
       " 'a': 1,\n",
       " 'King': 4,\n",
       " 'akhil': 5,\n",
       " 'eshwar': 6,\n",
       " 'raju': 4}"
      ]
     },
     "execution_count": 85,
     "metadata": {},
     "output_type": "execute_result"
    }
   ],
   "source": [
    "mykar"
   ]
  },
  {
   "cell_type": "code",
   "execution_count": null,
   "id": "7d9b3dab",
   "metadata": {},
   "outputs": [],
   "source": []
  },
  {
   "cell_type": "code",
   "execution_count": 53,
   "id": "6a7b9b46",
   "metadata": {},
   "outputs": [
    {
     "name": "stdout",
     "output_type": "stream",
     "text": [
      "15\n"
     ]
    }
   ],
   "source": [
    "sum_of_KAR = sum(KAR.values())\n",
    "print(sum_of_KAR)"
   ]
  },
  {
   "cell_type": "code",
   "execution_count": null,
   "id": "2145d9f2",
   "metadata": {},
   "outputs": [],
   "source": []
  },
  {
   "cell_type": "code",
   "execution_count": 54,
   "id": "ce04878d",
   "metadata": {},
   "outputs": [],
   "source": [
    "a,b = [2,7], {2,7}"
   ]
  },
  {
   "cell_type": "code",
   "execution_count": 55,
   "id": "eea339cf",
   "metadata": {},
   "outputs": [
    {
     "data": {
      "text/plain": [
       "list"
      ]
     },
     "execution_count": 55,
     "metadata": {},
     "output_type": "execute_result"
    }
   ],
   "source": [
    "type(a)"
   ]
  },
  {
   "cell_type": "code",
   "execution_count": 56,
   "id": "62506129",
   "metadata": {},
   "outputs": [
    {
     "data": {
      "text/plain": [
       "set"
      ]
     },
     "execution_count": 56,
     "metadata": {},
     "output_type": "execute_result"
    }
   ],
   "source": [
    "type(b)"
   ]
  },
  {
   "cell_type": "code",
   "execution_count": 218,
   "id": "86253cf2",
   "metadata": {},
   "outputs": [],
   "source": [
    "dee = {\"ak\":11, \"bk\":22, \"ck\":33}"
   ]
  },
  {
   "cell_type": "code",
   "execution_count": 219,
   "id": "89fc2723",
   "metadata": {},
   "outputs": [],
   "source": [
    "kee = list(dee.items())"
   ]
  },
  {
   "cell_type": "code",
   "execution_count": 220,
   "id": "433ce2d9",
   "metadata": {},
   "outputs": [
    {
     "data": {
      "text/plain": [
       "[('ak', 11), ('bk', 22), ('ck', 33)]"
      ]
     },
     "execution_count": 220,
     "metadata": {},
     "output_type": "execute_result"
    }
   ],
   "source": [
    "kee"
   ]
  },
  {
   "cell_type": "code",
   "execution_count": 224,
   "id": "6c34adaf",
   "metadata": {},
   "outputs": [],
   "source": [
    "kee.insert(0, (\"dk\", 44))"
   ]
  },
  {
   "cell_type": "code",
   "execution_count": 225,
   "id": "072324dd",
   "metadata": {},
   "outputs": [
    {
     "data": {
      "text/plain": [
       "[('dk', 44), ('ak', 11), ('bk', 22), ('ck', 33)]"
      ]
     },
     "execution_count": 225,
     "metadata": {},
     "output_type": "execute_result"
    }
   ],
   "source": [
    "kee"
   ]
  },
  {
   "cell_type": "code",
   "execution_count": 226,
   "id": "a53b6fb3",
   "metadata": {},
   "outputs": [
    {
     "data": {
      "text/plain": [
       "{'dk': 44, 'ak': 11, 'bk': 22, 'ck': 33}"
      ]
     },
     "execution_count": 226,
     "metadata": {},
     "output_type": "execute_result"
    }
   ],
   "source": [
    "dict(kee)"
   ]
  },
  {
   "cell_type": "code",
   "execution_count": 228,
   "id": "7325b616",
   "metadata": {},
   "outputs": [],
   "source": [
    "def dict_insert_value(ins_dict, update_value):\n",
    "    kee = list(ins_dict.items())\n",
    "    kee.insert(0, update_value)\n",
    "    return dict(kee)"
   ]
  },
  {
   "cell_type": "code",
   "execution_count": 229,
   "id": "c0327176",
   "metadata": {},
   "outputs": [
    {
     "data": {
      "text/plain": [
       "{'dk': 44, 'ak': 11, 'bk': 22, 'ck': 33}"
      ]
     },
     "execution_count": 229,
     "metadata": {},
     "output_type": "execute_result"
    }
   ],
   "source": [
    "vla_1 = {\"ak\":11, \"bk\":22, \"ck\":33}\n",
    "dict_insert_value(vla_1, (\"dk\", 44))"
   ]
  },
  {
   "cell_type": "code",
   "execution_count": 230,
   "id": "0a73656b",
   "metadata": {},
   "outputs": [
    {
     "data": {
      "text/plain": [
       "{'ek': 55, 'ak': 11, 'bk': 22, 'ck': 33}"
      ]
     },
     "execution_count": 230,
     "metadata": {},
     "output_type": "execute_result"
    }
   ],
   "source": [
    "dict_insert_value({\"ak\":11, \"bk\":22, \"ck\":33}, (\"ek\", 55))"
   ]
  },
  {
   "cell_type": "code",
   "execution_count": 236,
   "id": "c1d500ad",
   "metadata": {},
   "outputs": [],
   "source": [
    "shake = \"Shakespeare occupies a position unique in world literature. \\\n",
    "Other poets, such as Homer and Dante, and novelists, such as Leo Tolstoy \\\n",
    "and Charles Dickens, have transcended national barriers, but no writer’s living \\\n",
    "reputation can compare to that of Shakespeare, whose plays, written in the late 16th and early \\\n",
    "17th centuries for a small repertory theatre, are now performed and read more often and in more countries \\\n",
    "than ever before. The prophecy of his great contemporary, the poet and dramatist Ben Jonson, that Shakespeare \\\n",
    "was not of an age, but for all time has been fulfilled.Explore five questions about Shakespeares \\\n",
    "lifeExplore five questions about Shakespeare's lifeSee all videos for this article It may be audacious \\\n",
    "even to attempt a definition of his greatness, but it is not so difficult to describe the gifts that enabled him \\\n",
    "to create imaginative visions of pathos and mirth that whether read or witnessed in the theatre, fill the mind and linger there. He is a writer of great intellectual rapidity, perceptiveness, and poetic power. Other writers have had these qualities, but with Shakespeare the keenness of mind was applied not to abstruse or remote subjects but to human beings and their complete range of emotions and conflicts. Other writers have applied their keenness of mind in this way, but Shakespeare is astonishingly clever with words and images, so that his mental energy, when applied to intelligible human situations, finds full and memorable expression, convincing and imaginatively stimulating. As if this were not enough, the art form into which his creative energies went was not remote and bookish but involved the vivid stage impersonation of human beings, commanding sympathy and inviting vicarious participation.\\\n",
    "Thus, Shakespeare’s merits can survive translation into other languages and into cultures remote from that of\\\n",
    "Elizabethan England\".split()"
   ]
  },
  {
   "cell_type": "code",
   "execution_count": 237,
   "id": "d383312b",
   "metadata": {},
   "outputs": [
    {
     "data": {
      "text/plain": [
       "['Shakespeare',\n",
       " 'occupies',\n",
       " 'a',\n",
       " 'position',\n",
       " 'unique',\n",
       " 'in',\n",
       " 'world',\n",
       " 'literature.',\n",
       " 'Other',\n",
       " 'poets,',\n",
       " 'such',\n",
       " 'as',\n",
       " 'Homer',\n",
       " 'and',\n",
       " 'Dante,',\n",
       " 'and',\n",
       " 'novelists,',\n",
       " 'such',\n",
       " 'as',\n",
       " 'Leo',\n",
       " 'Tolstoy',\n",
       " 'and',\n",
       " 'Charles',\n",
       " 'Dickens,',\n",
       " 'have',\n",
       " 'transcended',\n",
       " 'national',\n",
       " 'barriers,',\n",
       " 'but',\n",
       " 'no',\n",
       " 'writer’s',\n",
       " 'living',\n",
       " 'reputation',\n",
       " 'can',\n",
       " 'compare',\n",
       " 'to',\n",
       " 'that',\n",
       " 'of',\n",
       " 'Shakespeare,',\n",
       " 'whose',\n",
       " 'plays,',\n",
       " 'written',\n",
       " 'in',\n",
       " 'the',\n",
       " 'late',\n",
       " '16th',\n",
       " 'and',\n",
       " 'early',\n",
       " '17th',\n",
       " 'centuries',\n",
       " 'for',\n",
       " 'a',\n",
       " 'small',\n",
       " 'repertory',\n",
       " 'theatre,',\n",
       " 'are',\n",
       " 'now',\n",
       " 'performed',\n",
       " 'and',\n",
       " 'read',\n",
       " 'more',\n",
       " 'often',\n",
       " 'and',\n",
       " 'in',\n",
       " 'more',\n",
       " 'countries',\n",
       " 'than',\n",
       " 'ever',\n",
       " 'before.',\n",
       " 'The',\n",
       " 'prophecy',\n",
       " 'of',\n",
       " 'his',\n",
       " 'great',\n",
       " 'contemporary,',\n",
       " 'the',\n",
       " 'poet',\n",
       " 'and',\n",
       " 'dramatist',\n",
       " 'Ben',\n",
       " 'Jonson,',\n",
       " 'that',\n",
       " 'Shakespeare',\n",
       " 'was',\n",
       " 'not',\n",
       " 'of',\n",
       " 'an',\n",
       " 'age,',\n",
       " 'but',\n",
       " 'for',\n",
       " 'all',\n",
       " 'time',\n",
       " 'has',\n",
       " 'been',\n",
       " 'fulfilled.Explore',\n",
       " 'five',\n",
       " 'questions',\n",
       " 'about',\n",
       " 'Shakespeares',\n",
       " 'lifeExplore',\n",
       " 'five',\n",
       " 'questions',\n",
       " 'about',\n",
       " \"Shakespeare's\",\n",
       " 'lifeSee',\n",
       " 'all',\n",
       " 'videos',\n",
       " 'for',\n",
       " 'this',\n",
       " 'article',\n",
       " 'It',\n",
       " 'may',\n",
       " 'be',\n",
       " 'audacious',\n",
       " 'even',\n",
       " 'to',\n",
       " 'attempt',\n",
       " 'a',\n",
       " 'definition',\n",
       " 'of',\n",
       " 'his',\n",
       " 'greatness,',\n",
       " 'but',\n",
       " 'it',\n",
       " 'is',\n",
       " 'not',\n",
       " 'so',\n",
       " 'difficult',\n",
       " 'to',\n",
       " 'describe',\n",
       " 'the',\n",
       " 'gifts',\n",
       " 'that',\n",
       " 'enabled',\n",
       " 'him',\n",
       " 'to',\n",
       " 'create',\n",
       " 'imaginative',\n",
       " 'visions',\n",
       " 'of',\n",
       " 'pathos',\n",
       " 'and',\n",
       " 'mirth',\n",
       " 'that',\n",
       " 'whether',\n",
       " 'read',\n",
       " 'or',\n",
       " 'witnessed',\n",
       " 'in',\n",
       " 'the',\n",
       " 'theatre,',\n",
       " 'fill',\n",
       " 'the',\n",
       " 'mind',\n",
       " 'and',\n",
       " 'linger',\n",
       " 'there.',\n",
       " 'He',\n",
       " 'is',\n",
       " 'a',\n",
       " 'writer',\n",
       " 'of',\n",
       " 'great',\n",
       " 'intellectual',\n",
       " 'rapidity,',\n",
       " 'perceptiveness,',\n",
       " 'and',\n",
       " 'poetic',\n",
       " 'power.',\n",
       " 'Other',\n",
       " 'writers',\n",
       " 'have',\n",
       " 'had',\n",
       " 'these',\n",
       " 'qualities,',\n",
       " 'but',\n",
       " 'with',\n",
       " 'Shakespeare',\n",
       " 'the',\n",
       " 'keenness',\n",
       " 'of',\n",
       " 'mind',\n",
       " 'was',\n",
       " 'applied',\n",
       " 'not',\n",
       " 'to',\n",
       " 'abstruse',\n",
       " 'or',\n",
       " 'remote',\n",
       " 'subjects',\n",
       " 'but',\n",
       " 'to',\n",
       " 'human',\n",
       " 'beings',\n",
       " 'and',\n",
       " 'their',\n",
       " 'complete',\n",
       " 'range',\n",
       " 'of',\n",
       " 'emotions',\n",
       " 'and',\n",
       " 'conflicts.',\n",
       " 'Other',\n",
       " 'writers',\n",
       " 'have',\n",
       " 'applied',\n",
       " 'their',\n",
       " 'keenness',\n",
       " 'of',\n",
       " 'mind',\n",
       " 'in',\n",
       " 'this',\n",
       " 'way,',\n",
       " 'but',\n",
       " 'Shakespeare',\n",
       " 'is',\n",
       " 'astonishingly',\n",
       " 'clever',\n",
       " 'with',\n",
       " 'words',\n",
       " 'and',\n",
       " 'images,',\n",
       " 'so',\n",
       " 'that',\n",
       " 'his',\n",
       " 'mental',\n",
       " 'energy,',\n",
       " 'when',\n",
       " 'applied',\n",
       " 'to',\n",
       " 'intelligible',\n",
       " 'human',\n",
       " 'situations,',\n",
       " 'finds',\n",
       " 'full',\n",
       " 'and',\n",
       " 'memorable',\n",
       " 'expression,',\n",
       " 'convincing',\n",
       " 'and',\n",
       " 'imaginatively',\n",
       " 'stimulating.',\n",
       " 'As',\n",
       " 'if',\n",
       " 'this',\n",
       " 'were',\n",
       " 'not',\n",
       " 'enough,',\n",
       " 'the',\n",
       " 'art',\n",
       " 'form',\n",
       " 'into',\n",
       " 'which',\n",
       " 'his',\n",
       " 'creative',\n",
       " 'energies',\n",
       " 'went',\n",
       " 'was',\n",
       " 'not',\n",
       " 'remote',\n",
       " 'and',\n",
       " 'bookish',\n",
       " 'but',\n",
       " 'involved',\n",
       " 'the',\n",
       " 'vivid',\n",
       " 'stage',\n",
       " 'impersonation',\n",
       " 'of',\n",
       " 'human',\n",
       " 'beings,',\n",
       " 'commanding',\n",
       " 'sympathy',\n",
       " 'and',\n",
       " 'inviting',\n",
       " 'vicarious',\n",
       " 'participation.Thus,',\n",
       " 'Shakespeare’s',\n",
       " 'merits',\n",
       " 'can',\n",
       " 'survive',\n",
       " 'translation',\n",
       " 'into',\n",
       " 'other',\n",
       " 'languages',\n",
       " 'and',\n",
       " 'into',\n",
       " 'cultures',\n",
       " 'remote',\n",
       " 'from',\n",
       " 'that',\n",
       " 'ofElizabethan',\n",
       " 'England']"
      ]
     },
     "execution_count": 237,
     "metadata": {},
     "output_type": "execute_result"
    }
   ],
   "source": [
    "shake"
   ]
  },
  {
   "cell_type": "code",
   "execution_count": 249,
   "id": "47aae0db",
   "metadata": {},
   "outputs": [],
   "source": [
    "def par_count(value):\n",
    "    \n",
    "    empty_dict = {}\n",
    "    for i in value.split():\n",
    "        count_num = value.split().count(i)\n",
    "        empty_dict[i] = count_num\n",
    "    return empty_dict\n",
    "\n",
    "    "
   ]
  },
  {
   "cell_type": "code",
   "execution_count": 251,
   "id": "084a3f29",
   "metadata": {},
   "outputs": [
    {
     "data": {
      "text/plain": [
       "{'Stratford': 1,\n",
       " 'enjoyed': 1,\n",
       " 'a': 1,\n",
       " 'grammar': 1,\n",
       " 'school': 2,\n",
       " 'of': 6,\n",
       " 'good': 1,\n",
       " 'quality,': 1,\n",
       " 'and': 6,\n",
       " 'the': 12,\n",
       " 'education': 2,\n",
       " 'there': 2,\n",
       " 'was': 1,\n",
       " 'free,': 1,\n",
       " 'schoolmaster’s': 1,\n",
       " 'salary': 1,\n",
       " 'being': 1,\n",
       " 'paid': 1,\n",
       " 'by': 1,\n",
       " 'borough.': 1,\n",
       " 'No': 1,\n",
       " 'lists': 1,\n",
       " 'pupils': 1,\n",
       " 'who': 1,\n",
       " 'were': 1,\n",
       " 'at': 1,\n",
       " 'in': 1,\n",
       " '16th': 1,\n",
       " 'century': 1,\n",
       " 'have': 2,\n",
       " 'survived,': 1,\n",
       " 'but': 1,\n",
       " 'it': 2,\n",
       " 'would': 3,\n",
       " 'be': 1,\n",
       " 'absurd': 1,\n",
       " 'to': 3,\n",
       " 'suppose': 1,\n",
       " 'bailiff': 1,\n",
       " 'town': 1,\n",
       " 'did': 2,\n",
       " 'not': 2,\n",
       " 'send': 1,\n",
       " 'his': 1,\n",
       " 'son': 1,\n",
       " 'there.': 1,\n",
       " 'The': 1,\n",
       " 'boy’s': 1,\n",
       " 'consist': 1,\n",
       " 'mostly': 1,\n",
       " 'Latin': 1,\n",
       " 'studies—learning': 1,\n",
       " 'read,': 1,\n",
       " 'write,': 1,\n",
       " 'speak': 1,\n",
       " 'language': 1,\n",
       " 'fairly': 1,\n",
       " 'well': 1,\n",
       " 'studying': 1,\n",
       " 'some': 1,\n",
       " 'Classical': 1,\n",
       " 'historians,': 1,\n",
       " 'moralists,': 1,\n",
       " 'poets.': 1,\n",
       " 'Shakespeare': 1,\n",
       " 'go': 1,\n",
       " 'on': 1,\n",
       " 'university,': 1,\n",
       " 'indeed': 1,\n",
       " 'is': 1,\n",
       " 'unlikely': 1,\n",
       " 'that': 1,\n",
       " 'scholarly': 1,\n",
       " 'round': 1,\n",
       " 'logic,': 1,\n",
       " 'rhetoric,': 1,\n",
       " 'other': 1,\n",
       " 'studies': 1,\n",
       " 'then': 1,\n",
       " 'followed': 1,\n",
       " 'interested': 1,\n",
       " 'him': 1}"
      ]
     },
     "execution_count": 251,
     "metadata": {},
     "output_type": "execute_result"
    }
   ],
   "source": [
    "par_count(\"Stratford enjoyed a grammar school of good quality, and the education there was free, the schoolmaster’s salary being paid by the borough. No lists of the pupils who were at the school in the 16th century have survived, but it would be absurd to suppose the bailiff of the town did not send his son there. The boy’s education would consist mostly of Latin studies—learning to read, write, and speak the language fairly well and studying some of the Classical historians, moralists, and poets. Shakespeare did not go on to the university, and indeed it is unlikely that the scholarly round of logic, rhetoric, and other studies then followed there would have interested him\")"
   ]
  },
  {
   "cell_type": "code",
   "execution_count": 246,
   "id": "1436b62f",
   "metadata": {},
   "outputs": [],
   "source": [
    "dct = {\"Munna\":5}"
   ]
  },
  {
   "cell_type": "code",
   "execution_count": 247,
   "id": "a812529b",
   "metadata": {},
   "outputs": [],
   "source": [
    "dct[\"Munna\"] = 10"
   ]
  },
  {
   "cell_type": "code",
   "execution_count": 248,
   "id": "7de0b988",
   "metadata": {},
   "outputs": [
    {
     "data": {
      "text/plain": [
       "{'Munna': 10}"
      ]
     },
     "execution_count": 248,
     "metadata": {},
     "output_type": "execute_result"
    }
   ],
   "source": [
    "dct"
   ]
  },
  {
   "cell_type": "code",
   "execution_count": 439,
   "id": "7c95b2d6",
   "metadata": {},
   "outputs": [],
   "source": [
    "A = [\"haven\", \"more\", \"cute\", \"some\", \"one\"]"
   ]
  },
  {
   "cell_type": "code",
   "execution_count": 440,
   "id": "5ae81744",
   "metadata": {},
   "outputs": [],
   "source": [
    "B = [\"more\", \"some\", \"one\", \"by\", \"given\"]"
   ]
  },
  {
   "cell_type": "code",
   "execution_count": 441,
   "id": "d2d17f5f",
   "metadata": {},
   "outputs": [],
   "source": [
    "C = [\"some\", \"motive\", \"more\", \"by\", \"haven\", \"one\"]"
   ]
  },
  {
   "cell_type": "code",
   "execution_count": 442,
   "id": "68787f71",
   "metadata": {},
   "outputs": [
    {
     "data": {
      "text/plain": [
       "3"
      ]
     },
     "execution_count": 442,
     "metadata": {},
     "output_type": "execute_result"
    }
   ],
   "source": [
    "len(set(A).intersection(set(B)).intersection(set(C)))"
   ]
  },
  {
   "cell_type": "code",
   "execution_count": 443,
   "id": "23d4f52e",
   "metadata": {},
   "outputs": [],
   "source": [
    "A.extend(B)"
   ]
  },
  {
   "cell_type": "code",
   "execution_count": 444,
   "id": "74e8a620",
   "metadata": {},
   "outputs": [],
   "source": [
    "A.extend(C)"
   ]
  },
  {
   "cell_type": "code",
   "execution_count": 445,
   "id": "aebd844c",
   "metadata": {},
   "outputs": [
    {
     "data": {
      "text/plain": [
       "['haven',\n",
       " 'more',\n",
       " 'cute',\n",
       " 'some',\n",
       " 'one',\n",
       " 'more',\n",
       " 'some',\n",
       " 'one',\n",
       " 'by',\n",
       " 'given',\n",
       " 'some',\n",
       " 'motive',\n",
       " 'more',\n",
       " 'by',\n",
       " 'haven',\n",
       " 'one']"
      ]
     },
     "execution_count": 445,
     "metadata": {},
     "output_type": "execute_result"
    }
   ],
   "source": [
    "A"
   ]
  },
  {
   "cell_type": "code",
   "execution_count": 446,
   "id": "2eceebf7",
   "metadata": {},
   "outputs": [],
   "source": [
    "def par_count(A):\n",
    "    \n",
    "    empty_dict = {}\n",
    "    for i in A:\n",
    "        count_num = A.count(i)\n",
    "        empty_dict[i] = count_num\n",
    "    return empty_dict\n",
    "    "
   ]
  },
  {
   "cell_type": "code",
   "execution_count": 452,
   "id": "7a023007",
   "metadata": {},
   "outputs": [
    {
     "data": {
      "text/plain": [
       "{'haven': 2,\n",
       " 'more': 3,\n",
       " 'cute': 1,\n",
       " 'some': 3,\n",
       " 'one': 3,\n",
       " 'by': 2,\n",
       " 'given': 1,\n",
       " 'motive': 1}"
      ]
     },
     "execution_count": 452,
     "metadata": {},
     "output_type": "execute_result"
    }
   ],
   "source": [
    "par_count(A)"
   ]
  },
  {
   "cell_type": "code",
   "execution_count": 456,
   "id": "3fa44bd7",
   "metadata": {},
   "outputs": [],
   "source": [
    "common_val = {}\n",
    "for i, j in list(par_count(A).items()):\n",
    "    if j == len(set(A).intersection(set(B)).intersection(set(C))):\n",
    "        common_val[i] = j\n",
    "    \n",
    "# len(set(A).intersection(set(B)).intersection(set(C)))"
   ]
  },
  {
   "cell_type": "code",
   "execution_count": 457,
   "id": "5113744c",
   "metadata": {},
   "outputs": [
    {
     "data": {
      "text/plain": [
       "{}"
      ]
     },
     "execution_count": 457,
     "metadata": {},
     "output_type": "execute_result"
    }
   ],
   "source": [
    "common_val"
   ]
  },
  {
   "cell_type": "code",
   "execution_count": null,
   "id": "e5fff830",
   "metadata": {},
   "outputs": [],
   "source": []
  },
  {
   "cell_type": "code",
   "execution_count": null,
   "id": "ee75d605",
   "metadata": {},
   "outputs": [],
   "source": []
  }
 ],
 "metadata": {
  "kernelspec": {
   "display_name": "Python 3 (ipykernel)",
   "language": "python",
   "name": "python3"
  },
  "language_info": {
   "codemirror_mode": {
    "name": "ipython",
    "version": 3
   },
   "file_extension": ".py",
   "mimetype": "text/x-python",
   "name": "python",
   "nbconvert_exporter": "python",
   "pygments_lexer": "ipython3",
   "version": "3.11.2"
  }
 },
 "nbformat": 4,
 "nbformat_minor": 5
}
