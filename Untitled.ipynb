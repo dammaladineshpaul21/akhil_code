{
 "cells": [
  {
   "cell_type": "code",
   "execution_count": 1,
   "id": "786461fa",
   "metadata": {},
   "outputs": [],
   "source": [
    "import random"
   ]
  },
  {
   "cell_type": "code",
   "execution_count": 2,
   "id": "f114068d",
   "metadata": {},
   "outputs": [],
   "source": [
    "user_name = []\n",
    "user_password = []"
   ]
  },
  {
   "cell_type": "code",
   "execution_count": null,
   "id": "e8bd435e",
   "metadata": {},
   "outputs": [],
   "source": [
    "i = True\n",
    "\n",
    "while i :\n",
    "    Ldap = input(\"enter the user_name = \")\n",
    "    if len(Ldap) >= 8:\n",
    "        if Ldap.isalpha() == Ldap.isnumeric():\n",
    "            if Ldap not in user_name:\n",
    "                user_name.append(Ldap)\n",
    "                random_number = random.randint(1000,9999)\n",
    "                print(f\"{Ldap} your OTP is {random_number}\")\n",
    "                \n",
    "                j = True\n",
    "                while j:\n",
    "                    pswd = input(\"enter the password = \")\n",
    "                    if len(pswd) >= 8:\n",
    "                        if pswd.isalpha() == pswd.isnumeric():\n",
    "                            Ldap_OTP = int(input(f\"{Ldap} enter OTP = \"))\n",
    "                            if random_number == Ldap_OTP:\n",
    "                                count = 0\n",
    "                                user_password.append(pswd)\n",
    "                                run_loop_again = input(\"New_User you want to contiue still (yes/no) = \")\n",
    "                                if run_loop_again.lower() == \"no\":\n",
    "                                    i = False\n",
    "                                break\n",
    "                            else:\n",
    "                                print(\"Incorrect OTP\")\n",
    "                        else:\n",
    "                            print(\"password contains alphabets and numeric\")\n",
    "                    else:\n",
    "                        print(\"password need greater than 8 letters\")\n",
    "            else:\n",
    "                print(\"username is already exist\")\n",
    "        else:\n",
    "            print(\"Ldap contains alphabets and numeric\")\n",
    "    else:\n",
    "        print(\"Ldap need to be grater than 8 letters\")\n",
    "        \n",
    "\n",
    "myroom = {}\n",
    "\n",
    "myroom.update({user_name[i]: user_password[i]})\n",
    "\n",
    "print(myroom)\n",
    "            "
   ]
  },
  {
   "cell_type": "code",
   "execution_count": null,
   "id": "c19431c6",
   "metadata": {},
   "outputs": [],
   "source": []
  }
 ],
 "metadata": {
  "kernelspec": {
   "display_name": "Python 3 (ipykernel)",
   "language": "python",
   "name": "python3"
  },
  "language_info": {
   "codemirror_mode": {
    "name": "ipython",
    "version": 3
   },
   "file_extension": ".py",
   "mimetype": "text/x-python",
   "name": "python",
   "nbconvert_exporter": "python",
   "pygments_lexer": "ipython3",
   "version": "3.11.2"
  }
 },
 "nbformat": 4,
 "nbformat_minor": 5
}
