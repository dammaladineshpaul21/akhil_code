{
 "cells": [
  {
   "cell_type": "code",
   "execution_count": 6,
   "id": "29ff88f8",
   "metadata": {},
   "outputs": [],
   "source": [
    "a = []\n",
    "b = set()\n",
    "c = \"\"\n",
    "d = {\"fdf\":\"DFdf\"}"
   ]
  },
  {
   "cell_type": "code",
   "execution_count": 7,
   "id": "45d3b6d0",
   "metadata": {},
   "outputs": [
    {
     "data": {
      "text/plain": [
       "list"
      ]
     },
     "execution_count": 7,
     "metadata": {},
     "output_type": "execute_result"
    }
   ],
   "source": [
    "type(a)"
   ]
  },
  {
   "cell_type": "code",
   "execution_count": 8,
   "id": "591cc6b4",
   "metadata": {},
   "outputs": [
    {
     "data": {
      "text/plain": [
       "set"
      ]
     },
     "execution_count": 8,
     "metadata": {},
     "output_type": "execute_result"
    }
   ],
   "source": [
    "type(b)"
   ]
  },
  {
   "cell_type": "code",
   "execution_count": 9,
   "id": "83581caa",
   "metadata": {},
   "outputs": [
    {
     "data": {
      "text/plain": [
       "str"
      ]
     },
     "execution_count": 9,
     "metadata": {},
     "output_type": "execute_result"
    }
   ],
   "source": [
    "type(c)"
   ]
  },
  {
   "cell_type": "code",
   "execution_count": 10,
   "id": "eccf6a04",
   "metadata": {},
   "outputs": [
    {
     "data": {
      "text/plain": [
       "dict"
      ]
     },
     "execution_count": 10,
     "metadata": {},
     "output_type": "execute_result"
    }
   ],
   "source": [
    "type(d)"
   ]
  },
  {
   "cell_type": "code",
   "execution_count": 12,
   "id": "a3c86b71",
   "metadata": {},
   "outputs": [
    {
     "data": {
      "text/plain": [
       "set"
      ]
     },
     "execution_count": 12,
     "metadata": {},
     "output_type": "execute_result"
    }
   ],
   "source": [
    "type({1, 2, 23})"
   ]
  },
  {
   "cell_type": "code",
   "execution_count": 14,
   "id": "4e4263b4",
   "metadata": {},
   "outputs": [],
   "source": [
    "name = {\"Munna\": 21021995, \"Akhil\":1011994, \"Chandu\": 2103994}"
   ]
  },
  {
   "cell_type": "code",
   "execution_count": 15,
   "id": "247ec9d8",
   "metadata": {},
   "outputs": [
    {
     "data": {
      "text/plain": [
       "dict"
      ]
     },
     "execution_count": 15,
     "metadata": {},
     "output_type": "execute_result"
    }
   ],
   "source": [
    "type(name)"
   ]
  },
  {
   "cell_type": "code",
   "execution_count": 16,
   "id": "ad931fad",
   "metadata": {},
   "outputs": [
    {
     "data": {
      "text/plain": [
       "['__class__',\n",
       " '__class_getitem__',\n",
       " '__contains__',\n",
       " '__delattr__',\n",
       " '__delitem__',\n",
       " '__dir__',\n",
       " '__doc__',\n",
       " '__eq__',\n",
       " '__format__',\n",
       " '__ge__',\n",
       " '__getattribute__',\n",
       " '__getitem__',\n",
       " '__getstate__',\n",
       " '__gt__',\n",
       " '__hash__',\n",
       " '__init__',\n",
       " '__init_subclass__',\n",
       " '__ior__',\n",
       " '__iter__',\n",
       " '__le__',\n",
       " '__len__',\n",
       " '__lt__',\n",
       " '__ne__',\n",
       " '__new__',\n",
       " '__or__',\n",
       " '__reduce__',\n",
       " '__reduce_ex__',\n",
       " '__repr__',\n",
       " '__reversed__',\n",
       " '__ror__',\n",
       " '__setattr__',\n",
       " '__setitem__',\n",
       " '__sizeof__',\n",
       " '__str__',\n",
       " '__subclasshook__',\n",
       " 'clear',\n",
       " 'copy',\n",
       " 'fromkeys',\n",
       " 'get',\n",
       " 'items',\n",
       " 'keys',\n",
       " 'pop',\n",
       " 'popitem',\n",
       " 'setdefault',\n",
       " 'update',\n",
       " 'values']"
      ]
     },
     "execution_count": 16,
     "metadata": {},
     "output_type": "execute_result"
    }
   ],
   "source": [
    "dir(dict)"
   ]
  },
  {
   "cell_type": "code",
   "execution_count": 17,
   "id": "11db3810",
   "metadata": {},
   "outputs": [],
   "source": [
    "name.clear()"
   ]
  },
  {
   "cell_type": "code",
   "execution_count": 18,
   "id": "c925e1e7",
   "metadata": {},
   "outputs": [
    {
     "data": {
      "text/plain": [
       "{}"
      ]
     },
     "execution_count": 18,
     "metadata": {},
     "output_type": "execute_result"
    }
   ],
   "source": [
    "name"
   ]
  },
  {
   "cell_type": "code",
   "execution_count": 25,
   "id": "85d6293e",
   "metadata": {},
   "outputs": [],
   "source": [
    "name = {\"Munna\": 21021995, \"Akhil\":1011994, \"Chandu\": 2103994, \"komal\":None}"
   ]
  },
  {
   "cell_type": "code",
   "execution_count": 20,
   "id": "abae5484",
   "metadata": {},
   "outputs": [
    {
     "data": {
      "text/plain": [
       "{'Munna': 21021995, 'Akhil': 1011994, 'Chandu': 2103994}"
      ]
     },
     "execution_count": 20,
     "metadata": {},
     "output_type": "execute_result"
    }
   ],
   "source": [
    "name"
   ]
  },
  {
   "cell_type": "code",
   "execution_count": 21,
   "id": "b7cfdaee",
   "metadata": {},
   "outputs": [
    {
     "data": {
      "text/plain": [
       "21021995"
      ]
     },
     "execution_count": 21,
     "metadata": {},
     "output_type": "execute_result"
    }
   ],
   "source": [
    "name.get(\"Munna\")"
   ]
  },
  {
   "cell_type": "code",
   "execution_count": 22,
   "id": "1c237b8f",
   "metadata": {},
   "outputs": [
    {
     "data": {
      "text/plain": [
       "1011994"
      ]
     },
     "execution_count": 22,
     "metadata": {},
     "output_type": "execute_result"
    }
   ],
   "source": [
    "name.get(\"Akhil\")"
   ]
  },
  {
   "cell_type": "code",
   "execution_count": 23,
   "id": "c9698653",
   "metadata": {},
   "outputs": [
    {
     "data": {
      "text/plain": [
       "2103994"
      ]
     },
     "execution_count": 23,
     "metadata": {},
     "output_type": "execute_result"
    }
   ],
   "source": [
    "name.get(\"Chandu\")"
   ]
  },
  {
   "cell_type": "code",
   "execution_count": 29,
   "id": "cfbfb820",
   "metadata": {},
   "outputs": [],
   "source": [
    "name2 = name.get(\"Komal\", 256234)"
   ]
  },
  {
   "cell_type": "code",
   "execution_count": 30,
   "id": "6e4e8188",
   "metadata": {},
   "outputs": [
    {
     "data": {
      "text/plain": [
       "256234"
      ]
     },
     "execution_count": 30,
     "metadata": {},
     "output_type": "execute_result"
    }
   ],
   "source": [
    "name2"
   ]
  },
  {
   "cell_type": "code",
   "execution_count": 31,
   "id": "444f6732",
   "metadata": {},
   "outputs": [],
   "source": [
    "name = {\"Munna\": 21021995, \"Akhil\":1011994, \"Chandu\": 2103994, \"komal\":name2}"
   ]
  },
  {
   "cell_type": "code",
   "execution_count": 32,
   "id": "a575cbb4",
   "metadata": {},
   "outputs": [
    {
     "data": {
      "text/plain": [
       "{'Munna': 21021995, 'Akhil': 1011994, 'Chandu': 2103994, 'komal': 256234}"
      ]
     },
     "execution_count": 32,
     "metadata": {},
     "output_type": "execute_result"
    }
   ],
   "source": [
    "name"
   ]
  },
  {
   "cell_type": "code",
   "execution_count": 33,
   "id": "62275671",
   "metadata": {},
   "outputs": [
    {
     "data": {
      "text/plain": [
       "dict_items([('Munna', 21021995), ('Akhil', 1011994), ('Chandu', 2103994), ('komal', 256234)])"
      ]
     },
     "execution_count": 33,
     "metadata": {},
     "output_type": "execute_result"
    }
   ],
   "source": [
    "name.items()"
   ]
  },
  {
   "cell_type": "code",
   "execution_count": 46,
   "id": "8b15d7b3",
   "metadata": {},
   "outputs": [
    {
     "data": {
      "text/plain": [
       "'Munna'"
      ]
     },
     "execution_count": 46,
     "metadata": {},
     "output_type": "execute_result"
    }
   ],
   "source": [
    "list(name.items())[0][0]"
   ]
  },
  {
   "cell_type": "code",
   "execution_count": 45,
   "id": "1a313e4f",
   "metadata": {},
   "outputs": [
    {
     "data": {
      "text/plain": [
       "dict_keys(['Munna', 'Akhil', 'Chandu', 'komal'])"
      ]
     },
     "execution_count": 45,
     "metadata": {},
     "output_type": "execute_result"
    }
   ],
   "source": [
    "name.keys()"
   ]
  },
  {
   "cell_type": "code",
   "execution_count": 49,
   "id": "36aa891e",
   "metadata": {},
   "outputs": [
    {
     "data": {
      "text/plain": [
       "256234"
      ]
     },
     "execution_count": 49,
     "metadata": {},
     "output_type": "execute_result"
    }
   ],
   "source": [
    "name = {\"Munna\": 21021995, \"Akhil\":1011994, \"Chandu\": 2103994, \"komal\":name2}\n",
    "name.pop(\"komal\")"
   ]
  },
  {
   "cell_type": "code",
   "execution_count": 51,
   "id": "e529f28e",
   "metadata": {},
   "outputs": [
    {
     "data": {
      "text/plain": [
       "('Chandu', 2103994)"
      ]
     },
     "execution_count": 51,
     "metadata": {},
     "output_type": "execute_result"
    }
   ],
   "source": [
    "name.popitem()"
   ]
  },
  {
   "cell_type": "code",
   "execution_count": 52,
   "id": "38a16ac0",
   "metadata": {},
   "outputs": [
    {
     "data": {
      "text/plain": [
       "('Akhil', 1011994)"
      ]
     },
     "execution_count": 52,
     "metadata": {},
     "output_type": "execute_result"
    }
   ],
   "source": [
    "name.popitem()"
   ]
  },
  {
   "cell_type": "code",
   "execution_count": 53,
   "id": "e170b73e",
   "metadata": {},
   "outputs": [
    {
     "data": {
      "text/plain": [
       "('Munna', 21021995)"
      ]
     },
     "execution_count": 53,
     "metadata": {},
     "output_type": "execute_result"
    }
   ],
   "source": [
    "name.popitem()"
   ]
  },
  {
   "cell_type": "code",
   "execution_count": 55,
   "id": "e86279b3",
   "metadata": {},
   "outputs": [],
   "source": [
    "name = {\"Munna\": 21021995, \"Akhil\":1011994, \"Chandu\": 2103994, \"komal\":name2}"
   ]
  },
  {
   "cell_type": "code",
   "execution_count": 56,
   "id": "4e869fc1",
   "metadata": {},
   "outputs": [
    {
     "data": {
      "text/plain": [
       "{'Munna': 21021995, 'Akhil': 1011994, 'Chandu': 2103994, 'komal': 256234}"
      ]
     },
     "execution_count": 56,
     "metadata": {},
     "output_type": "execute_result"
    }
   ],
   "source": [
    "name"
   ]
  },
  {
   "cell_type": "code",
   "execution_count": 57,
   "id": "9690e1b7",
   "metadata": {},
   "outputs": [
    {
     "data": {
      "text/plain": [
       "456987"
      ]
     },
     "execution_count": 57,
     "metadata": {},
     "output_type": "execute_result"
    }
   ],
   "source": [
    "name.setdefault(\"dammala\", 456987)"
   ]
  },
  {
   "cell_type": "code",
   "execution_count": 58,
   "id": "19817c18",
   "metadata": {},
   "outputs": [
    {
     "data": {
      "text/plain": [
       "{'Munna': 21021995,\n",
       " 'Akhil': 1011994,\n",
       " 'Chandu': 2103994,\n",
       " 'komal': 256234,\n",
       " 'dammala': 456987}"
      ]
     },
     "execution_count": 58,
     "metadata": {},
     "output_type": "execute_result"
    }
   ],
   "source": [
    "name"
   ]
  },
  {
   "cell_type": "code",
   "execution_count": 3,
   "id": "5457b309",
   "metadata": {},
   "outputs": [],
   "source": [
    "stude = {}"
   ]
  },
  {
   "cell_type": "code",
   "execution_count": 4,
   "id": "44f10245",
   "metadata": {},
   "outputs": [
    {
     "name": "stdout",
     "output_type": "stream",
     "text": [
      "Enter the name = Munna\n",
      "Enter the age = \n",
      "Enter the name = Dammal\n",
      "Enter the age = 45\n",
      "Enter the name = kirna\n",
      "Enter the age = 45\n",
      "Enter the name = adsfad\n",
      "Enter the age = 62\n",
      "Enter the name = dsfasf\n",
      "Enter the age = 25\n",
      "{'Munna': '', 'Dammal': '45', 'kirna': '45', 'adsfad': '62', 'dsfasf': '25'}\n"
     ]
    }
   ],
   "source": [
    "count = 5\n",
    "while count:\n",
    "    stude.setdefault(input(\"Enter the name = \"), input(\"Enter the age = \"))\n",
    "    count = count - 1\n",
    "print(stude)"
   ]
  },
  {
   "cell_type": "code",
   "execution_count": 8,
   "id": "3486b069",
   "metadata": {},
   "outputs": [
    {
     "data": {
      "text/plain": [
       "''"
      ]
     },
     "execution_count": 8,
     "metadata": {},
     "output_type": "execute_result"
    }
   ],
   "source": [
    "stude.get(\"Munna\",589)"
   ]
  },
  {
   "cell_type": "code",
   "execution_count": 77,
   "id": "da07b781",
   "metadata": {},
   "outputs": [
    {
     "ename": "NameError",
     "evalue": "name 'stude' is not defined",
     "output_type": "error",
     "traceback": [
      "\u001b[1;31m---------------------------------------------------------------------------\u001b[0m",
      "\u001b[1;31mNameError\u001b[0m                                 Traceback (most recent call last)",
      "Cell \u001b[1;32mIn[77], line 1\u001b[0m\n\u001b[1;32m----> 1\u001b[0m \u001b[43mstude\u001b[49m\n",
      "\u001b[1;31mNameError\u001b[0m: name 'stude' is not defined"
     ]
    }
   ],
   "source": [
    "stude"
   ]
  },
  {
   "cell_type": "code",
   "execution_count": 78,
   "id": "20903e11",
   "metadata": {},
   "outputs": [],
   "source": [
    "name = {\"Munna\": 21021995, \"Akhil\":1011994, \"Chandu\": 2103994}"
   ]
  },
  {
   "cell_type": "code",
   "execution_count": 79,
   "id": "82a7af7d",
   "metadata": {},
   "outputs": [
    {
     "ename": "NameError",
     "evalue": "name 'stude' is not defined",
     "output_type": "error",
     "traceback": [
      "\u001b[1;31m---------------------------------------------------------------------------\u001b[0m",
      "\u001b[1;31mNameError\u001b[0m                                 Traceback (most recent call last)",
      "Cell \u001b[1;32mIn[79], line 1\u001b[0m\n\u001b[1;32m----> 1\u001b[0m \u001b[43mstude\u001b[49m\u001b[38;5;241m.\u001b[39mupdate(name)\n",
      "\u001b[1;31mNameError\u001b[0m: name 'stude' is not defined"
     ]
    }
   ],
   "source": [
    "stude.update(name)"
   ]
  },
  {
   "cell_type": "code",
   "execution_count": 18,
   "id": "e266896e",
   "metadata": {},
   "outputs": [
    {
     "data": {
      "text/plain": [
       "{'Munna': 21021995,\n",
       " 'Dammal': '45',\n",
       " 'kirna': '45',\n",
       " 'adsfad': '62',\n",
       " 'dsfasf': '25',\n",
       " 'Akhil': 1011994,\n",
       " 'Chandu': 2103994}"
      ]
     },
     "execution_count": 18,
     "metadata": {},
     "output_type": "execute_result"
    }
   ],
   "source": [
    "stude"
   ]
  },
  {
   "cell_type": "code",
   "execution_count": 19,
   "id": "86708132",
   "metadata": {},
   "outputs": [
    {
     "data": {
      "text/plain": [
       "dict_values([21021995, '45', '45', '62', '25', 1011994, 2103994])"
      ]
     },
     "execution_count": 19,
     "metadata": {},
     "output_type": "execute_result"
    }
   ],
   "source": [
    "stude.values()"
   ]
  },
  {
   "cell_type": "code",
   "execution_count": 21,
   "id": "f765e70b",
   "metadata": {},
   "outputs": [
    {
     "data": {
      "text/plain": [
       "['__class__',\n",
       " '__class_getitem__',\n",
       " '__contains__',\n",
       " '__delattr__',\n",
       " '__delitem__',\n",
       " '__dir__',\n",
       " '__doc__',\n",
       " '__eq__',\n",
       " '__format__',\n",
       " '__ge__',\n",
       " '__getattribute__',\n",
       " '__getitem__',\n",
       " '__getstate__',\n",
       " '__gt__',\n",
       " '__hash__',\n",
       " '__init__',\n",
       " '__init_subclass__',\n",
       " '__ior__',\n",
       " '__iter__',\n",
       " '__le__',\n",
       " '__len__',\n",
       " '__lt__',\n",
       " '__ne__',\n",
       " '__new__',\n",
       " '__or__',\n",
       " '__reduce__',\n",
       " '__reduce_ex__',\n",
       " '__repr__',\n",
       " '__reversed__',\n",
       " '__ror__',\n",
       " '__setattr__',\n",
       " '__setitem__',\n",
       " '__sizeof__',\n",
       " '__str__',\n",
       " '__subclasshook__',\n",
       " 'clear',\n",
       " 'copy',\n",
       " 'fromkeys',\n",
       " 'get',\n",
       " 'items',\n",
       " 'keys',\n",
       " 'pop',\n",
       " 'popitem',\n",
       " 'setdefault',\n",
       " 'update',\n",
       " 'values']"
      ]
     },
     "execution_count": 21,
     "metadata": {},
     "output_type": "execute_result"
    }
   ],
   "source": [
    "dir(dict)"
   ]
  },
  {
   "cell_type": "code",
   "execution_count": 70,
   "id": "ed8696ee",
   "metadata": {},
   "outputs": [],
   "source": [
    "family = {\"shiva\":40, \"vijaya\":35, \"vikas\":30, \"akhil\":25, \"chintu\":20}"
   ]
  },
  {
   "cell_type": "code",
   "execution_count": 71,
   "id": "ce185d68",
   "metadata": {},
   "outputs": [
    {
     "data": {
      "text/plain": [
       "{'shiva': 40, 'vijaya': 35, 'vikas': 30, 'akhil': 25, 'chintu': 20}"
      ]
     },
     "execution_count": 71,
     "metadata": {},
     "output_type": "execute_result"
    }
   ],
   "source": [
    "family"
   ]
  },
  {
   "cell_type": "code",
   "execution_count": 72,
   "id": "927974ea",
   "metadata": {},
   "outputs": [],
   "source": [
    "family2 = {\"chandra\":1,\"vennala\":2,\"meghana\":3}"
   ]
  },
  {
   "cell_type": "code",
   "execution_count": 73,
   "id": "a5b0cc1a",
   "metadata": {},
   "outputs": [
    {
     "data": {
      "text/plain": [
       "{'chandra': 1, 'vennala': 2, 'meghana': 3}"
      ]
     },
     "execution_count": 73,
     "metadata": {},
     "output_type": "execute_result"
    }
   ],
   "source": [
    "family2"
   ]
  },
  {
   "cell_type": "code",
   "execution_count": 74,
   "id": "5027e2fc",
   "metadata": {},
   "outputs": [
    {
     "data": {
      "text/plain": [
       "dict_keys(['chandra', 'vennala', 'meghana'])"
      ]
     },
     "execution_count": 74,
     "metadata": {},
     "output_type": "execute_result"
    }
   ],
   "source": [
    "family2.keys()"
   ]
  },
  {
   "cell_type": "code",
   "execution_count": 75,
   "id": "21c97080",
   "metadata": {},
   "outputs": [],
   "source": [
    "family.update(family2)"
   ]
  },
  {
   "cell_type": "code",
   "execution_count": 76,
   "id": "6c3448ba",
   "metadata": {},
   "outputs": [
    {
     "data": {
      "text/plain": [
       "{'shiva': 40,\n",
       " 'vijaya': 35,\n",
       " 'vikas': 30,\n",
       " 'akhil': 25,\n",
       " 'chintu': 20,\n",
       " 'chandra': 1,\n",
       " 'vennala': 2,\n",
       " 'meghana': 3}"
      ]
     },
     "execution_count": 76,
     "metadata": {},
     "output_type": "execute_result"
    }
   ],
   "source": [
    "family"
   ]
  },
  {
   "cell_type": "code",
   "execution_count": 69,
   "id": "cc9a23c6",
   "metadata": {},
   "outputs": [
    {
     "data": {
      "text/plain": [
       "{'chandra': 1, 'vennala': 2, 'meghana': 3}"
      ]
     },
     "execution_count": 69,
     "metadata": {},
     "output_type": "execute_result"
    }
   ],
   "source": [
    "family2"
   ]
  },
  {
   "cell_type": "code",
   "execution_count": 83,
   "id": "63e02b09",
   "metadata": {},
   "outputs": [],
   "source": [
    "lst1 = list(range(1, 10))\n",
    "lst2 = list(range(11, 20))"
   ]
  },
  {
   "cell_type": "code",
   "execution_count": 84,
   "id": "d75d7b5d",
   "metadata": {},
   "outputs": [
    {
     "data": {
      "text/plain": [
       "[1, 2, 3, 4, 5, 6, 7, 8, 9]"
      ]
     },
     "execution_count": 84,
     "metadata": {},
     "output_type": "execute_result"
    }
   ],
   "source": [
    "lst1"
   ]
  },
  {
   "cell_type": "code",
   "execution_count": 85,
   "id": "7999add7",
   "metadata": {},
   "outputs": [
    {
     "data": {
      "text/plain": [
       "[11, 12, 13, 14, 15, 16, 17, 18, 19]"
      ]
     },
     "execution_count": 85,
     "metadata": {},
     "output_type": "execute_result"
    }
   ],
   "source": [
    "lst2"
   ]
  },
  {
   "cell_type": "code",
   "execution_count": 88,
   "id": "58a19b87",
   "metadata": {},
   "outputs": [
    {
     "data": {
      "text/plain": [
       "dict_items([(1, 11), (2, 12), (3, 13), (4, 14), (5, 15), (6, 16), (7, 17), (8, 18), (9, 19)])"
      ]
     },
     "execution_count": 88,
     "metadata": {},
     "output_type": "execute_result"
    }
   ],
   "source": [
    "dict(zip(lst1, lst2)).items()"
   ]
  },
  {
   "cell_type": "code",
   "execution_count": 95,
   "id": "142e48b1",
   "metadata": {},
   "outputs": [],
   "source": [
    "dct = {}\n",
    "for i in dict(zip(lst1, lst2)).items():\n",
    "    dct.setdefault(i[0], i[1])"
   ]
  },
  {
   "cell_type": "code",
   "execution_count": 96,
   "id": "e8ed752a",
   "metadata": {},
   "outputs": [
    {
     "data": {
      "text/plain": [
       "{1: 11, 2: 12, 3: 13, 4: 14, 5: 15, 6: 16, 7: 17, 8: 18, 9: 19}"
      ]
     },
     "execution_count": 96,
     "metadata": {},
     "output_type": "execute_result"
    }
   ],
   "source": [
    "dct"
   ]
  },
  {
   "cell_type": "code",
   "execution_count": null,
   "id": "93c09eb2",
   "metadata": {},
   "outputs": [],
   "source": []
  }
 ],
 "metadata": {
  "kernelspec": {
   "display_name": "Python 3 (ipykernel)",
   "language": "python",
   "name": "python3"
  },
  "language_info": {
   "codemirror_mode": {
    "name": "ipython",
    "version": 3
   },
   "file_extension": ".py",
   "mimetype": "text/x-python",
   "name": "python",
   "nbconvert_exporter": "python",
   "pygments_lexer": "ipython3",
   "version": "3.11.2"
  }
 },
 "nbformat": 4,
 "nbformat_minor": 5
}
